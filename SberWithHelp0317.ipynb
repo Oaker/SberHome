{
 "cells": [
  {
   "cell_type": "code",
   "execution_count": 1,
   "metadata": {},
   "outputs": [
    {
     "name": "stderr",
     "output_type": "stream",
     "text": [
      "C:\\Anaconda\\lib\\site-packages\\sklearn\\cross_validation.py:44: DeprecationWarning: This module was deprecated in version 0.18 in favor of the model_selection module into which all the refactored classes and functions are moved. Also note that the interface of the new CV iterators are different from that of this module. This module will be removed in 0.20.\n",
      "  \"This module will be removed in 0.20.\", DeprecationWarning)\n"
     ]
    }
   ],
   "source": [
    "import numpy as np\n",
    "import xgboost as xgb\n",
    "import matplotlib.pyplot as plt\n",
    "from sklearn.metrics import r2_score"
   ]
  },
  {
   "cell_type": "code",
   "execution_count": 2,
   "metadata": {
    "collapsed": true
   },
   "outputs": [],
   "source": [
    "# From here: https://www.kaggle.com/robertoruiz/sberbank-russian-housing-market/dealing-with-multicollinearity/notebook\n",
    "macro_cols = [\"balance_trade\", \"balance_trade_growth\", \"eurrub\", \"average_provision_of_build_contract\",\n",
    "\"micex_rgbi_tr\", \"micex_cbi_tr\", \"deposits_rate\", \"mortgage_value\", \"mortgage_rate\",\n",
    "\"income_per_cap\", \"rent_price_4+room_bus\", \"museum_visitis_per_100_cap\", \"apartment_build\"]\n"
   ]
  },
  {
   "cell_type": "code",
   "execution_count": 3,
   "metadata": {
    "collapsed": true
   },
   "outputs": [],
   "source": [
    "location=\"D:\\s_chernov\\AnacondaProjects\\SberHouse\\Data\\\\\"\n",
    "df_train = pd.read_csv(location+\"train.csv\", parse_dates=['timestamp'])\n",
    "df_test = pd.read_csv(location+\"test.csv\", parse_dates=['timestamp'])\n",
    "df_macro = pd.read_csv(location+\"macro.csv\", parse_dates=['timestamp'], usecols=['timestamp'] + macro_cols)\n"
   ]
  },
  {
   "cell_type": "code",
   "execution_count": 4,
   "metadata": {},
   "outputs": [
    {
     "name": "stdout",
     "output_type": "stream",
     "text": [
      "(38133, 303)\n"
     ]
    }
   ],
   "source": [
    "# ylog will be log(1+y), as suggested by https://github.com/dmlc/xgboost/issues/446#issuecomment-135555130\n",
    "ylog_train_all = np.log1p(df_train['price_doc'].values)\n",
    "y_train_all = (df_train['price_doc'].values)\n",
    "ysqrt_train_all = np.sqrt(df_train['price_doc'].values)\n",
    "id_test = df_test['id']\n",
    "\n",
    "df_train.drop(['id', 'price_doc'], axis=1, inplace=True)\n",
    "df_test.drop(['id'], axis=1, inplace=True)\n",
    "\n",
    "# Build df_all = (df_train+df_test).join(df_macro)\n",
    "num_train = len(df_train)\n",
    "df_all = pd.concat([df_train, df_test])\n",
    "df_all = pd.merge_ordered(df_all, df_macro, on='timestamp', how='left')\n",
    "print(df_all.shape)\n",
    "\n",
    "# Add month-year\n",
    "month_year = (df_all.timestamp.dt.month + df_all.timestamp.dt.year * 100)\n",
    "month_year_cnt_map = month_year.value_counts().to_dict()\n",
    "df_all['month_year_cnt'] = month_year.map(month_year_cnt_map)\n",
    "\n",
    "# Add week-year count\n",
    "week_year = (df_all.timestamp.dt.weekofyear + df_all.timestamp.dt.year * 100)\n",
    "week_year_cnt_map = week_year.value_counts().to_dict()\n",
    "df_all['week_year_cnt'] = week_year.map(week_year_cnt_map)\n",
    "\n",
    "# Add month and day-of-week\n",
    "df_all['month'] = df_all.timestamp.dt.month\n",
    "df_all['dow'] = df_all.timestamp.dt.dayofweek\n",
    "\n",
    "# Other feature engineering\n",
    "df_all['rel_floor'] = df_all['floor'] / df_all['max_floor'].astype(float)\n",
    "df_all['rel_kitch_sq'] = df_all['kitch_sq'] / df_all['full_sq'].astype(float)\n",
    "\n",
    "# Remove timestamp column (may overfit the model in train)\n",
    "df_all.drop(['timestamp'], axis=1, inplace=True)"
   ]
  },
  {
   "cell_type": "code",
   "execution_count": 5,
   "metadata": {
    "collapsed": true
   },
   "outputs": [],
   "source": [
    "# Deal with categorical values\n",
    "df_numeric = df_all.select_dtypes(exclude=['object'])\n",
    "df_obj = df_all.select_dtypes(include=['object']).copy()\n",
    "\n",
    "for c in df_obj:\n",
    "    df_obj[c] = pd.factorize(df_obj[c])[0]\n",
    "\n",
    "df_values = pd.concat([df_numeric, df_obj], axis=1)"
   ]
  },
  {
   "cell_type": "code",
   "execution_count": 6,
   "metadata": {},
   "outputs": [
    {
     "name": "stdout",
     "output_type": "stream",
     "text": [
      "(38133L, 308L)\n",
      "('X_train_all shape is', (30471L, 308L))\n",
      "('X_train shape is', (24377L, 308L))\n",
      "('y_train shape is', (24377L,))\n",
      "('X_val shape is', (6094L, 308L))\n",
      "('y_val shape is', (6094L,))\n",
      "('X_test shape is', (7662L, 308L))\n"
     ]
    }
   ],
   "source": [
    "# Convert to numpy values\n",
    "X_all = df_values.values\n",
    "print(X_all.shape)\n",
    "\n",
    "# Create a validation set, with last 20% of data\n",
    "num_val = int(num_train * 0.2)\n",
    "\n",
    "X_train_all = X_all[:num_train]\n",
    "X_train = X_all[:num_train-num_val]\n",
    "X_val = X_all[num_train-num_val:num_train]\n",
    "ylog_train = ylog_train_all[:-num_val]\n",
    "y_train=y_train_all[:-num_val]\n",
    "ysqrt_train=ysqrt_train_all[:-num_val]\n",
    "\n",
    "ylog_val = ylog_train_all[-num_val:]\n",
    "y_val = y_train_all[-num_val:]\n",
    "ysqrt_val = ysqrt_train_all[-num_val:]\n",
    "\n",
    "\n",
    "X_test = X_all[num_train:]\n",
    "\n",
    "df_columns = df_values.columns\n",
    "\n",
    "print('X_train_all shape is', X_train_all.shape)\n",
    "print('X_train shape is', X_train.shape)\n",
    "print('y_train shape is', ylog_train.shape)\n",
    "print('X_val shape is', X_val.shape)\n",
    "print('y_val shape is', ylog_val.shape)\n",
    "print('X_test shape is', X_test.shape)"
   ]
  },
  {
   "cell_type": "code",
   "execution_count": 7,
   "metadata": {
    "collapsed": true
   },
   "outputs": [],
   "source": [
    "dtrain_all = xgb.DMatrix(X_train_all, ylog_train_all, feature_names=df_columns)\n",
    "dtrain = xgb.DMatrix(X_train, ylog_train, feature_names=df_columns)\n",
    "dval = xgb.DMatrix(X_val, ylog_val, feature_names=df_columns)\n",
    "dtest = xgb.DMatrix(X_test, feature_names=df_columns)"
   ]
  },
  {
   "cell_type": "code",
   "execution_count": 8,
   "metadata": {
    "collapsed": true
   },
   "outputs": [],
   "source": [
    "dtrain_all = xgb.DMatrix(X_train_all, ysqrt_train_all, feature_names=df_columns)\n",
    "dtrain = xgb.DMatrix(X_train, ysqrt_train, feature_names=df_columns)\n",
    "dval = xgb.DMatrix(X_val, ysqrt_val, feature_names=df_columns)\n",
    "dtest = xgb.DMatrix(X_test, feature_names=df_columns)"
   ]
  },
  {
   "cell_type": "code",
   "execution_count": 9,
   "metadata": {},
   "outputs": [
    {
     "name": "stdout",
     "output_type": "stream",
     "text": [
      "[0]\tval-rmse:2685.37\n",
      "Will train until val-rmse hasn't improved in 20 rounds.\n",
      "[20]\tval-rmse:1149.02\n",
      "[40]\tval-rmse:663.835\n",
      "[60]\tval-rmse:532.622\n",
      "[80]\tval-rmse:496.88\n",
      "[100]\tval-rmse:484.047\n",
      "[120]\tval-rmse:476.756\n",
      "[140]\tval-rmse:472.721\n",
      "[160]\tval-rmse:469.956\n",
      "[180]\tval-rmse:467.716\n",
      "[200]\tval-rmse:466.322\n",
      "[220]\tval-rmse:465.251\n",
      "[240]\tval-rmse:464.757\n",
      "[260]\tval-rmse:463.88\n",
      "[280]\tval-rmse:463.383\n",
      "Stopping. Best iteration:\n",
      "[271]\tval-rmse:463.363\n",
      "\n"
     ]
    }
   ],
   "source": [
    "xgb_params = {\n",
    "    'eta': 0.05,\n",
    "    'max_depth': 5,\n",
    "    'subsample': 1.0,\n",
    "    'colsample_bytree': 0.7,\n",
    "    'objective': 'binary:logistic',\n",
    "    'eval_metric': 'rmse',\n",
    "    'silent': 1\n",
    "}\n",
    "\n",
    "np\n",
    "# Uncomment to tune XGB `num_boost_rounds`\n",
    "partial_model = xgb.train(xgb_params, dtrain, num_boost_round=1000, evals=[(dval, 'val')],\n",
    "                       early_stopping_rounds=20, verbose_eval=20)\n",
    "\n",
    "num_boost_round = partial_model.best_iteration"
   ]
  },
  {
   "cell_type": "code",
   "execution_count": 10,
   "metadata": {},
   "outputs": [
    {
     "name": "stdout",
     "output_type": "stream",
     "text": [
      "________________\n",
      "0.724200068615\n"
     ]
    },
    {
     "data": {
      "text/plain": [
       "array([ 2795.14428711,  2988.04492188,  2214.23974609, ...,  2214.26879883,\n",
       "        3125.76513672,  2277.97143555], dtype=float32)"
      ]
     },
     "execution_count": 10,
     "metadata": {},
     "output_type": "execute_result"
    }
   ],
   "source": [
    "pred = partial_model.predict(dval)\n",
    "print '________________'\n",
    "#print r2_score (y_val,np.exp(pred) - 1)\n",
    "print r2_score (y_val,pred**2)\n",
    "#print len(pred),min(pred),max(pred)\n",
    "#print len(y_test_pos),min(y_test_pos),max(y_test_pos)\n",
    "pred"
   ]
  },
  {
   "cell_type": "code",
   "execution_count": 11,
   "metadata": {
    "collapsed": true
   },
   "outputs": [],
   "source": [
    "#partial_model.get_score()"
   ]
  },
  {
   "cell_type": "code",
   "execution_count": null,
   "metadata": {
    "collapsed": true
   },
   "outputs": [],
   "source": [
    "num_boost_round = partial_model.best_iteration\n"
   ]
  },
  {
   "cell_type": "code",
   "execution_count": null,
   "metadata": {
    "collapsed": true
   },
   "outputs": [],
   "source": [
    "model = xgb.train(dict(xgb_params, silent=0), dtrain_all, num_boost_round=num_boost_round)"
   ]
  },
  {
   "cell_type": "code",
   "execution_count": null,
   "metadata": {
    "collapsed": true
   },
   "outputs": [],
   "source": [
    "#ylog_pred = model.predict(dtest)\n",
    "#y_pred = np.exp(ylog_pred) - 1\n",
    "ysqrt_pred = model.predict(dtest)\n",
    "y_pred = ysqrt_pred**2\n",
    "\n",
    "df_sub = pd.DataFrame({'id': id_test, 'price_doc': y_pred})\n",
    "\n",
    "df_sub.to_csv(location+'sub.csv', index=False)"
   ]
  },
  {
   "cell_type": "code",
   "execution_count": null,
   "metadata": {
    "collapsed": true
   },
   "outputs": [],
   "source": [
    "plt.hist(np.sqrt(df_sub.price_doc),100)\n",
    "plt.show()"
   ]
  },
  {
   "cell_type": "code",
   "execution_count": null,
   "metadata": {
    "collapsed": true
   },
   "outputs": [],
   "source": []
  }
 ],
 "metadata": {
  "kernelspec": {
   "display_name": "Python 2",
   "language": "python",
   "name": "python2"
  },
  "language_info": {
   "codemirror_mode": {
    "name": "ipython",
    "version": 2
   },
   "file_extension": ".py",
   "mimetype": "text/x-python",
   "name": "python",
   "nbconvert_exporter": "python",
   "pygments_lexer": "ipython2",
   "version": "2.7.13"
  }
 },
 "nbformat": 4,
 "nbformat_minor": 2
}
