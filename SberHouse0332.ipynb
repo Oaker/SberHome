{
 "cells": [
  {
   "cell_type": "code",
   "execution_count": 1,
   "metadata": {},
   "outputs": [
    {
     "name": "stderr",
     "output_type": "stream",
     "text": [
      "C:\\Anaconda\\lib\\site-packages\\sklearn\\cross_validation.py:44: DeprecationWarning: This module was deprecated in version 0.18 in favor of the model_selection module into which all the refactored classes and functions are moved. Also note that the interface of the new CV iterators are different from that of this module. This module will be removed in 0.20.\n",
      "  \"This module will be removed in 0.20.\", DeprecationWarning)\n"
     ]
    }
   ],
   "source": [
    "import pandas as pd\n",
    "import numpy as np\n",
    "import datetime as dt\n",
    "import matplotlib.pyplot as plt\n",
    "from sklearn.ensemble import RandomForestClassifier\n",
    "from sklearn.linear_model import Lasso\n",
    "from sklearn.metrics import r2_score\n",
    "import xgboost as xgb\n",
    "from sklearn.linear_model import LinearRegression"
   ]
  },
  {
   "cell_type": "code",
   "execution_count": 2,
   "metadata": {},
   "outputs": [
    {
     "data": {
      "text/html": [
       "<div>\n",
       "<table border=\"1\" class=\"dataframe\">\n",
       "  <thead>\n",
       "    <tr style=\"text-align: right;\">\n",
       "      <th></th>\n",
       "      <th>year_month</th>\n",
       "      <th>mean_price</th>\n",
       "    </tr>\n",
       "  </thead>\n",
       "  <tbody>\n",
       "    <tr>\n",
       "      <th>0</th>\n",
       "      <td>2015_1</td>\n",
       "      <td>196000</td>\n",
       "    </tr>\n",
       "    <tr>\n",
       "      <th>1</th>\n",
       "      <td>2015_2</td>\n",
       "      <td>200000</td>\n",
       "    </tr>\n",
       "    <tr>\n",
       "      <th>2</th>\n",
       "      <td>2015_3</td>\n",
       "      <td>205000</td>\n",
       "    </tr>\n",
       "    <tr>\n",
       "      <th>3</th>\n",
       "      <td>2015_4</td>\n",
       "      <td>180000</td>\n",
       "    </tr>\n",
       "    <tr>\n",
       "      <th>4</th>\n",
       "      <td>2015_5</td>\n",
       "      <td>180000</td>\n",
       "    </tr>\n",
       "  </tbody>\n",
       "</table>\n",
       "</div>"
      ],
      "text/plain": [
       "  year_month  mean_price\n",
       "0     2015_1      196000\n",
       "1     2015_2      200000\n",
       "2     2015_3      205000\n",
       "3     2015_4      180000\n",
       "4     2015_5      180000"
      ]
     },
     "execution_count": 2,
     "metadata": {},
     "output_type": "execute_result"
    }
   ],
   "source": [
    "location=\"D:\\s_chernov\\AnacondaProjects\\SberHouse\\Data\\\\\"\n",
    "tr=pd.read_csv(location+\"train.csv\",sep=',')\n",
    "tst=pd.read_csv(location+\"test.csv\",sep=',')\n",
    "macro=pd.read_csv(location+\"sample_submission.csv\",sep=',')\n",
    "cheat=pd.read_csv(location+\"sqprice.csv\",sep=';')\n",
    "prices=pd.read_csv(location+\"dynamic_prices.csv\",sep=';')\n",
    "prices.head()"
   ]
  },
  {
   "cell_type": "code",
   "execution_count": 3,
   "metadata": {
    "collapsed": true
   },
   "outputs": [],
   "source": [
    "from dateutil.parser import parse\n",
    "\n",
    "dfDateTime=tr[\"timestamp\"]\n",
    "b=map(parse,dfDateTime)\n",
    "year=map(lambda x:x.year,b)\n",
    "month=map(lambda x:x.month,b)\n",
    "day=map(lambda x:x.day,b)\n",
    "tr['year']=year\n",
    "tr['month']=month\n",
    "tr['day']=day\n",
    "\n",
    "dfDateTime=tst[\"timestamp\"]\n",
    "b=map(parse,dfDateTime)\n",
    "year=map(lambda x:x.year,b)\n",
    "month=map(lambda x:x.month,b)\n",
    "day=map(lambda x:x.day,b)\n",
    "tst['year']=year\n",
    "tst['month']=month\n",
    "tst['day']=day"
   ]
  },
  {
   "cell_type": "code",
   "execution_count": 4,
   "metadata": {
    "collapsed": true
   },
   "outputs": [],
   "source": [
    "tr['year_month']=map(lambda x,y:str(x)+\"_\"+str(y),tr.year,tr.month)\n",
    "tst['year_month']=map(lambda x,y:str(x)+\"_\"+str(y),tst.year,tst.month)\n",
    "\n",
    "tr=pd.merge(tr, prices, how='left', on=['year_month', 'year_month'])\n",
    "tst=pd.merge(tst, prices, how='left', on=['year_month', 'year_month'])"
   ]
  },
  {
   "cell_type": "code",
   "execution_count": 5,
   "metadata": {
    "collapsed": true
   },
   "outputs": [],
   "source": [
    "#tr=pd.concat([tr, cheat], axis=1, join='outer')\n",
    "#tst=pd.concat([tr, cheat], axis=1, join='outer')\n",
    "\n",
    "tr=pd.merge(tr, cheat, how='left', on=['sub_area', 'sub_area'])\n",
    "tst=pd.merge(tst, cheat, how='left', on=['sub_area', 'sub_area'])\n",
    "\n",
    "tr.loc[:,'cheat']=np.sqrt(tr.full_sq*tr.feb16+1)\n",
    "tst.loc[:,'cheat']=np.sqrt(tst.full_sq*tst.feb16+1)\n",
    "\n",
    "\n",
    "\n"
   ]
  },
  {
   "cell_type": "code",
   "execution_count": 6,
   "metadata": {
    "collapsed": true
   },
   "outputs": [],
   "source": [
    "tr=tr.drop('timestamp',axis=1)\n",
    "tst=tst.drop('timestamp',axis=1)"
   ]
  },
  {
   "cell_type": "code",
   "execution_count": 7,
   "metadata": {
    "collapsed": true
   },
   "outputs": [],
   "source": [
    "tr.material=np.int64(tr.material)\n",
    "tst.material=np.int64(tst.material)"
   ]
  },
  {
   "cell_type": "code",
   "execution_count": 8,
   "metadata": {
    "collapsed": true
   },
   "outputs": [],
   "source": [
    "#features by type\n",
    "response='price_doc'\n",
    "\n",
    "tr_type=(tr.dtypes==np.float64)|(tr.dtypes==np.int64)\n",
    "dig_features=list(tr.loc[:,tr_type].columns)\n",
    "dig_features.remove(response)\n",
    "tr_type=(tr.dtypes==np.object)\n",
    "obj_features=list(tr.loc[:,tr_type].columns)\n",
    "\n",
    "tr2=tr.loc[tr.year==2015]\n"
   ]
  },
  {
   "cell_type": "code",
   "execution_count": 9,
   "metadata": {},
   "outputs": [
    {
     "name": "stderr",
     "output_type": "stream",
     "text": [
      "C:\\Anaconda\\lib\\site-packages\\ipykernel\\__main__.py:4: SettingWithCopyWarning: \n",
      "A value is trying to be set on a copy of a slice from a DataFrame.\n",
      "Try using .loc[row_indexer,col_indexer] = value instead\n",
      "\n",
      "See the caveats in the documentation: http://pandas.pydata.org/pandas-docs/stable/indexing.html#indexing-view-versus-copy\n"
     ]
    }
   ],
   "source": [
    "# not finished building\n",
    "a=tr2.build_year-tr2.year\n",
    "a[(a.isnull())|(a<0)]=0\n",
    "tr2['y_build']=a\n",
    "\n",
    "a=tst.build_year-tst.year\n",
    "a[(a.isnull())|(a<0)]=0\n",
    "tst['y_build']=a"
   ]
  },
  {
   "cell_type": "code",
   "execution_count": 10,
   "metadata": {},
   "outputs": [
    {
     "name": "stderr",
     "output_type": "stream",
     "text": [
      "C:\\Anaconda\\lib\\site-packages\\ipykernel\\__main__.py:2: SettingWithCopyWarning: \n",
      "A value is trying to be set on a copy of a slice from a DataFrame.\n",
      "Try using .loc[row_indexer,col_indexer] = value instead\n",
      "\n",
      "See the caveats in the documentation: http://pandas.pydata.org/pandas-docs/stable/indexing.html#indexing-view-versus-copy\n",
      "  from ipykernel import kernelapp as app\n"
     ]
    }
   ],
   "source": [
    "a=(tr2.y_build>0).apply(int)\n",
    "tr2['flag_build']=a\n",
    "a=(tst.y_build>0).apply(int)\n",
    "tst['flag_build']=a"
   ]
  },
  {
   "cell_type": "code",
   "execution_count": 11,
   "metadata": {
    "collapsed": true
   },
   "outputs": [],
   "source": [
    "#___price and floor error\n",
    "\n",
    "#print tst.loc[(tst.floor>tst.max_floor),['id','full_sq','floor','max_floor','sub_area']]\n",
    "\n",
    "#_____price error\n",
    "#print tr2.loc[(tr2.full_sq>180) &(tr2.price_doc<10000000),['id','full_sq','price_doc','sub_area']].index\n",
    "tr2=tr2.drop( tr2.loc[(tr2.full_sq>180) &(tr2.price_doc<10000000)].index)\n",
    "\n",
    "#___max_floor error\n",
    "tr2=tr2.drop(tr2.loc[(tr2.floor>tr2.max_floor)].index)\n",
    "correct=tst.loc[(tst.floor>tst.max_floor)].index\n",
    "tst.loc[correct,'max_floor']=tst.floor[correct]+1\n",
    "tr2=tr2.drop(tr2.loc[(tr2.num_room==0)].index)\n"
   ]
  },
  {
   "cell_type": "code",
   "execution_count": 12,
   "metadata": {},
   "outputs": [
    {
     "name": "stdout",
     "output_type": "stream",
     "text": [
      "         id  full_sq  num_room            sub_area\n",
      "2804  33278     14.8         1  Chertanovo Juzhnoe\n"
     ]
    }
   ],
   "source": [
    "#___square and num_room error\n",
    "#print tr2.loc[(tr2.full_sq==64),['id','full_sq','num_room','price_doc','sub_area']]\n",
    "\n",
    "tr2.loc[28867,'num_room']=1\n",
    "tr2.loc[29172,'num_room']=2\n",
    "\n",
    "tst.loc[464,'full_sq']=42\n",
    "tst.loc[3500,'full_sq']=50\n",
    "tst.loc[6350,'full_sq']=50\n",
    "tst.loc[5383,'full_sq']=64\n",
    "tst.loc[3174,'num_room']=1\n",
    "tst.loc[6003,'num_room']=1\n",
    "tst.loc[6181,'num_room']=2\n",
    "tst.loc[7213,'num_room']=1\n",
    "tst.loc[7313,'num_room']=1\n",
    "tst.loc[1417,'num_room']=1\n",
    "tst.loc[1429,'num_room']=1\n",
    "\n",
    "#print tr2.loc[(tr2.full_sq/tr2.num_room<15),['id','full_sq','num_room','price_doc','sub_area']]\n",
    "print tst.loc[(tst.full_sq/tst.num_room<15),['id','full_sq','num_room','sub_area']]\n"
   ]
  },
  {
   "cell_type": "code",
   "execution_count": 13,
   "metadata": {
    "collapsed": true
   },
   "outputs": [],
   "source": [
    "#_________kitchen error\n",
    "\n",
    "correct=tst.loc[(tst.kitch_sq/tst.full_sq>0.5)].index\n",
    "tst.at[correct,'kitch_sq']=8\n",
    "\n",
    "correct=tr2.loc[(tr.kitch_sq/tr.full_sq>0.5)].index\n",
    "tr2.at[correct,'kitch_sq']=8\n",
    "\n",
    "#print tst.loc[(tst.kitch_sq/tst.full_sq>0.5),['id','full_sq','kitch_sq','sub_area']]\n",
    "#print tr2.loc[(tr2.kitch_sq/tr2.full_sq>0.5),['id','full_sq','kitch_sq','sub_area']]\n",
    "\n",
    "#state error\n",
    "\n",
    "tr2.at[tr2.state.isnull(),'state']=2\n",
    "tst.at[tst.state.isnull(),'state']=2\n"
   ]
  },
  {
   "cell_type": "code",
   "execution_count": 14,
   "metadata": {
    "collapsed": true
   },
   "outputs": [],
   "source": [
    "#______last and first floor\n",
    "\n",
    "tr2.loc[:,'first']=(tr2.floor==1).apply(int)\n",
    "tr2.loc[:,'last']=(tr2.floor==tr2.max_floor).apply(int)\n",
    "tst.loc[:,'first']=(tst.floor==1).apply(int)\n",
    "tst.loc[:,'last']=(tst.floor==tst.max_floor).apply(int)\n",
    "\n",
    "\n",
    "tr2.loc[:,'floor_low']=(tr2.floor<5).apply(int)\n",
    "tst.loc[:,'floor_low']=(tst.floor<5).apply(int)\n",
    "\n",
    "tr2.loc[:,'floor_5']=(tr2.floor==5).apply(int)\n",
    "tst.loc[:,'floor_5']=(tst.floor==5).apply(int)\n",
    "\n",
    "tr2.loc[:,'floor_9']=(tr2.floor==9).apply(int)\n",
    "tst.loc[:,'floor_9']=(tst.floor==9).apply(int)\n",
    "\n",
    "tr2.loc[:,'floor_12']=(tr2.floor==12).apply(int)\n",
    "tst.loc[:,'floor_12']=(tst.floor==12).apply(int)\n",
    "\n",
    "tr2.loc[:,'floor_13_18']=((tr2.max_floor>12) & (tr2.max_floor<=18)).apply(int)\n",
    "tst.loc[:,'floor_13_18']=((tst.max_floor>12) & (tst.max_floor<=18)).apply(int)\n",
    "\n",
    "tr2.loc[:,'floor_high']=(tr2.floor>18).apply(int)\n",
    "tst.loc[:,'floor_high']=(tst.floor>15).apply(int)\n"
   ]
  },
  {
   "cell_type": "code",
   "execution_count": 15,
   "metadata": {},
   "outputs": [
    {
     "data": {
      "image/png": "[encoded data removed]",
      "text/plain": [
       "<matplotlib.figure.Figure at 0x13ac6278>"
      ]
     },
     "metadata": {},
     "output_type": "display_data"
    }
   ],
   "source": [
    "tr2.loc[:,'kremlin_near']=(tr2.kremlin_km<3).apply(int)\n",
    "tst.loc[:,'kremlin_near']=(tst.kremlin_km<3).apply(int)\n",
    "\n",
    "tr2.loc[:,'kremlin_1_5']=((tr2.kremlin_km>=1) & (tr2.kremlin_km<=5)).apply(int)\n",
    "tst.loc[:,'kremlin_1_5']=((tst.kremlin_km>=1) & (tst.kremlin_km<=5)).apply(int)\n",
    "\n",
    "tr2.loc[:,'kremlin_5_10']=((tr2.kremlin_km>5) & (tr2.kremlin_km<10)).apply(int)\n",
    "tst.loc[:,'kremlin_5_10']=((tst.kremlin_km>5) & (tst.kremlin_km<10)).apply(int)\n",
    "\n",
    "\n",
    "plt.hist(tr2.kremlin_km,20)\n",
    "plt.show()"
   ]
  },
  {
   "cell_type": "code",
   "execution_count": 16,
   "metadata": {
    "collapsed": true
   },
   "outputs": [],
   "source": [
    "# month bool?\n",
    "def make_dummies(pref,source,var_name):\n",
    "    for i in var_name:\n",
    "        dummies = pd.get_dummies(source[i],prefix=pref)\n",
    "        source=pd.concat([source,dummies],axis=1)\n",
    "    return source.drop(var_name,axis=1)\n",
    "\n",
    "tr_back_up=tr2\n",
    "tst_back_up=tst\n",
    "\n",
    "tr2=make_dummies('mat',tr_back_up,['material'])\n",
    "tst=make_dummies('mat',tst_back_up,['material'])\n",
    "\n"
   ]
  },
  {
   "cell_type": "code",
   "execution_count": null,
   "metadata": {
    "collapsed": true
   },
   "outputs": [],
   "source": []
  },
  {
   "cell_type": "code",
   "execution_count": 17,
   "metadata": {
    "collapsed": true
   },
   "outputs": [],
   "source": [
    "#ownership\n",
    "\n",
    "tr2.loc[:,'own']=(tr2.product_type=='OwnerOccupier').apply(int)\n",
    "tst.loc[:,'own']=(tst.product_type=='OwnerOccupier').apply(int)\n",
    "\n",
    "#poselenie\n",
    "#area_mo='Poselenie|Silino|Troickij okrug|Matushkino|Savelki|Severnoe|Vnukovo'\n",
    "area_mo='Poselenie'\n",
    "\n",
    "\n",
    "tr2.loc[:,'poselok']=tr2.sub_area.str.contains(area_mo).apply(int)\n",
    "tst.loc[:,'poselok']=tst.sub_area.str.contains(area_mo).apply(int)\n",
    "\n",
    "#radiation\n",
    "\n",
    "tr2.loc[:,'radiate']=(tr2.radiation_raion=='yes').apply(int)\n",
    "tst.loc[:,'radiate']=(tst.radiation_raion=='yes').apply(int)\n",
    "\n"
   ]
  },
  {
   "cell_type": "code",
   "execution_count": 18,
   "metadata": {},
   "outputs": [
    {
     "data": {
      "text/plain": [
       "Index([u'id', u'full_sq', u'life_sq', u'floor', u'max_floor', u'build_year',\n",
       "       u'num_room', u'kitch_sq', u'state', u'product_type',\n",
       "       ...\n",
       "       u'kremlin_5_10', u'mat_1', u'mat_2', u'mat_3', u'mat_4', u'mat_5',\n",
       "       u'mat_6', u'own', u'poselok', u'radiate'],\n",
       "      dtype='object', length=318)"
      ]
     },
     "execution_count": 18,
     "metadata": {},
     "output_type": "execute_result"
    }
   ],
   "source": [
    "tst.columns"
   ]
  },
  {
   "cell_type": "code",
   "execution_count": 19,
   "metadata": {},
   "outputs": [
    {
     "data": {
      "image/png": "[encoded data removed]",
      "text/plain": [
       "<matplotlib.figure.Figure at 0x121092b0>"
      ]
     },
     "metadata": {},
     "output_type": "display_data"
    }
   ],
   "source": [
    "plt.hist((tr2.metro_min_avto),20)\n",
    "plt.show()\n",
    "\n",
    "#___metro features\n",
    "tr2.loc[:,'metro_near']=(tr2.metro_min_avto<=3.4).apply(int)\n",
    "tst.loc[:,'metro_near']=(tst.metro_min_avto<=3.4).apply(int)\n",
    "tr2.loc[:,'metro_far']=(tr2.metro_min_avto>=20).apply(int)\n",
    "tst.loc[:,'metro_far']=(tst.metro_min_avto>=20).apply(int)\n"
   ]
  },
  {
   "cell_type": "code",
   "execution_count": 34,
   "metadata": {
    "collapsed": true
   },
   "outputs": [],
   "source": [
    "from sklearn.model_selection import train_test_split\n",
    "\n",
    "\n",
    "features=['num_room','full_sq','kitch_sq','floor','first','last',\n",
    "          'floor_low','floor_5','floor_9','floor_12','floor_13_18','floor_high',\n",
    "          'state','kremlin_near','kremlin_1_5','kremlin_5_10','mean_price',\n",
    "          'own','metro_near','metro_far','poselok','radiate','indust_part','kindergarten_km',\n",
    "          'mat_1','mat_2','mat_4','mat_5','mat_6']\n",
    "\n",
    "features_mos=['num_room','full_sq','kitch_sq','floor','first','last',\n",
    "          'floor_low','floor_5','floor_9','floor_12','floor_13_18','floor_high',\n",
    "          'state','ttk_km','kremlin_1_5','indust_part','feb16','cheat',\n",
    "          'own','metro_near','mean_price',\n",
    "              'mat_1','mat_2','mat_4','mat_5',\n",
    "             'green_zone_km','kindergarten_km','flag_build']\n",
    "\n",
    "features_pos=['num_room','full_sq','first','last',\n",
    "          'floor_12','mkad_km','metro_min_avto','indust_part','mean_price','kindergarten_km','railroad_km',\n",
    "             'mat_1','mat_2','mat_4','mat_5','y_build']\n",
    "\n",
    "np.random.seed(123)\n",
    "\n",
    "\n",
    "\n",
    "#y_train_mos=np.sqrt(y_train_mos)\n",
    "#y_test_mos=np.sqrt(y_test_mos)"
   ]
  },
  {
   "cell_type": "code",
   "execution_count": 35,
   "metadata": {
    "collapsed": true
   },
   "outputs": [],
   "source": [
    "alph_regr=1\n",
    "xgb_params = {\n",
    "    'eta': 0.05,\n",
    "    'max_depth': 5,\n",
    "    'subsample': 1.0,\n",
    "    'colsample_bytree': 0.7,\n",
    "    'objective': 'reg:linear',\n",
    "    'eval_metric': 'rmse',\n",
    "    'silent': 1\n",
    "}\n",
    "#poselok linear\n",
    "#fit2= LinearRegression()\n"
   ]
  },
  {
   "cell_type": "code",
   "execution_count": 36,
   "metadata": {
    "collapsed": true
   },
   "outputs": [],
   "source": [
    "tr_pos=tr2[tr2.poselok==1]\n",
    "tst_pos=tst[tst.poselok==1]\n",
    "\n",
    "y_train_pos=np.sqrt(y_train_pos)\n",
    "y_test_pos=np.sqrt(y_test_pos)\n",
    "\n",
    "X_train_pos, X_test_pos, y_train_pos, y_test_pos = train_test_split(tr_pos.loc[:,features_pos], tr_pos.price_doc, test_size=0.33, random_state=42)\n",
    "\n",
    "dtrain = xgb.DMatrix(X_train_pos, y_train_pos, feature_names=features_pos)\n",
    "dval = xgb.DMatrix(X_test_pos, y_test_pos, feature_names=features_pos)"
   ]
  },
  {
   "cell_type": "code",
   "execution_count": 37,
   "metadata": {},
   "outputs": [
    {
     "name": "stdout",
     "output_type": "stream",
     "text": [
      "[0]\tval-rmse:6.0315e+06\n",
      "Will train until val-rmse hasn't improved in 20 rounds.\n",
      "[20]\tval-rmse:2.47172e+06\n",
      "[40]\tval-rmse:1.31005e+06\n",
      "[60]\tval-rmse:996294\n",
      "[80]\tval-rmse:909648\n",
      "[100]\tval-rmse:880204\n",
      "[120]\tval-rmse:863172\n",
      "[140]\tval-rmse:853833\n",
      "[160]\tval-rmse:850082\n",
      "[180]\tval-rmse:847334\n",
      "[200]\tval-rmse:845605\n",
      "[220]\tval-rmse:844257\n",
      "[240]\tval-rmse:842720\n",
      "[260]\tval-rmse:842767\n",
      "[280]\tval-rmse:842575\n",
      "Stopping. Best iteration:\n",
      "[269]\tval-rmse:841844\n",
      "\n",
      "________________\n",
      "0.852755548484\n",
      "260 1.89852e+06 1.01639e+07\n",
      "260 990000 15043290\n"
     ]
    },
    {
     "data": {
      "text/plain": [
       "{'first': 137,\n",
       " 'floor_12': 90,\n",
       " 'full_sq': 1314,\n",
       " 'indust_part': 173,\n",
       " 'kindergarten_km': 658,\n",
       " 'last': 92,\n",
       " 'mat_1': 103,\n",
       " 'mat_2': 17,\n",
       " 'mat_4': 75,\n",
       " 'mat_5': 51,\n",
       " 'mean_price': 489,\n",
       " 'metro_min_avto': 638,\n",
       " 'mkad_km': 755,\n",
       " 'num_room': 308,\n",
       " 'railroad_km': 660,\n",
       " 'y_build': 111}"
      ]
     },
     "execution_count": 37,
     "metadata": {},
     "output_type": "execute_result"
    }
   ],
   "source": [
    "partial_model = xgb.train(xgb_params, dtrain, num_boost_round=1000, evals=[(dval, 'val')],\n",
    "                       early_stopping_rounds=20, verbose_eval=20)\n",
    "\n",
    "#partial_model = xgb.train(xgb_params, dtrain, num_boost_round=1000)\n",
    "\n",
    "pred = partial_model.predict(dval)\n",
    "print '________________'\n",
    "print r2_score (y_test_pos,list(pred))\n",
    "print len(pred),min(pred),max(pred)\n",
    "print len(y_test_pos),min(y_test_pos),max(y_test_pos)\n",
    "\n",
    "best_pos = partial_model.best_iteration\n",
    "partial_model.get_score()"
   ]
  },
  {
   "cell_type": "code",
   "execution_count": null,
   "metadata": {
    "collapsed": true
   },
   "outputs": [],
   "source": []
  },
  {
   "cell_type": "code",
   "execution_count": 53,
   "metadata": {
    "collapsed": true
   },
   "outputs": [],
   "source": [
    "tr_mos=tr2[(tr2.poselok==0)]\n",
    "tst_mos=tst[tst.poselok==0]\n",
    "#tr_mos=tr2[(tr2.poselok==0)&(tr2.month>1)]\n",
    "X_train_mos, X_test_mos, y_train_mos, y_test_mos = train_test_split(tr_mos.loc[:,features_mos], tr_mos.price_doc, test_size=0.33, random_state=42)\n"
   ]
  },
  {
   "cell_type": "code",
   "execution_count": 57,
   "metadata": {},
   "outputs": [
    {
     "name": "stdout",
     "output_type": "stream",
     "text": [
      "[0]\tval-rmse:1.0286e+07\n",
      "Will train until val-rmse hasn't improved in 20 rounds.\n",
      "[20]\tval-rmse:4.96956e+06\n",
      "[40]\tval-rmse:3.58048e+06\n",
      "[60]\tval-rmse:3.22824e+06\n",
      "[80]\tval-rmse:3.12537e+06\n",
      "[100]\tval-rmse:3.09285e+06\n",
      "[120]\tval-rmse:3.08788e+06\n",
      "[140]\tval-rmse:3.0778e+06\n",
      "[160]\tval-rmse:3.06135e+06\n",
      "[180]\tval-rmse:3.06033e+06\n",
      "Stopping. Best iteration:\n",
      "[162]\tval-rmse:3.05895e+06\n",
      "\n",
      "________________\n",
      "0.739696150665\n",
      "724 3.02217e+06 5.80201e+07\n",
      "724 976000 70000000\n"
     ]
    },
    {
     "data": {
      "text/plain": [
       "{'cheat': 372,\n",
       " 'feb16': 196,\n",
       " 'first': 4,\n",
       " 'flag_build': 4,\n",
       " 'floor': 254,\n",
       " 'floor_12': 3,\n",
       " 'floor_13_18': 23,\n",
       " 'floor_5': 33,\n",
       " 'floor_9': 11,\n",
       " 'floor_high': 5,\n",
       " 'floor_low': 16,\n",
       " 'full_sq': 475,\n",
       " 'green_zone_km': 297,\n",
       " 'indust_part': 215,\n",
       " 'kindergarten_km': 317,\n",
       " 'kitch_sq': 228,\n",
       " 'kremlin_1_5': 27,\n",
       " 'last': 30,\n",
       " 'mat_1': 25,\n",
       " 'mat_2': 11,\n",
       " 'mat_4': 32,\n",
       " 'mat_5': 2,\n",
       " 'mean_price': 63,\n",
       " 'metro_near': 36,\n",
       " 'num_room': 215,\n",
       " 'own': 10,\n",
       " 'state': 120,\n",
       " 'ttk_km': 427}"
      ]
     },
     "execution_count": 57,
     "metadata": {},
     "output_type": "execute_result"
    }
   ],
   "source": [
    "dtrain = xgb.DMatrix(X_train_mos, y_train_mos, feature_names=features_mos)\n",
    "dval = xgb.DMatrix(X_test_mos, y_test_mos, feature_names=features_mos)\n",
    "partial_model = xgb.train(xgb_params, dtrain, num_boost_round=1000, evals=[(dval, 'val')],\n",
    "                       early_stopping_rounds=20, verbose_eval=20)\n",
    "\n",
    "#partial_model = xgb.train(xgb_params, dtrain, num_boost_round=1000)\n",
    "\n",
    "pred = partial_model.predict(dval)\n",
    "print '________________'\n",
    "print r2_score (y_test_mos,list(pred))\n",
    "print len(pred),min(pred),max(pred)\n",
    "print len(y_test_mos),min(y_test_mos),max(y_test_mos)\n",
    "\n",
    "best_mos = partial_model.best_iteration\n",
    "partial_model.get_score()"
   ]
  },
  {
   "cell_type": "code",
   "execution_count": 66,
   "metadata": {},
   "outputs": [
    {
     "name": "stdout",
     "output_type": "stream",
     "text": [
      "1575 1.90007e+06 1.08654e+07\n",
      "785 994.987437107 3878.56803473\n"
     ]
    }
   ],
   "source": [
    "#3BOOST for pos \n",
    "#fit = LinearRegression()\n",
    "X=tr2.loc[tr2.poselok==1,features_pos]\n",
    "Y=np.sqrt(tr2.loc[tr2.poselok==1,'price_doc'])\n",
    "dtrain_all = xgb.DMatrix(X, Y, feature_names=features_pos)\n",
    "dtest_all = xgb.DMatrix(tst.loc[tst.poselok==1,features_pos])\n",
    "\n",
    "\n",
    "fit = xgb.train(dict(xgb_params, silent=0), dtrain_all, num_boost_round=best_pos)\n",
    "\n",
    "pred_pos = fit.predict(dtest_all)\n",
    "pred_pos=pred_pos**2\n",
    "#pred_pos[pred_pos<900000]=900000\n",
    "\n",
    "print len(pred_pos),min(pred_pos),max(pred_pos)\n",
    "print len(Y),min(Y),max(Y)\n"
   ]
  },
  {
   "cell_type": "code",
   "execution_count": 67,
   "metadata": {},
   "outputs": [
    {
     "name": "stdout",
     "output_type": "stream",
     "text": [
      "6087 1.51522e+06 5.01316e+07\n",
      "2193 707.106781187 9753.07623266\n"
     ]
    }
   ],
   "source": [
    "#3BOOST for mos \n",
    "X=tr2.loc[tr2.poselok==0,features_mos]\n",
    "Y=np.sqrt(tr2.loc[tr2.poselok==0,'price_doc'])\n",
    "dtrain_all = xgb.DMatrix(X, Y, feature_names=features_mos)\n",
    "dtest_all = xgb.DMatrix(tst.loc[tst.poselok==0,features_mos])\n",
    "\n",
    "fit = xgb.train(dict(xgb_params, silent=0), dtrain_all, num_boost_round=best_mos)\n",
    "pred_mos = fit.predict(dtest_all)\n",
    "pred_mos=pred_mos**2\n",
    "#pred_pos[pred_pos<900000]=900000\n",
    "\n",
    "print len(pred_mos),min(pred_mos),max(pred_mos)\n",
    "print len(Y),min(Y),max(Y)\n",
    "\n"
   ]
  },
  {
   "cell_type": "code",
   "execution_count": 68,
   "metadata": {
    "collapsed": true
   },
   "outputs": [],
   "source": [
    "res1=pd.DataFrame({'id':tst.loc[tst.poselok==1,'id'],'price_doc':(pred_pos)})\n",
    "#print res1.describe()\n",
    "\n",
    "res2=pd.DataFrame({'id':tst.loc[tst.poselok==0,'id'],'price_doc':(pred_mos)})\n",
    "#print res2.describe()\n",
    "res=pd.concat([res1,res2])\n",
    "del res1,res2"
   ]
  },
  {
   "cell_type": "code",
   "execution_count": 69,
   "metadata": {
    "collapsed": true
   },
   "outputs": [],
   "source": [
    "#pd.DataFrame({'id':tst.id,'price_doc':(pred)}).to_csv(location+'submission.csv',sep=',',index=False)\n",
    "res.to_csv(location+'submission2.csv',sep=',',index=False)\n"
   ]
  },
  {
   "cell_type": "code",
   "execution_count": 70,
   "metadata": {
    "collapsed": true
   },
   "outputs": [],
   "source": [
    "np.random.seed(123)\n"
   ]
  },
  {
   "cell_type": "code",
   "execution_count": 72,
   "metadata": {},
   "outputs": [
    {
     "data": {
      "image/png": "[encoded data removed]",
      "text/plain": [
       "<matplotlib.figure.Figure at 0xcac2470>"
      ]
     },
     "metadata": {},
     "output_type": "display_data"
    }
   ],
   "source": [
    "plt.hist(np.sqrt(res.price_doc),100)\n",
    "plt.show()\n"
   ]
  },
  {
   "cell_type": "code",
   "execution_count": null,
   "metadata": {
    "collapsed": true
   },
   "outputs": [],
   "source": [
    "\n"
   ]
  },
  {
   "cell_type": "code",
   "execution_count": null,
   "metadata": {
    "collapsed": true
   },
   "outputs": [],
   "source": []
  }
 ],
 "metadata": {
  "kernelspec": {
   "display_name": "Python 2",
   "language": "python",
   "name": "python2"
  },
  "language_info": {
   "codemirror_mode": {
    "name": "ipython",
    "version": 2
   },
   "file_extension": ".py",
   "mimetype": "text/x-python",
   "name": "python",
   "nbconvert_exporter": "python",
   "pygments_lexer": "ipython2",
   "version": "2.7.13"
  }
 },
 "nbformat": 4,
 "nbformat_minor": 2
}
