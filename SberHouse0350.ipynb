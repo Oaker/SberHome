{
 "cells": [
  {
   "cell_type": "code",
   "execution_count": 1,
   "metadata": {
    "collapsed": true
   },
   "outputs": [],
   "source": [
    "import pandas as pd\n",
    "import numpy as np\n",
    "import datetime as dt\n",
    "import matplotlib.pyplot as plt\n",
    "from sklearn.ensemble import RandomForestClassifier\n",
    "from sklearn.linear_model import Lasso\n",
    "from sklearn.metrics import r2_score\n",
    "\n",
    "from sklearn.linear_model import LinearRegression"
   ]
  },
  {
   "cell_type": "code",
   "execution_count": 2,
   "metadata": {},
   "outputs": [
    {
     "data": {
      "text/html": [
       "<div>\n",
       "<table border=\"1\" class=\"dataframe\">\n",
       "  <thead>\n",
       "    <tr style=\"text-align: right;\">\n",
       "      <th></th>\n",
       "      <th>year_month</th>\n",
       "      <th>mean_price</th>\n",
       "    </tr>\n",
       "  </thead>\n",
       "  <tbody>\n",
       "    <tr>\n",
       "      <th>0</th>\n",
       "      <td>2015_1</td>\n",
       "      <td>196000</td>\n",
       "    </tr>\n",
       "    <tr>\n",
       "      <th>1</th>\n",
       "      <td>2015_2</td>\n",
       "      <td>200000</td>\n",
       "    </tr>\n",
       "    <tr>\n",
       "      <th>2</th>\n",
       "      <td>2015_3</td>\n",
       "      <td>205000</td>\n",
       "    </tr>\n",
       "    <tr>\n",
       "      <th>3</th>\n",
       "      <td>2015_4</td>\n",
       "      <td>180000</td>\n",
       "    </tr>\n",
       "    <tr>\n",
       "      <th>4</th>\n",
       "      <td>2015_5</td>\n",
       "      <td>180000</td>\n",
       "    </tr>\n",
       "  </tbody>\n",
       "</table>\n",
       "</div>"
      ],
      "text/plain": [
       "  year_month  mean_price\n",
       "0     2015_1      196000\n",
       "1     2015_2      200000\n",
       "2     2015_3      205000\n",
       "3     2015_4      180000\n",
       "4     2015_5      180000"
      ]
     },
     "execution_count": 2,
     "metadata": {},
     "output_type": "execute_result"
    }
   ],
   "source": [
    "location=\"D:\\s_chernov\\AnacondaProjects\\SberHouse\\Data\\\\\"\n",
    "tr=pd.read_csv(location+\"train.csv\",sep=',')\n",
    "tst=pd.read_csv(location+\"test.csv\",sep=',')\n",
    "macro=pd.read_csv(location+\"sample_submission.csv\",sep=',')\n",
    "cheat=pd.read_csv(location+\"sqprice.csv\",sep=';')\n",
    "prices=pd.read_csv(location+\"dynamic_prices.csv\",sep=';')\n",
    "prices.head()"
   ]
  },
  {
   "cell_type": "code",
   "execution_count": 3,
   "metadata": {
    "collapsed": true
   },
   "outputs": [],
   "source": [
    "from dateutil.parser import parse\n",
    "\n",
    "dfDateTime=tr[\"timestamp\"]\n",
    "b=map(parse,dfDateTime)\n",
    "year=map(lambda x:x.year,b)\n",
    "month=map(lambda x:x.month,b)\n",
    "day=map(lambda x:x.day,b)\n",
    "tr['year']=year\n",
    "tr['month']=month\n",
    "tr['day']=day\n",
    "\n",
    "dfDateTime=tst[\"timestamp\"]\n",
    "b=map(parse,dfDateTime)\n",
    "year=map(lambda x:x.year,b)\n",
    "month=map(lambda x:x.month,b)\n",
    "day=map(lambda x:x.day,b)\n",
    "tst['year']=year\n",
    "tst['month']=month\n",
    "tst['day']=day"
   ]
  },
  {
   "cell_type": "code",
   "execution_count": 4,
   "metadata": {
    "collapsed": true
   },
   "outputs": [],
   "source": [
    "tr['year_month']=map(lambda x,y:str(x)+\"_\"+str(y),tr.year,tr.month)\n",
    "tst['year_month']=map(lambda x,y:str(x)+\"_\"+str(y),tst.year,tst.month)\n",
    "\n",
    "tr=pd.merge(tr, prices, how='left', on=['year_month', 'year_month'])\n",
    "tst=pd.merge(tst, prices, how='left', on=['year_month', 'year_month'])"
   ]
  },
  {
   "cell_type": "code",
   "execution_count": 5,
   "metadata": {
    "collapsed": true
   },
   "outputs": [],
   "source": [
    "#tr=pd.concat([tr, cheat], axis=1, join='outer')\n",
    "#tst=pd.concat([tr, cheat], axis=1, join='outer')\n",
    "\n",
    "\n",
    "tr=pd.merge(tr, cheat, how='left', on=['sub_area', 'sub_area'])\n",
    "tst=pd.merge(tst, cheat, how='left', on=['sub_area', 'sub_area'])\n",
    "\n",
    "tr.loc[:,'cheat']=np.sqrt(tr.full_sq*tr.feb16+1)\n",
    "tst.loc[:,'cheat']=np.sqrt(tst.full_sq*tst.feb16+1)\n",
    "\n",
    "\n",
    "\n"
   ]
  },
  {
   "cell_type": "code",
   "execution_count": 6,
   "metadata": {
    "collapsed": true
   },
   "outputs": [],
   "source": [
    "tr=tr.drop('timestamp',axis=1)\n",
    "tst=tst.drop('timestamp',axis=1)"
   ]
  },
  {
   "cell_type": "code",
   "execution_count": 7,
   "metadata": {
    "collapsed": true
   },
   "outputs": [],
   "source": [
    "tr.material=np.int64(tr.material)\n",
    "tst.material=np.int64(tst.material)"
   ]
  },
  {
   "cell_type": "code",
   "execution_count": 8,
   "metadata": {
    "collapsed": true
   },
   "outputs": [],
   "source": [
    "#features by type\n",
    "response='price_doc'\n",
    "\n",
    "tr_type=(tr.dtypes==np.float64)|(tr.dtypes==np.int64)\n",
    "dig_features=list(tr.loc[:,tr_type].columns)\n",
    "dig_features.remove(response)\n",
    "tr_type=(tr.dtypes==np.object)\n",
    "obj_features=list(tr.loc[:,tr_type].columns)\n",
    "\n",
    "tr2=tr.loc[tr.year==2015]\n"
   ]
  },
  {
   "cell_type": "code",
   "execution_count": 9,
   "metadata": {},
   "outputs": [
    {
     "name": "stderr",
     "output_type": "stream",
     "text": [
      "C:\\Anaconda\\lib\\site-packages\\ipykernel\\__main__.py:2: SettingWithCopyWarning: \n",
      "A value is trying to be set on a copy of a slice from a DataFrame.\n",
      "Try using .loc[row_indexer,col_indexer] = value instead\n",
      "\n",
      "See the caveats in the documentation: http://pandas.pydata.org/pandas-docs/stable/indexing.html#indexing-view-versus-copy\n",
      "  from ipykernel import kernelapp as app\n",
      "C:\\Anaconda\\lib\\site-packages\\pandas\\core\\indexing.py:477: SettingWithCopyWarning: \n",
      "A value is trying to be set on a copy of a slice from a DataFrame.\n",
      "Try using .loc[row_indexer,col_indexer] = value instead\n",
      "\n",
      "See the caveats in the documentation: http://pandas.pydata.org/pandas-docs/stable/indexing.html#indexing-view-versus-copy\n",
      "  self.obj[item] = s\n",
      "C:\\Anaconda\\lib\\site-packages\\ipykernel\\__main__.py:8: SettingWithCopyWarning: \n",
      "A value is trying to be set on a copy of a slice from a DataFrame.\n",
      "Try using .loc[row_indexer,col_indexer] = value instead\n",
      "\n",
      "See the caveats in the documentation: http://pandas.pydata.org/pandas-docs/stable/indexing.html#indexing-view-versus-copy\n"
     ]
    }
   ],
   "source": [
    "#not finished to build\n",
    "tr2['y_build']=tr2.build_year-tr2.year\n",
    "tr2.loc[(tr2.y_build<0)|(tr2.y_build.isnull()),'y_build']=0\n",
    "\n",
    "tst['y_build']=tst.build_year-tst.year\n",
    "tst.loc[(tst.y_build<0)|(tst.y_build.isnull()),'y_build']=0\n",
    "\n",
    "tr2['flag_build']=(tr2.y_build>0).apply(int)\n",
    "tst['flag_build']=(tst.y_build>0).apply(int)\n"
   ]
  },
  {
   "cell_type": "code",
   "execution_count": 10,
   "metadata": {
    "collapsed": true
   },
   "outputs": [],
   "source": [
    "#___price and floor error\n",
    "\n",
    "#print tst.loc[(tst.floor>tst.max_floor),['id','full_sq','floor','max_floor','sub_area']]\n",
    "\n",
    "#_____price error\n",
    "#print tr2.loc[(tr2.full_sq>180) &(tr2.price_doc<10000000),['id','full_sq','price_doc','sub_area']].index\n",
    "tr2=tr2.drop( tr2.loc[(tr2.full_sq>180) &(tr2.price_doc<10000000)].index)\n",
    "\n",
    "#___max_floor error\n",
    "tr2=tr2.drop(tr2.loc[(tr2.floor>tr2.max_floor)].index)\n",
    "correct=tst.loc[(tst.floor>tst.max_floor)].index\n",
    "tst.loc[correct,'max_floor']=tst.floor[correct]+1\n",
    "tr2=tr2.drop(tr2.loc[(tr2.num_room==0)].index)\n"
   ]
  },
  {
   "cell_type": "code",
   "execution_count": 11,
   "metadata": {},
   "outputs": [
    {
     "name": "stdout",
     "output_type": "stream",
     "text": [
      "         id  full_sq  num_room            sub_area\n",
      "2804  33278     14.8         1  Chertanovo Juzhnoe\n"
     ]
    }
   ],
   "source": [
    "#___square and num_room error\n",
    "#print tr2.loc[(tr2.full_sq==64),['id','full_sq','num_room','price_doc','sub_area']]\n",
    "\n",
    "tr2.loc[28867,'num_room']=1\n",
    "tr2.loc[29172,'num_room']=2\n",
    "\n",
    "tst.loc[464,'full_sq']=42\n",
    "tst.loc[3500,'full_sq']=50\n",
    "tst.loc[6350,'full_sq']=50\n",
    "tst.loc[5383,'full_sq']=64\n",
    "tst.loc[3174,'num_room']=1\n",
    "tst.loc[6003,'num_room']=1\n",
    "tst.loc[6181,'num_room']=2\n",
    "tst.loc[7213,'num_room']=1\n",
    "tst.loc[7313,'num_room']=1\n",
    "tst.loc[1417,'num_room']=1\n",
    "tst.loc[1429,'num_room']=1\n",
    "\n",
    "#print tr2.loc[(tr2.full_sq/tr2.num_room<15),['id','full_sq','num_room','price_doc','sub_area']]\n",
    "print tst.loc[(tst.full_sq/tst.num_room<15),['id','full_sq','num_room','sub_area']]\n"
   ]
  },
  {
   "cell_type": "code",
   "execution_count": 12,
   "metadata": {
    "collapsed": true
   },
   "outputs": [],
   "source": [
    "#_________kitchen error\n",
    "\n",
    "correct=tst.loc[(tst.kitch_sq/tst.full_sq>0.5)].index\n",
    "tst.at[correct,'kitch_sq']=8\n",
    "\n",
    "correct=tr2.loc[(tr.kitch_sq/tr.full_sq>0.5)].index\n",
    "tr2.at[correct,'kitch_sq']=8\n",
    "\n",
    "#print tst.loc[(tst.kitch_sq/tst.full_sq>0.5),['id','full_sq','kitch_sq','sub_area']]\n",
    "#print tr2.loc[(tr2.kitch_sq/tr2.full_sq>0.5),['id','full_sq','kitch_sq','sub_area']]\n",
    "\n",
    "#state error\n",
    "\n",
    "tr2.at[tr2.state.isnull(),'state']=2\n",
    "tst.at[tst.state.isnull(),'state']=2\n"
   ]
  },
  {
   "cell_type": "code",
   "execution_count": 13,
   "metadata": {
    "collapsed": true
   },
   "outputs": [],
   "source": [
    "#______last and first floor\n",
    "\n",
    "tr2.loc[:,'first']=(tr2.floor==1).apply(int)\n",
    "tr2.loc[:,'last']=(tr2.floor==tr2.max_floor).apply(int)\n",
    "tst.loc[:,'first']=(tst.floor==1).apply(int)\n",
    "tst.loc[:,'last']=(tst.floor==tst.max_floor).apply(int)\n",
    "\n",
    "\n",
    "tr2.loc[:,'floor_low']=(tr2.floor<5).apply(int)\n",
    "tst.loc[:,'floor_low']=(tst.floor<5).apply(int)\n",
    "\n",
    "tr2.loc[:,'floor_5']=(tr2.floor==5).apply(int)\n",
    "tst.loc[:,'floor_5']=(tst.floor==5).apply(int)\n",
    "\n",
    "tr2.loc[:,'floor_9']=(tr2.floor==9).apply(int)\n",
    "tst.loc[:,'floor_9']=(tst.floor==9).apply(int)\n",
    "\n",
    "tr2.loc[:,'floor_12']=(tr2.floor==12).apply(int)\n",
    "tst.loc[:,'floor_12']=(tst.floor==12).apply(int)\n",
    "\n",
    "tr2.loc[:,'floor_13_18']=((tr2.max_floor>12) & (tr2.max_floor<=18)).apply(int)\n",
    "tst.loc[:,'floor_13_18']=((tst.max_floor>12) & (tst.max_floor<=18)).apply(int)\n",
    "\n",
    "tr2.loc[:,'floor_high']=(tr2.floor>18).apply(int)\n",
    "tst.loc[:,'floor_high']=(tst.floor>15).apply(int)\n"
   ]
  },
  {
   "cell_type": "code",
   "execution_count": 14,
   "metadata": {},
   "outputs": [
    {
     "data": {
      "image/png": "[encoded data removed]",
      "text/plain": [
       "<matplotlib.figure.Figure at 0x107ce908>"
      ]
     },
     "metadata": {},
     "output_type": "display_data"
    }
   ],
   "source": [
    "tr2.loc[:,'kremlin_near']=(tr2.kremlin_km<3).apply(int)\n",
    "tst.loc[:,'kremlin_near']=(tst.kremlin_km<3).apply(int)\n",
    "\n",
    "tr2.loc[:,'kremlin_1_5']=((tr2.kremlin_km>=1) & (tr2.kremlin_km<=5)).apply(int)\n",
    "tst.loc[:,'kremlin_1_5']=((tst.kremlin_km>=1) & (tst.kremlin_km<=5)).apply(int)\n",
    "\n",
    "tr2.loc[:,'kremlin_5_10']=((tr2.kremlin_km>5) & (tr2.kremlin_km<10)).apply(int)\n",
    "tst.loc[:,'kremlin_5_10']=((tst.kremlin_km>5) & (tst.kremlin_km<10)).apply(int)\n",
    "\n",
    "\n",
    "plt.hist(tr2.kremlin_km,20)\n",
    "plt.show()"
   ]
  },
  {
   "cell_type": "code",
   "execution_count": 15,
   "metadata": {
    "collapsed": true
   },
   "outputs": [],
   "source": [
    "# month bool?\n",
    "def make_dummies(pref,source,var_name):\n",
    "    for i in var_name:\n",
    "        dummies = pd.get_dummies(source[i],prefix=pref)\n",
    "        source=pd.concat([source,dummies],axis=1)\n",
    "    return source.drop(var_name,axis=1)\n",
    "\n",
    "tr_back_up=tr2\n",
    "tst_back_up=tst\n",
    "\n",
    "tr2=make_dummies('mat',tr_back_up,['material'])\n",
    "tst=make_dummies('mat',tst_back_up,['material'])\n",
    "\n"
   ]
  },
  {
   "cell_type": "code",
   "execution_count": null,
   "metadata": {
    "collapsed": true
   },
   "outputs": [],
   "source": []
  },
  {
   "cell_type": "code",
   "execution_count": 16,
   "metadata": {
    "collapsed": true
   },
   "outputs": [],
   "source": [
    "#ownership\n",
    "\n",
    "tr2.loc[:,'own']=(tr2.product_type=='OwnerOccupier').apply(int)\n",
    "tst.loc[:,'own']=(tst.product_type=='OwnerOccupier').apply(int)\n",
    "\n",
    "#poselenie\n",
    "#area_mo='Poselenie|Silino|Troickij okrug|Matushkino|Savelki|Severnoe|Vnukovo'\n",
    "area_mo='Poselenie'\n",
    "\n",
    "\n",
    "tr2.loc[:,'poselok']=tr2.sub_area.str.contains(area_mo).apply(int)\n",
    "tst.loc[:,'poselok']=tst.sub_area.str.contains(area_mo).apply(int)\n",
    "\n",
    "#radiation\n",
    "\n",
    "tr2.loc[:,'radiate']=(tr2.radiation_raion=='yes').apply(int)\n",
    "tst.loc[:,'radiate']=(tst.radiation_raion=='yes').apply(int)\n",
    "\n"
   ]
  },
  {
   "cell_type": "code",
   "execution_count": 17,
   "metadata": {},
   "outputs": [
    {
     "data": {
      "text/plain": [
       "Index([u'id', u'full_sq', u'life_sq', u'floor', u'max_floor', u'build_year',\n",
       "       u'num_room', u'kitch_sq', u'state', u'product_type',\n",
       "       ...\n",
       "       u'kremlin_5_10', u'mat_1', u'mat_2', u'mat_3', u'mat_4', u'mat_5',\n",
       "       u'mat_6', u'own', u'poselok', u'radiate'],\n",
       "      dtype='object', length=318)"
      ]
     },
     "execution_count": 17,
     "metadata": {},
     "output_type": "execute_result"
    }
   ],
   "source": [
    "tst.columns"
   ]
  },
  {
   "cell_type": "code",
   "execution_count": 18,
   "metadata": {},
   "outputs": [
    {
     "data": {
      "image/png": "[encoded data removed]",
      "text/plain": [
       "<matplotlib.figure.Figure at 0x12d0a320>"
      ]
     },
     "metadata": {},
     "output_type": "display_data"
    }
   ],
   "source": [
    "plt.hist((tr2.metro_min_avto),20)\n",
    "plt.show()\n",
    "\n",
    "#___metro features\n",
    "tr2.loc[:,'metro_near']=(tr2.metro_min_avto<=3.4).apply(int)\n",
    "tst.loc[:,'metro_near']=(tst.metro_min_avto<=3.4).apply(int)\n",
    "tr2.loc[:,'metro_far']=(tr2.metro_min_avto>=20).apply(int)\n",
    "tst.loc[:,'metro_far']=(tst.metro_min_avto>=20).apply(int)\n"
   ]
  },
  {
   "cell_type": "code",
   "execution_count": 19,
   "metadata": {
    "collapsed": true
   },
   "outputs": [],
   "source": [
    "\n",
    "\n",
    "\n",
    "features=['num_room','full_sq','kitch_sq','floor','first','last',\n",
    "          'floor_low','floor_5','floor_9','floor_12','floor_13_18','floor_high',\n",
    "          'state','kremlin_near','kremlin_1_5','kremlin_5_10','mean_price',\n",
    "          'own','metro_near','metro_far','poselok','radiate','indust_part','kindergarten_km',\n",
    "          'mat_1','mat_2','mat_4','mat_5','mat_6']\n",
    "\n",
    "\n",
    "\n",
    "features_mos=['num_room','full_sq','kitch_sq','floor','first','last',\n",
    "          'floor_low','floor_5','floor_9','floor_12','floor_13_18','floor_high',\n",
    "          'state','ttk_km','kremlin_1_5','indust_part','feb16','cheat',\n",
    "          'own','metro_near','mean_price',\n",
    "              'mat_1','mat_2','mat_4','mat_5',\n",
    "             'green_zone_km','kindergarten_km','flag_build']\n",
    "\n",
    "\n",
    "\n",
    "features_pos=['num_room','full_sq','first','last',\n",
    "          'floor_12','mkad_km','metro_min_avto','indust_part','mean_price','kindergarten_km','railroad_km',\n",
    "             'mat_1','mat_2','mat_4','mat_5','y_build']\n",
    "\n",
    "np.random.seed(123)\n",
    "\n",
    "\n",
    "tr_pos=tr2[tr2.poselok==1]\n",
    "tr_mos=tr2[(tr2.poselok==0)&(tr2.month>4)]\n",
    "#tr_mos=tr2[(tr2.poselok==0)]\n",
    "\n",
    "tst_pos=tst[tst.poselok==1]\n",
    "tst_mos=tst[tst.poselok==0]\n",
    "\n",
    "X_train, X_test, y_train, y_test = train_test_split(tr2.loc[:,features], tr2.price_doc, test_size=0.33, random_state=42)\n",
    "X_train_pos, X_test_pos, y_train_pos, y_test_pos = train_test_split(tr_pos.loc[:,features_pos], tr_pos.price_doc, test_size=0.33, random_state=42)\n",
    "X_train_mos, X_test_mos, y_train_mos, y_test_mos = train_test_split(tr_mos.loc[:,features_mos], tr_mos.price_doc, test_size=0.33, random_state=42)\n"
   ]
  },
  {
   "cell_type": "code",
   "execution_count": 20,
   "metadata": {
    "collapsed": true
   },
   "outputs": [],
   "source": [
    "alph_regr=1"
   ]
  },
  {
   "cell_type": "code",
   "execution_count": 22,
   "metadata": {},
   "outputs": [
    {
     "name": "stdout",
     "output_type": "stream",
     "text": [
      "[('num_room', 81.130138543445611), ('full_sq', 11.635483066740868), ('first', -27.772334487856316), ('last', 0.0), ('floor_12', 11.811320693294405), ('mkad_km', -4.6324612078838978), ('metro_min_avto', -11.8105927926592), ('indust_part', -1572.8079654999312), ('mean_price', 0.0033445340976366281), ('kindergarten_km', -16.570471706457695), ('railroad_km', -16.550410210338605), ('mat_1', 64.740483498367183), ('mat_2', -15.087411745314064), ('mat_4', 88.855002527836618), ('mat_5', 0.0), ('y_build', -20.29223149982445)]\n",
      "0.833062801082\n",
      "260 901791.715008 15645660.6975\n",
      "260 990000 15043290\n"
     ]
    }
   ],
   "source": [
    "#poselok linear\n",
    "#fit2= LinearRegression()\n",
    "fit2 = Lasso(alpha=alph_regr,fit_intercept=True,positive=False)\n",
    "fit2= fit2.fit(X_train_pos, np.sqrt(y_train_pos))\n",
    "print(zip(features_pos,fit2.coef_))\n",
    "pred = fit2.predict(X_test_pos)\n",
    "pred=pred**2\n",
    "#print fit2.score(X_test_pos,y_test_pos)\n",
    "\n",
    "pred[pred<900000]=900000\n",
    "\n",
    "print r2_score (y_test_pos,pred)\n",
    "print len(pred),min(pred),max(pred)\n",
    "print len(y_test_pos),min(y_test_pos),max(y_test_pos)\n",
    "\n"
   ]
  },
  {
   "cell_type": "code",
   "execution_count": 23,
   "metadata": {},
   "outputs": [
    {
     "name": "stdout",
     "output_type": "stream",
     "text": [
      "[('num_room', -91.390693441843226), ('full_sq', 10.863676898378815), ('kitch_sq', -10.69384780931337), ('floor', 1.518967807177706), ('first', -1018.0072954737129), ('last', -129.71693586550609), ('floor_low', -46.62044984092207), ('floor_5', -7.9641600043576117), ('floor_9', -64.147715097155398), ('floor_12', 65.165764467045307), ('floor_13_18', 79.056678973687241), ('floor_high', 344.04255037148101), ('state', 50.830745391163646), ('ttk_km', -23.873874066191682), ('kremlin_1_5', 452.86751772977573), ('indust_part', -812.03769952934886), ('feb16', -0.0064799733782427964), ('cheat', 0.72172240130469534), ('own', -0.0), ('metro_near', -14.07878317952227), ('mean_price', 1.9969617131041617e-05), ('mat_1', 138.44617204330885), ('mat_2', 254.73763482050495), ('mat_4', 168.87574541351154), ('mat_5', 278.53461300129362), ('green_zone_km', -32.038316016165695), ('kindergarten_km', -12.721517467822153), ('flag_build', 135.63166258995997)]\n",
      "________________\n",
      "0.712838844356\n",
      "203 950000.0 51511981.8188\n",
      "203 1000000 70000000\n"
     ]
    }
   ],
   "source": [
    "#moscow linear\n",
    "#fit2= LinearRegression()\n",
    "fit2 = Lasso(alpha=alph_regr,fit_intercept=True,positive=False)\n",
    "\n",
    "fit2= fit2.fit(X_train_mos, np.sqrt(y_train_mos))\n",
    "print(zip(features_mos,fit2.coef_))\n",
    "pred = fit2.predict(X_test_mos)\n",
    "pred=pred**2\n",
    "\n",
    "#print fit2.score(X_test_mos,y_test_mos)\n",
    "pred[pred<950000]=950000\n",
    "\n",
    "print '________________'\n",
    "print r2_score (y_test_mos,pred)\n",
    "print len(pred),min(pred),max(pred)\n",
    "print len(y_test_mos),min(y_test_mos),max(y_test_mos)\n",
    "\n"
   ]
  },
  {
   "cell_type": "markdown",
   "metadata": {},
   "source": [
    "np.random.seed(123)\n",
    "tr_mos=tr2[tr2.poselok==0]\n",
    "tst_mos=tst[tst.poselok==0]\n",
    "\n",
    "tr_type=(tr_mos.dtypes==np.float64)|(tr_mos.dtypes==np.int64)\n",
    "dig_features_mos=list(tr_mos.loc[:,tr_type].columns)\n",
    "X_train_mos, X_test_mos, y_train_mos, y_test_mos = train_test_split(tr_mos.loc[:,dig_features_mos], tr_mos.price_doc, test_size=0.33, random_state=42)\n",
    "\n",
    "X_train_mos[X_train_mos.isnull()]=99999\n",
    "X_test_mos[X_test_mos.isnull()]=99999\n"
   ]
  },
  {
   "cell_type": "markdown",
   "metadata": {},
   "source": [
    "np.random.seed(123)\n",
    "fit_rf = RandomForestClassifier(n_jobs=2,n_estimators=150)\n",
    "fit_rf= fit_rf.fit(X_train_mos, y_train_mos)\n",
    "pred = fit_rf.predict(X_test_mos)\n",
    "\n",
    "#pred[pred<950000]=950000\n",
    "\n",
    "print '________________'\n",
    "print r2_score (y_test_mos,pred)\n",
    "print len(pred),min(pred),max(pred)\n",
    "print len(y_test_mos),min(y_test_mos),max(y_test_mos)\n"
   ]
  },
  {
   "cell_type": "code",
   "execution_count": 24,
   "metadata": {},
   "outputs": [
    {
     "name": "stdout",
     "output_type": "stream",
     "text": [
      "1575 1499657.36248 16053841.1125\n",
      "785 990000 15043290\n"
     ]
    }
   ],
   "source": [
    "#3 linear model for pos \n",
    "#fit = LinearRegression()\n",
    "fit = Lasso(alpha=alph_regr,fit_intercept=True,positive=False)\n",
    "X=tr2.loc[tr2.poselok==1,features_pos]\n",
    "Y=tr2.loc[tr2.poselok==1,'price_doc']\n",
    "fit = fit.fit(X, np.sqrt(Y))\n",
    "\n",
    "pred_pos = fit.predict(tst.loc[tst.poselok==1,features_pos])\n",
    "pred_pos=pred_pos**2\n",
    "pred_pos[pred_pos<900000]=900000\n",
    "\n",
    "print len(pred_pos),min(pred_pos),max(pred_pos)\n",
    "print len(Y),min(Y),max(Y)\n"
   ]
  },
  {
   "cell_type": "code",
   "execution_count": 25,
   "metadata": {},
   "outputs": [
    {
     "name": "stdout",
     "output_type": "stream",
     "text": [
      "6087 900000.0 118802018.682\n"
     ]
    }
   ],
   "source": [
    "#3 linear model for pos and mos\n",
    "#fit = LinearRegression()\n",
    "fit = Lasso(alpha=alph_regr,fit_intercept=True,positive=False)\n",
    "\n",
    "X=tr2.loc[(tr2.poselok==0)&(tr2.month>2),features_mos]\n",
    "Y=tr2.loc[(tr2.poselok==0)&(tr2.month>2),'price_doc']\n",
    "fit = fit.fit(X, np.sqrt(Y))\n",
    "\n",
    "pred_mos = fit.predict(tst.loc[tst.poselok==0,features_mos])\n",
    "pred_mos=pred_mos**2\n",
    "pred_mos[pred_mos<900000]=900000\n",
    "print len(pred_mos),min(pred_mos),max(pred_mos)\n",
    "\n"
   ]
  },
  {
   "cell_type": "code",
   "execution_count": 26,
   "metadata": {
    "collapsed": true
   },
   "outputs": [],
   "source": [
    "res1=pd.DataFrame({'id':tst.loc[tst.poselok==1,'id'],'price_doc':(pred_pos)})\n",
    "#print res1.describe()\n",
    "\n",
    "res2=pd.DataFrame({'id':tst.loc[tst.poselok==0,'id'],'price_doc':(pred_mos)})\n",
    "#print res2.describe()\n",
    "res=pd.concat([res1,res2])\n",
    "del res1,res2"
   ]
  },
  {
   "cell_type": "code",
   "execution_count": 27,
   "metadata": {
    "collapsed": true
   },
   "outputs": [],
   "source": [
    "#pd.DataFrame({'id':tst.id,'price_doc':(pred)}).to_csv(location+'submission.csv',sep=',',index=False)\n",
    "res.to_csv(location+'submission2.csv',sep=',',index=False)\n"
   ]
  },
  {
   "cell_type": "code",
   "execution_count": 28,
   "metadata": {
    "collapsed": true
   },
   "outputs": [],
   "source": [
    "np.random.seed(123)\n"
   ]
  },
  {
   "cell_type": "code",
   "execution_count": 29,
   "metadata": {},
   "outputs": [
    {
     "data": {
      "image/png": "[encoded data removed]",
      "text/plain": [
       "<matplotlib.figure.Figure at 0x12e41da0>"
      ]
     },
     "metadata": {},
     "output_type": "display_data"
    }
   ],
   "source": [
    "plt.hist(np.log(res.price_doc),100)\n",
    "plt.show()"
   ]
  },
  {
   "cell_type": "code",
   "execution_count": null,
   "metadata": {
    "collapsed": true
   },
   "outputs": [],
   "source": [
    "\n"
   ]
  },
  {
   "cell_type": "code",
   "execution_count": null,
   "metadata": {
    "collapsed": true
   },
   "outputs": [],
   "source": []
  }
 ],
 "metadata": {
  "kernelspec": {
   "display_name": "Python 2",
   "language": "python",
   "name": "python2"
  },
  "language_info": {
   "codemirror_mode": {
    "name": "ipython",
    "version": 2
   },
   "file_extension": ".py",
   "mimetype": "text/x-python",
   "name": "python",
   "nbconvert_exporter": "python",
   "pygments_lexer": "ipython2",
   "version": "2.7.13"
  }
 },
 "nbformat": 4,
 "nbformat_minor": 2
}
