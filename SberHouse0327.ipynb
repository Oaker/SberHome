{
 "cells": [
  {
   "cell_type": "code",
   "execution_count": 1,
   "metadata": {},
   "outputs": [
    {
     "name": "stderr",
     "output_type": "stream",
     "text": [
      "C:\\Anaconda\\lib\\site-packages\\sklearn\\cross_validation.py:44: DeprecationWarning: This module was deprecated in version 0.18 in favor of the model_selection module into which all the refactored classes and functions are moved. Also note that the interface of the new CV iterators are different from that of this module. This module will be removed in 0.20.\n",
      "  \"This module will be removed in 0.20.\", DeprecationWarning)\n"
     ]
    }
   ],
   "source": [
    "import pandas as pd\n",
    "import numpy as np\n",
    "import datetime as dt\n",
    "import matplotlib.pyplot as plt\n",
    "from sklearn.ensemble import RandomForestClassifier\n",
    "from sklearn.linear_model import Lasso\n",
    "from sklearn.metrics import r2_score\n",
    "import xgboost as xgb\n",
    "from sklearn.linear_model import LinearRegression"
   ]
  },
  {
   "cell_type": "code",
   "execution_count": 2,
   "metadata": {},
   "outputs": [],
   "source": [
    "location=\"D:\\s_chernov\\AnacondaProjects\\SberHouse\\Data\\\\\"\n",
    "tr=pd.read_csv(location+\"train.csv\",sep=',')\n",
    "tst=pd.read_csv(location+\"test.csv\",sep=',')\n",
    "\n",
    "cheat=pd.read_csv(location+\"sqprice.csv\",sep=';')\n",
    "prices=pd.read_csv(location+\"dynamic_prices.csv\",sep=';')\n"
   ]
  },
  {
   "cell_type": "code",
   "execution_count": 3,
   "metadata": {},
   "outputs": [
    {
     "data": {
      "text/html": [
       "<div>\n",
       "<table border=\"1\" class=\"dataframe\">\n",
       "  <thead>\n",
       "    <tr style=\"text-align: right;\">\n",
       "      <th></th>\n",
       "      <th>timestamp</th>\n",
       "      <th>balance_trade</th>\n",
       "      <th>balance_trade_growth</th>\n",
       "      <th>eurrub</th>\n",
       "      <th>average_provision_of_build_contract</th>\n",
       "      <th>micex_rgbi_tr</th>\n",
       "      <th>micex_cbi_tr</th>\n",
       "      <th>deposits_rate</th>\n",
       "      <th>mortgage_value</th>\n",
       "      <th>mortgage_rate</th>\n",
       "      <th>income_per_cap</th>\n",
       "      <th>rent_price_4+room_bus</th>\n",
       "      <th>museum_visitis_per_100_cap</th>\n",
       "      <th>apartment_build</th>\n",
       "    </tr>\n",
       "  </thead>\n",
       "  <tbody>\n",
       "    <tr>\n",
       "      <th>0</th>\n",
       "      <td>2010-01-01</td>\n",
       "      <td>NaN</td>\n",
       "      <td>NaN</td>\n",
       "      <td>NaN</td>\n",
       "      <td>5.0</td>\n",
       "      <td>NaN</td>\n",
       "      <td>NaN</td>\n",
       "      <td>NaN</td>\n",
       "      <td>142968</td>\n",
       "      <td>13.72</td>\n",
       "      <td>30789.2</td>\n",
       "      <td>NaN</td>\n",
       "      <td>993.0</td>\n",
       "      <td>22825.0</td>\n",
       "    </tr>\n",
       "    <tr>\n",
       "      <th>1</th>\n",
       "      <td>2010-01-02</td>\n",
       "      <td>NaN</td>\n",
       "      <td>NaN</td>\n",
       "      <td>NaN</td>\n",
       "      <td>5.0</td>\n",
       "      <td>NaN</td>\n",
       "      <td>175.15</td>\n",
       "      <td>NaN</td>\n",
       "      <td>142968</td>\n",
       "      <td>13.72</td>\n",
       "      <td>30789.2</td>\n",
       "      <td>NaN</td>\n",
       "      <td>993.0</td>\n",
       "      <td>22825.0</td>\n",
       "    </tr>\n",
       "    <tr>\n",
       "      <th>2</th>\n",
       "      <td>2010-01-03</td>\n",
       "      <td>NaN</td>\n",
       "      <td>NaN</td>\n",
       "      <td>NaN</td>\n",
       "      <td>5.0</td>\n",
       "      <td>NaN</td>\n",
       "      <td>178.66</td>\n",
       "      <td>NaN</td>\n",
       "      <td>142968</td>\n",
       "      <td>13.72</td>\n",
       "      <td>30789.2</td>\n",
       "      <td>NaN</td>\n",
       "      <td>993.0</td>\n",
       "      <td>22825.0</td>\n",
       "    </tr>\n",
       "    <tr>\n",
       "      <th>3</th>\n",
       "      <td>2010-01-04</td>\n",
       "      <td>NaN</td>\n",
       "      <td>NaN</td>\n",
       "      <td>43.4054</td>\n",
       "      <td>5.0</td>\n",
       "      <td>NaN</td>\n",
       "      <td>183.44</td>\n",
       "      <td>NaN</td>\n",
       "      <td>142968</td>\n",
       "      <td>13.72</td>\n",
       "      <td>30789.2</td>\n",
       "      <td>NaN</td>\n",
       "      <td>993.0</td>\n",
       "      <td>22825.0</td>\n",
       "    </tr>\n",
       "    <tr>\n",
       "      <th>4</th>\n",
       "      <td>2010-01-05</td>\n",
       "      <td>NaN</td>\n",
       "      <td>NaN</td>\n",
       "      <td>42.9600</td>\n",
       "      <td>5.0</td>\n",
       "      <td>NaN</td>\n",
       "      <td>183.44</td>\n",
       "      <td>NaN</td>\n",
       "      <td>142968</td>\n",
       "      <td>13.72</td>\n",
       "      <td>30789.2</td>\n",
       "      <td>NaN</td>\n",
       "      <td>993.0</td>\n",
       "      <td>22825.0</td>\n",
       "    </tr>\n",
       "  </tbody>\n",
       "</table>\n",
       "</div>"
      ],
      "text/plain": [
       "    timestamp  balance_trade  balance_trade_growth   eurrub  \\\n",
       "0  2010-01-01            NaN                   NaN      NaN   \n",
       "1  2010-01-02            NaN                   NaN      NaN   \n",
       "2  2010-01-03            NaN                   NaN      NaN   \n",
       "3  2010-01-04            NaN                   NaN  43.4054   \n",
       "4  2010-01-05            NaN                   NaN  42.9600   \n",
       "\n",
       "   average_provision_of_build_contract  micex_rgbi_tr  micex_cbi_tr  \\\n",
       "0                                  5.0            NaN           NaN   \n",
       "1                                  5.0            NaN        175.15   \n",
       "2                                  5.0            NaN        178.66   \n",
       "3                                  5.0            NaN        183.44   \n",
       "4                                  5.0            NaN        183.44   \n",
       "\n",
       "   deposits_rate  mortgage_value  mortgage_rate  income_per_cap  \\\n",
       "0            NaN          142968          13.72         30789.2   \n",
       "1            NaN          142968          13.72         30789.2   \n",
       "2            NaN          142968          13.72         30789.2   \n",
       "3            NaN          142968          13.72         30789.2   \n",
       "4            NaN          142968          13.72         30789.2   \n",
       "\n",
       "   rent_price_4+room_bus  museum_visitis_per_100_cap  apartment_build  \n",
       "0                    NaN                       993.0          22825.0  \n",
       "1                    NaN                       993.0          22825.0  \n",
       "2                    NaN                       993.0          22825.0  \n",
       "3                    NaN                       993.0          22825.0  \n",
       "4                    NaN                       993.0          22825.0  "
      ]
     },
     "execution_count": 3,
     "metadata": {},
     "output_type": "execute_result"
    }
   ],
   "source": [
    "macro_cols = [\"balance_trade\", \"balance_trade_growth\", \"eurrub\", \"average_provision_of_build_contract\",\n",
    "\"micex_rgbi_tr\", \"micex_cbi_tr\", \"deposits_rate\", \"mortgage_value\", \"mortgage_rate\",\n",
    "\"income_per_cap\", \"rent_price_4+room_bus\", \"museum_visitis_per_100_cap\", \"apartment_build\"]\n",
    "\n",
    "macro = pd.read_csv(location+\"macro.csv\", usecols=['timestamp'] + macro_cols)\n",
    "macro.head()"
   ]
  },
  {
   "cell_type": "code",
   "execution_count": 4,
   "metadata": {},
   "outputs": [],
   "source": [
    "from dateutil.parser import parse\n",
    "\n",
    "dfDateTime=tr[\"timestamp\"]\n",
    "b=map(parse,dfDateTime)\n",
    "year=map(lambda x:x.year,b)\n",
    "month=map(lambda x:x.month,b)\n",
    "day=map(lambda x:x.day,b)\n",
    "tr['year']=year\n",
    "tr['month']=month\n",
    "tr['day']=day\n",
    "\n",
    "dfDateTime=tst[\"timestamp\"]\n",
    "b=map(parse,dfDateTime)\n",
    "year=map(lambda x:x.year,b)\n",
    "month=map(lambda x:x.month,b)\n",
    "day=map(lambda x:x.day,b)\n",
    "tst['year']=year\n",
    "tst['month']=month\n",
    "tst['day']=day\n",
    "\n",
    "dfDateTime=macro[\"timestamp\"]\n",
    "b=map(parse,dfDateTime)\n",
    "year=map(lambda x:x.year,b)\n",
    "month=map(lambda x:x.month,b)\n",
    "day=map(lambda x:x.day,b)\n",
    "macro['year']=year\n",
    "macro['month']=month\n",
    "macro['day']=day\n"
   ]
  },
  {
   "cell_type": "code",
   "execution_count": 5,
   "metadata": {},
   "outputs": [
    {
     "name": "stdout",
     "output_type": "stream",
     "text": [
      "            micex_cbi_tr     eurrub  mortgage_rate year_month\n",
      "year_month                                                   \n",
      "2010_1        178.836333  42.563157          13.72     2010_1\n",
      "2010_10       190.704839  42.158577          13.22    2010_10\n",
      "2010_11       190.641667  42.280430          12.75    2010_11\n",
      "2010_12       191.142903  40.738913          12.61    2010_12\n",
      "2010_2        182.361071  41.178407          13.93     2010_2\n",
      "2010_3        184.232903  40.109948          13.64     2010_3\n",
      "2010_4        185.319000  39.184667          13.42     2010_4\n",
      "2010_5        185.331935  38.329561          13.41     2010_5\n",
      "2010_6        187.974333  38.192767          13.41     2010_6\n",
      "2010_7        188.841935  39.159297          13.32     2010_7\n",
      "2010_8        189.113548  39.191787          13.16     2010_8\n",
      "2010_9        190.015667  40.261990          13.30     2010_9\n",
      "2011_1        198.184839  40.280884          12.45     2011_1\n",
      "2011_10       203.691935  42.845948          11.57    2011_10\n",
      "2011_11       204.169667  41.829330          11.74    2011_11\n",
      "2011_12       204.342581  41.494119          11.40    2011_12\n",
      "2011_2        199.616786  39.907414          12.63     2011_2\n",
      "2011_3        200.360000  39.836513          12.43     2011_3\n",
      "2011_4        201.565333  40.552077          12.37     2011_4\n",
      "2011_5        202.352258  40.001681          12.12     2011_5\n",
      "2011_6        203.657667  40.298770          12.16     2011_6\n",
      "2011_7        204.514839  39.881516          12.09     2011_7\n",
      "2011_8        204.315806  41.298690          11.84     2011_8\n",
      "2011_9        204.081333  42.212883          11.92     2011_9\n",
      "2012_1        209.793226  40.431187          11.63     2012_1\n",
      "2012_10       217.696452  40.384803          12.34    2012_10\n",
      "2012_11       218.219667  40.268100          12.44    2012_11\n",
      "2012_12       219.858065  40.272506          12.55    2012_12\n",
      "2012_2        211.539655  39.420041          11.83     2012_2\n",
      "2012_3        212.480645  38.768281          11.92     2012_3\n",
      "...                  ...        ...            ...        ...\n",
      "2014_2        245.872143  48.167668          12.28     2014_2\n",
      "2014_3        243.673226  49.982303          12.29     2014_3\n",
      "2014_4        244.311000  49.256093          11.97     2014_4\n",
      "2014_5        245.220645  47.898539          12.30     2014_5\n",
      "2014_6        246.576333  46.720160          12.20     2014_6\n",
      "2014_7        247.355484  47.026474          12.23     2014_7\n",
      "2014_8        247.130968  48.214242          12.22     2014_8\n",
      "2014_9        247.002667  49.017653          12.29     2014_9\n",
      "2015_1        245.748065  74.449200          13.17     2015_1\n",
      "2015_10       272.608065  70.793623          13.12    2015_10\n",
      "2015_11       273.372667  69.855380          12.89    2015_11\n",
      "2015_12       274.774839  76.423452          12.29    2015_12\n",
      "2015_2        250.648214  72.846461          14.16     2015_2\n",
      "2015_3        252.794516  65.020319          14.71     2015_3\n",
      "2015_4        257.738667  57.278843          14.70     2015_4\n",
      "2015_5        262.405161  56.632297          14.05     2015_5\n",
      "2015_6        265.707667  61.427083          13.46     2015_6\n",
      "2015_7        269.091613  63.082881          13.29     2015_7\n",
      "2015_8        267.715806  72.853671          13.44     2015_8\n",
      "2015_9        268.333333  75.110173          12.88     2015_9\n",
      "2016_1        291.126129  83.151352          12.92     2016_1\n",
      "2016_10       307.678947  69.561095          12.66    2016_10\n",
      "2016_2        295.407931  85.822779          12.51     2016_2\n",
      "2016_3        297.460968  77.773316          12.10     2016_3\n",
      "2016_4        299.289667  75.490410          12.86     2016_4\n",
      "2016_5        301.218387  74.407897          12.94     2016_5\n",
      "2016_6        303.456667  73.119167          12.99     2016_6\n",
      "2016_7        306.301290  71.247874          12.99     2016_7\n",
      "2016_8        307.282258  72.629252          12.82     2016_8\n",
      "2016_9        309.093000  72.343307          12.66     2016_9\n",
      "\n",
      "[82 rows x 4 columns]\n"
     ]
    }
   ],
   "source": [
    "macro['year_month']=map(lambda x,y:str(x)+\"_\"+str(y),macro.year,macro.month)\n",
    "macro2=macro.loc[:,['year_month','micex_cbi_tr','eurrub','mortgage_rate']].groupby(['year_month']).mean()\n",
    "macro2['year_month']=macro2.index\n",
    "print macro2\n"
   ]
  },
  {
   "cell_type": "code",
   "execution_count": 6,
   "metadata": {
    "collapsed": true
   },
   "outputs": [],
   "source": [
    "tr['year_month']=map(lambda x,y:str(x)+\"_\"+str(y),tr.year,tr.month)\n",
    "tst['year_month']=map(lambda x,y:str(x)+\"_\"+str(y),tst.year,tst.month)\n",
    "\n",
    "tr=pd.merge(tr, prices, how='left', on=['year_month', 'year_month'])\n",
    "tst=pd.merge(tst, prices, how='left', on=['year_month', 'year_month'])\n",
    "\n",
    "tr=pd.merge(tr, macro2, how='left', on=['year_month', 'year_month'])\n",
    "tst=pd.merge(tst, macro2, how='left', on=['year_month', 'year_month'])"
   ]
  },
  {
   "cell_type": "code",
   "execution_count": 7,
   "metadata": {
    "collapsed": true
   },
   "outputs": [],
   "source": [
    "#tr=pd.concat([tr, cheat], axis=1, join='outer')\n",
    "#tst=pd.concat([tr, cheat], axis=1, join='outer')\n",
    "\n",
    "\n",
    "tr=pd.merge(tr, cheat, how='left', on=['sub_area', 'sub_area'])\n",
    "tst=pd.merge(tst, cheat, how='left', on=['sub_area', 'sub_area'])\n",
    "\n",
    "tr.loc[:,'cheat']=np.sqrt(tr.full_sq*tr.feb16+1)\n",
    "tst.loc[:,'cheat']=np.sqrt(tst.full_sq*tst.feb16+1)\n",
    "\n",
    "\n",
    "\n"
   ]
  },
  {
   "cell_type": "code",
   "execution_count": 8,
   "metadata": {
    "collapsed": true
   },
   "outputs": [],
   "source": [
    "tr=tr.drop('timestamp',axis=1)\n",
    "tst=tst.drop('timestamp',axis=1)"
   ]
  },
  {
   "cell_type": "code",
   "execution_count": 9,
   "metadata": {
    "collapsed": true
   },
   "outputs": [],
   "source": [
    "tr.material=np.int64(tr.material)\n",
    "tst.material=np.int64(tst.material)"
   ]
  },
  {
   "cell_type": "code",
   "execution_count": 10,
   "metadata": {
    "collapsed": true
   },
   "outputs": [],
   "source": [
    "#features by type\n",
    "response='price_doc'\n",
    "\n",
    "tr_type=(tr.dtypes==np.float64)|(tr.dtypes==np.int64)\n",
    "dig_features=list(tr.loc[:,tr_type].columns)\n",
    "dig_features.remove(response)\n",
    "tr_type=(tr.dtypes==np.object)\n",
    "obj_features=list(tr.loc[:,tr_type].columns)\n",
    "\n",
    "tr2=tr.loc[tr.year==2015]\n"
   ]
  },
  {
   "cell_type": "code",
   "execution_count": 11,
   "metadata": {},
   "outputs": [
    {
     "name": "stderr",
     "output_type": "stream",
     "text": [
      "C:\\Anaconda\\lib\\site-packages\\ipykernel\\__main__.py:4: SettingWithCopyWarning: \n",
      "A value is trying to be set on a copy of a slice from a DataFrame.\n",
      "Try using .loc[row_indexer,col_indexer] = value instead\n",
      "\n",
      "See the caveats in the documentation: http://pandas.pydata.org/pandas-docs/stable/indexing.html#indexing-view-versus-copy\n"
     ]
    }
   ],
   "source": [
    "# not finished building\n",
    "a=tr2.build_year-tr2.year\n",
    "a[(a.isnull())|(a<0)]=0\n",
    "tr2['y_build']=a\n",
    "\n",
    "a=tst.build_year-tst.year\n",
    "a[(a.isnull())|(a<0)]=0\n",
    "tst['y_build']=a"
   ]
  },
  {
   "cell_type": "code",
   "execution_count": 12,
   "metadata": {},
   "outputs": [
    {
     "name": "stderr",
     "output_type": "stream",
     "text": [
      "C:\\Anaconda\\lib\\site-packages\\ipykernel\\__main__.py:2: SettingWithCopyWarning: \n",
      "A value is trying to be set on a copy of a slice from a DataFrame.\n",
      "Try using .loc[row_indexer,col_indexer] = value instead\n",
      "\n",
      "See the caveats in the documentation: http://pandas.pydata.org/pandas-docs/stable/indexing.html#indexing-view-versus-copy\n",
      "  from ipykernel import kernelapp as app\n"
     ]
    }
   ],
   "source": [
    "a=(tr2.y_build>0).apply(int)\n",
    "tr2['flag_build']=a\n",
    "a=(tst.y_build>0).apply(int)\n",
    "tst['flag_build']=a"
   ]
  },
  {
   "cell_type": "code",
   "execution_count": 13,
   "metadata": {
    "collapsed": true
   },
   "outputs": [],
   "source": [
    "#___price and floor error\n",
    "\n",
    "#print tst.loc[(tst.floor>tst.max_floor),['id','full_sq','floor','max_floor','sub_area']]\n",
    "\n",
    "#_____price error\n",
    "#print tr2.loc[(tr2.full_sq>180) &(tr2.price_doc<10000000),['id','full_sq','price_doc','sub_area']].index\n",
    "tr2=tr2.drop( tr2.loc[(tr2.full_sq>180) &(tr2.price_doc<10000000)].index)\n",
    "\n",
    "#___max_floor error\n",
    "tr2=tr2.drop(tr2.loc[(tr2.floor>tr2.max_floor)].index)\n",
    "correct=tst.loc[(tst.floor>tst.max_floor)].index\n",
    "tst.loc[correct,'max_floor']=tst.floor[correct]+1\n",
    "tr2=tr2.drop(tr2.loc[(tr2.num_room==0)].index)\n"
   ]
  },
  {
   "cell_type": "code",
   "execution_count": 14,
   "metadata": {},
   "outputs": [
    {
     "name": "stdout",
     "output_type": "stream",
     "text": [
      "         id  full_sq  num_room            sub_area\n",
      "2804  33278     14.8         1  Chertanovo Juzhnoe\n"
     ]
    }
   ],
   "source": [
    "#___square and num_room error\n",
    "#print tr2.loc[(tr2.full_sq==64),['id','full_sq','num_room','price_doc','sub_area']]\n",
    "\n",
    "tr2.loc[28867,'num_room']=1\n",
    "tr2.loc[29172,'num_room']=2\n",
    "\n",
    "tst.loc[464,'full_sq']=42\n",
    "tst.loc[3500,'full_sq']=50\n",
    "tst.loc[6350,'full_sq']=50\n",
    "tst.loc[5383,'full_sq']=64\n",
    "tst.loc[3174,'num_room']=1\n",
    "tst.loc[6003,'num_room']=1\n",
    "tst.loc[6181,'num_room']=2\n",
    "tst.loc[7213,'num_room']=1\n",
    "tst.loc[7313,'num_room']=1\n",
    "tst.loc[1417,'num_room']=1\n",
    "tst.loc[1429,'num_room']=1\n",
    "\n",
    "#print tr2.loc[(tr2.full_sq/tr2.num_room<15),['id','full_sq','num_room','price_doc','sub_area']]\n",
    "print tst.loc[(tst.full_sq/tst.num_room<15),['id','full_sq','num_room','sub_area']]\n"
   ]
  },
  {
   "cell_type": "code",
   "execution_count": 15,
   "metadata": {
    "collapsed": true
   },
   "outputs": [],
   "source": [
    "#_________kitchen error\n",
    "\n",
    "correct=tst.loc[(tst.kitch_sq/tst.full_sq>0.5)].index\n",
    "tst.at[correct,'kitch_sq']=8\n",
    "\n",
    "correct=tr2.loc[(tr.kitch_sq/tr.full_sq>0.5)].index\n",
    "tr2.at[correct,'kitch_sq']=8\n",
    "\n",
    "#print tst.loc[(tst.kitch_sq/tst.full_sq>0.5),['id','full_sq','kitch_sq','sub_area']]\n",
    "#print tr2.loc[(tr2.kitch_sq/tr2.full_sq>0.5),['id','full_sq','kitch_sq','sub_area']]\n",
    "\n",
    "#state error\n",
    "\n",
    "tr2.at[tr2.state.isnull(),'state']=2\n",
    "tst.at[tst.state.isnull(),'state']=2\n"
   ]
  },
  {
   "cell_type": "code",
   "execution_count": 16,
   "metadata": {
    "collapsed": true
   },
   "outputs": [],
   "source": [
    "#______last and first floor\n",
    "\n",
    "tr2.loc[:,'first']=(tr2.floor==1).apply(int)\n",
    "tr2.loc[:,'last']=(tr2.floor==tr2.max_floor).apply(int)\n",
    "tst.loc[:,'first']=(tst.floor==1).apply(int)\n",
    "tst.loc[:,'last']=(tst.floor==tst.max_floor).apply(int)\n",
    "\n",
    "\n",
    "tr2.loc[:,'floor_low']=(tr2.floor<5).apply(int)\n",
    "tst.loc[:,'floor_low']=(tst.floor<5).apply(int)\n",
    "\n",
    "tr2.loc[:,'floor_5']=(tr2.floor==5).apply(int)\n",
    "tst.loc[:,'floor_5']=(tst.floor==5).apply(int)\n",
    "\n",
    "tr2.loc[:,'floor_9']=(tr2.floor==9).apply(int)\n",
    "tst.loc[:,'floor_9']=(tst.floor==9).apply(int)\n",
    "\n",
    "tr2.loc[:,'floor_12']=(tr2.floor==12).apply(int)\n",
    "tst.loc[:,'floor_12']=(tst.floor==12).apply(int)\n",
    "\n",
    "tr2.loc[:,'floor_13_18']=((tr2.max_floor>12) & (tr2.max_floor<=18)).apply(int)\n",
    "tst.loc[:,'floor_13_18']=((tst.max_floor>12) & (tst.max_floor<=18)).apply(int)\n",
    "\n",
    "tr2.loc[:,'floor_high']=(tr2.floor>18).apply(int)\n",
    "tst.loc[:,'floor_high']=(tst.floor>15).apply(int)\n"
   ]
  },
  {
   "cell_type": "code",
   "execution_count": 17,
   "metadata": {},
   "outputs": [
    {
     "data": {
      "image/png": "[encoded data removed]",
      "text/plain": [
       "<matplotlib.figure.Figure at 0x1213ce80>"
      ]
     },
     "metadata": {},
     "output_type": "display_data"
    }
   ],
   "source": [
    "tr2.loc[:,'kremlin_near']=(tr2.kremlin_km<3).apply(int)\n",
    "tst.loc[:,'kremlin_near']=(tst.kremlin_km<3).apply(int)\n",
    "\n",
    "tr2.loc[:,'kremlin_1_5']=((tr2.kremlin_km>=1) & (tr2.kremlin_km<=5)).apply(int)\n",
    "tst.loc[:,'kremlin_1_5']=((tst.kremlin_km>=1) & (tst.kremlin_km<=5)).apply(int)\n",
    "\n",
    "tr2.loc[:,'kremlin_5_10']=((tr2.kremlin_km>5) & (tr2.kremlin_km<10)).apply(int)\n",
    "tst.loc[:,'kremlin_5_10']=((tst.kremlin_km>5) & (tst.kremlin_km<10)).apply(int)\n",
    "\n",
    "\n",
    "plt.hist(tr2.kremlin_km,20)\n",
    "plt.show()"
   ]
  },
  {
   "cell_type": "code",
   "execution_count": 18,
   "metadata": {
    "collapsed": true
   },
   "outputs": [],
   "source": [
    "# month bool?\n",
    "def make_dummies(pref,source,var_name):\n",
    "    for i in var_name:\n",
    "        dummies = pd.get_dummies(source[i],prefix=pref)\n",
    "        source=pd.concat([source,dummies],axis=1)\n",
    "    return source.drop(var_name,axis=1)\n",
    "\n",
    "tr_back_up=tr2\n",
    "tst_back_up=tst\n",
    "\n",
    "tr2=make_dummies('mat',tr_back_up,['material'])\n",
    "tst=make_dummies('mat',tst_back_up,['material'])\n",
    "\n"
   ]
  },
  {
   "cell_type": "code",
   "execution_count": null,
   "metadata": {
    "collapsed": true
   },
   "outputs": [],
   "source": []
  },
  {
   "cell_type": "code",
   "execution_count": 19,
   "metadata": {
    "collapsed": true
   },
   "outputs": [],
   "source": [
    "#ownership\n",
    "\n",
    "tr2.loc[:,'own']=(tr2.product_type=='OwnerOccupier').apply(int)\n",
    "tst.loc[:,'own']=(tst.product_type=='OwnerOccupier').apply(int)\n",
    "\n",
    "#poselenie\n",
    "#area_mo='Poselenie|Silino|Troickij okrug|Matushkino|Savelki|Severnoe|Vnukovo'\n",
    "area_mo='Poselenie'\n",
    "\n",
    "\n",
    "tr2.loc[:,'poselok']=tr2.sub_area.str.contains(area_mo).apply(int)\n",
    "tst.loc[:,'poselok']=tst.sub_area.str.contains(area_mo).apply(int)\n",
    "\n",
    "#radiation\n",
    "\n",
    "tr2.loc[:,'radiate']=(tr2.radiation_raion=='yes').apply(int)\n",
    "tst.loc[:,'radiate']=(tst.radiation_raion=='yes').apply(int)\n",
    "\n"
   ]
  },
  {
   "cell_type": "code",
   "execution_count": 20,
   "metadata": {},
   "outputs": [
    {
     "data": {
      "text/plain": [
       "Index([u'id', u'full_sq', u'life_sq', u'floor', u'max_floor', u'build_year',\n",
       "       u'num_room', u'kitch_sq', u'state', u'product_type',\n",
       "       ...\n",
       "       u'kremlin_5_10', u'mat_1', u'mat_2', u'mat_3', u'mat_4', u'mat_5',\n",
       "       u'mat_6', u'own', u'poselok', u'radiate'],\n",
       "      dtype='object', length=321)"
      ]
     },
     "execution_count": 20,
     "metadata": {},
     "output_type": "execute_result"
    }
   ],
   "source": [
    "tst.columns"
   ]
  },
  {
   "cell_type": "code",
   "execution_count": 21,
   "metadata": {},
   "outputs": [
    {
     "data": {
      "image/png": "[encoded data removed]",
      "text/plain": [
       "<matplotlib.figure.Figure at 0x13677fd0>"
      ]
     },
     "metadata": {},
     "output_type": "display_data"
    }
   ],
   "source": [
    "plt.hist((tr2.metro_min_avto),20)\n",
    "plt.show()\n",
    "\n",
    "#___metro features\n",
    "tr2.loc[:,'metro_near']=(tr2.metro_min_avto<=3.4).apply(int)\n",
    "tst.loc[:,'metro_near']=(tst.metro_min_avto<=3.4).apply(int)\n",
    "tr2.loc[:,'metro_far']=(tr2.metro_min_avto>=20).apply(int)\n",
    "tst.loc[:,'metro_far']=(tst.metro_min_avto>=20).apply(int)\n"
   ]
  },
  {
   "cell_type": "code",
   "execution_count": 22,
   "metadata": {
    "collapsed": true
   },
   "outputs": [],
   "source": [
    "from sklearn.model_selection import train_test_split\n",
    "\n",
    "\n",
    "features=['num_room','full_sq','kitch_sq','floor','first','last',\n",
    "          'floor_low','floor_5','floor_9','floor_12','floor_13_18','floor_high',\n",
    "          'state','kremlin_near','kremlin_1_5','kremlin_5_10','mean_price',\n",
    "          'own','metro_near','metro_far','poselok','radiate','indust_part','kindergarten_km',\n",
    "          'mat_1','mat_2','mat_4','mat_5','mat_6']\n",
    "\n",
    "features_mos=['num_room','full_sq','kitch_sq','floor','first','last',\n",
    "          'floor_low','floor_5','floor_9','floor_12','floor_13_18','floor_high',\n",
    "          'state','ttk_km','kremlin_1_5','indust_part','feb16','cheat',\n",
    "          'own','metro_near','mean_price',\n",
    "              'mat_1','mat_2','mat_4','mat_5',\n",
    "             'green_zone_km','kindergarten_km','flag_build',\n",
    "             'life_sq','build_year','public_healthcare_km','metro_min_avto',\n",
    "             'workplaces_km','mosque_km','park_km','railroad'\n",
    "             'micex_cbi_tr','eurrub','mortgage_rate']\n",
    "\n",
    "features_pos=['num_room','full_sq','first','last',\n",
    "          'floor_12','mkad_km','metro_min_avto','indust_part','mean_price','kindergarten_km','railroad_km',\n",
    "             'mat_1','mat_2','mat_4','mat_5','y_build',\n",
    "             'life_sq','build_year','max_floor','public_healthcare_km',\n",
    "             'workplaces_km','mosque_km','park_km',\n",
    "             'micex_cbi_tr','eurrub','mortgage_rate']\n",
    "\n",
    "np.random.seed(123)\n",
    "\n",
    "\n",
    "\n",
    "#y_train_mos=np.sqrt(y_train_mos)\n",
    "#y_test_mos=np.sqrt(y_test_mos)"
   ]
  },
  {
   "cell_type": "code",
   "execution_count": 23,
   "metadata": {
    "collapsed": true
   },
   "outputs": [],
   "source": [
    "alph_regr=1\n",
    "xgb_params = {\n",
    "    'eta': 0.05,\n",
    "    'max_depth': 5,\n",
    "    'subsample': 1.0,\n",
    "    'colsample_bytree': 0.7,\n",
    "    'objective': 'reg:linear',\n",
    "    'eval_metric': 'rmse',\n",
    "    'silent': 1\n",
    "}\n",
    "#poselok linear\n",
    "#fit2= LinearRegression()\n"
   ]
  },
  {
   "cell_type": "code",
   "execution_count": 24,
   "metadata": {
    "collapsed": true
   },
   "outputs": [],
   "source": [
    "tr_pos=tr2[tr2.poselok==1]\n",
    "tst_pos=tst[tst.poselok==1]\n",
    "\n",
    "X_train_pos, X_test_pos, y_train_pos, y_test_pos = train_test_split(tr_pos.loc[:,features_pos], tr_pos.price_doc, test_size=0.33, random_state=42)\n",
    "\n",
    "y_train_pos=np.sqrt(y_train_pos)\n",
    "y_test_pos=np.sqrt(y_test_pos)\n",
    "\n"
   ]
  },
  {
   "cell_type": "code",
   "execution_count": 71,
   "metadata": {},
   "outputs": [
    {
     "name": "stdout",
     "output_type": "stream",
     "text": [
      "[0]\tval-rmse:2317.05\n",
      "Will train until val-rmse hasn't improved in 20 rounds.\n",
      "[20]\tval-rmse:872.012\n",
      "[40]\tval-rmse:375.414\n",
      "[60]\tval-rmse:223.917\n",
      "[80]\tval-rmse:185.944\n",
      "[100]\tval-rmse:176.535\n",
      "[120]\tval-rmse:172.343\n",
      "[140]\tval-rmse:171.254\n",
      "[160]\tval-rmse:170.521\n",
      "[180]\tval-rmse:170.252\n",
      "[200]\tval-rmse:170\n",
      "[220]\tval-rmse:169.559\n",
      "[240]\tval-rmse:169.056\n",
      "[260]\tval-rmse:168.906\n",
      "Stopping. Best iteration:\n",
      "[255]\tval-rmse:168.856\n",
      "\n",
      "________________\n",
      "0.865325283189\n",
      "260 1390.4 3198.73\n",
      "260 994.987437107 3878.56803473\n"
     ]
    }
   ],
   "source": [
    "\n",
    "dtrain = xgb.DMatrix(X_train_pos, y_train_pos, feature_names=features_pos)\n",
    "dval = xgb.DMatrix(X_test_pos, y_test_pos, feature_names=features_pos)\n",
    "partial_model = xgb.train(xgb_params, dtrain, num_boost_round=1000, evals=[(dval, 'val')],\n",
    "                       early_stopping_rounds=20, verbose_eval=20)\n",
    "\n",
    "#partial_model = xgb.train(xgb_params, dtrain, num_boost_round=1000)\n",
    "\n",
    "pred = partial_model.predict(dval)\n",
    "print '________________'\n",
    "print r2_score (y_test_pos,list(pred))\n",
    "print len(pred),min(pred),max(pred)\n",
    "print len(y_test_pos),min(y_test_pos),max(y_test_pos)\n",
    "\n",
    "best_pos = partial_model.best_iteration\n",
    "#partial_model.get_score()"
   ]
  },
  {
   "cell_type": "code",
   "execution_count": 73,
   "metadata": {},
   "outputs": [],
   "source": [
    "tr_type=(tr.dtypes==np.float64)|(tr.dtypes==np.int64)\n",
    "dig_features=list(tr.loc[:,tr_type].columns)\n",
    "dig_features.remove(response)\n"
   ]
  },
  {
   "cell_type": "code",
   "execution_count": 74,
   "metadata": {},
   "outputs": [],
   "source": [
    "tr_mos=tr2[(tr2.poselok==0)]\n",
    "tst_mos=tst[tst.poselok==0]\n",
    "#tr_mos=tr2[(tr2.poselok==0)&(tr2.month>1)]\n",
    "X_train_mos, X_test_mos, y_train_mos, y_test_mos = train_test_split(tr_mos.loc[:,features_mos], tr_mos.price_doc, test_size=0.33, random_state=42)\n",
    "y_train_mos=np.sqrt(y_train_mos)\n",
    "y_test_mos=np.sqrt(y_test_mos)\n"
   ]
  },
  {
   "cell_type": "code",
   "execution_count": 76,
   "metadata": {},
   "outputs": [
    {
     "name": "stdout",
     "output_type": "stream",
     "text": [
      "[0]\tval-rmse:2840.23\n",
      "Will train until val-rmse hasn't improved in 20 rounds.\n",
      "[20]\tval-rmse:1158.06\n",
      "[40]\tval-rmse:664.333\n",
      "[60]\tval-rmse:560.214\n",
      "[80]\tval-rmse:542.554\n",
      "[100]\tval-rmse:538.431\n",
      "[120]\tval-rmse:534.037\n",
      "[140]\tval-rmse:532.002\n",
      "[160]\tval-rmse:530.726\n",
      "[180]\tval-rmse:530.457\n",
      "[200]\tval-rmse:529.866\n",
      "[220]\tval-rmse:529.097\n",
      "[240]\tval-rmse:528.66\n",
      "Stopping. Best iteration:\n",
      "[233]\tval-rmse:528.266\n",
      "\n",
      "________________\n",
      "0.736344122179\n",
      "724 1484.11 6948.81\n",
      "724 987.927122818 8366.60026534\n"
     ]
    }
   ],
   "source": [
    "dtrain = xgb.DMatrix(X_train_mos, y_train_mos, feature_names=features_mos)\n",
    "dval = xgb.DMatrix(X_test_mos, y_test_mos, feature_names=features_mos)\n",
    "partial_model = xgb.train(xgb_params, dtrain, num_boost_round=1000, evals=[(dval, 'val')],\n",
    "                       early_stopping_rounds=20, verbose_eval=20)\n",
    "\n",
    "#partial_model = xgb.train(xgb_params, dtrain, num_boost_round=1000)\n",
    "\n",
    "pred = partial_model.predict(dval)\n",
    "print '________________'\n",
    "print r2_score (y_test_mos**2,pred**2)\n",
    "#print r2_score (y_test_mos,pred)\n",
    "\n",
    "print len(pred),min(pred),max(pred)\n",
    "print len(y_test_mos),min(y_test_mos),max(y_test_mos)\n",
    "\n",
    "best_mos = partial_model.best_iteration\n",
    "#partial_model.get_score()"
   ]
  },
  {
   "cell_type": "code",
   "execution_count": 77,
   "metadata": {},
   "outputs": [
    {
     "name": "stdout",
     "output_type": "stream",
     "text": [
      "1575 1.90228e+06 1.18115e+07\n",
      "785 994.987437107 3878.56803473\n"
     ]
    }
   ],
   "source": [
    "#3BOOST for pos \n",
    "#fit = LinearRegression()\n",
    "X=tr2.loc[tr2.poselok==1,features_pos]\n",
    "Y=np.sqrt(tr2.loc[tr2.poselok==1,'price_doc'])\n",
    "dtrain_all = xgb.DMatrix(X, Y, feature_names=features_pos)\n",
    "dtest_all = xgb.DMatrix(tst.loc[tst.poselok==1,features_pos])\n",
    "\n",
    "\n",
    "fit = xgb.train(dict(xgb_params, silent=0), dtrain_all, num_boost_round=best_pos)\n",
    "\n",
    "pred_pos = fit.predict(dtest_all)\n",
    "pred_pos=pred_pos**2\n",
    "#pred_pos[pred_pos<900000]=900000\n",
    "\n",
    "print len(pred_pos),min(pred_pos),max(pred_pos)\n",
    "print len(Y),min(Y),max(Y)\n"
   ]
  },
  {
   "cell_type": "code",
   "execution_count": 78,
   "metadata": {},
   "outputs": [
    {
     "name": "stdout",
     "output_type": "stream",
     "text": [
      "6087 2.0282e+06 4.77901e+07\n",
      "2193 500000 95122496\n"
     ]
    }
   ],
   "source": [
    "#3BOOST for mos \n",
    "X=tr2.loc[tr2.poselok==0,features_mos]\n",
    "#Y=np.sqrt(tr2.loc[tr2.poselok==0,'price_doc'])\n",
    "Y=(tr2.loc[tr2.poselok==0,'price_doc'])\n",
    "\n",
    "dtrain_all = xgb.DMatrix(X, Y, feature_names=features_mos)\n",
    "dtest_all = xgb.DMatrix(tst.loc[tst.poselok==0,features_mos])\n",
    "\n",
    "fit = xgb.train(dict(xgb_params, silent=0), dtrain_all, num_boost_round=best_mos)\n",
    "pred_mos = fit.predict(dtest_all)\n",
    "#pred_mos=pred_mos**2\n",
    "#pred_mos[pred_mos<900000]=900000\n",
    "\n",
    "print len(pred_mos),min(pred_mos),max(pred_mos)\n",
    "print len(Y),min(Y),max(Y)"
   ]
  },
  {
   "cell_type": "code",
   "execution_count": 79,
   "metadata": {
    "collapsed": true
   },
   "outputs": [],
   "source": [
    "res1=pd.DataFrame({'id':tst.loc[tst.poselok==1,'id'],'price_doc':(pred_pos)})\n",
    "#print res1.describe()\n",
    "\n",
    "res2=pd.DataFrame({'id':tst.loc[tst.poselok==0,'id'],'price_doc':(pred_mos)})\n",
    "#print res2.describe()\n",
    "res=pd.concat([res1,res2])\n",
    "del res1,res2"
   ]
  },
  {
   "cell_type": "code",
   "execution_count": 80,
   "metadata": {
    "collapsed": true
   },
   "outputs": [],
   "source": [
    "#pd.DataFrame({'id':tst.id,'price_doc':(pred)}).to_csv(location+'submission.csv',sep=',',index=False)\n",
    "res.to_csv(location+'submission2.csv',sep=',',index=False)\n"
   ]
  },
  {
   "cell_type": "code",
   "execution_count": 81,
   "metadata": {
    "collapsed": true
   },
   "outputs": [],
   "source": [
    "np.random.seed(123)\n"
   ]
  },
  {
   "cell_type": "code",
   "execution_count": 82,
   "metadata": {},
   "outputs": [
    {
     "data": {
      "image/png": "[encoded data removed]",
      "text/plain": [
       "<matplotlib.figure.Figure at 0x13afb860>"
      ]
     },
     "metadata": {},
     "output_type": "display_data"
    }
   ],
   "source": [
    "plt.hist(np.sqrt(res.price_doc),100)\n",
    "plt.show()\n"
   ]
  },
  {
   "cell_type": "code",
   "execution_count": null,
   "metadata": {
    "collapsed": true
   },
   "outputs": [],
   "source": [
    "\n"
   ]
  },
  {
   "cell_type": "code",
   "execution_count": null,
   "metadata": {
    "collapsed": true
   },
   "outputs": [],
   "source": []
  }
 ],
 "metadata": {
  "kernelspec": {
   "display_name": "Python 2",
   "language": "python",
   "name": "python2"
  },
  "language_info": {
   "codemirror_mode": {
    "name": "ipython",
    "version": 2
   },
   "file_extension": ".py",
   "mimetype": "text/x-python",
   "name": "python",
   "nbconvert_exporter": "python",
   "pygments_lexer": "ipython2",
   "version": "2.7.13"
  }
 },
 "nbformat": 4,
 "nbformat_minor": 2
}
