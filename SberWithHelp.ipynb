{
 "cells": [
  {
   "cell_type": "code",
   "execution_count": 1,
   "metadata": {},
   "outputs": [
    {
     "name": "stderr",
     "output_type": "stream",
     "text": [
      "C:\\Anaconda\\lib\\site-packages\\sklearn\\cross_validation.py:44: DeprecationWarning: This module was deprecated in version 0.18 in favor of the model_selection module into which all the refactored classes and functions are moved. Also note that the interface of the new CV iterators are different from that of this module. This module will be removed in 0.20.\n",
      "  \"This module will be removed in 0.20.\", DeprecationWarning)\n"
     ]
    }
   ],
   "source": [
    "import numpy as np\n",
    "import pandas as pd\n",
    "import xgboost as xgb\n",
    "import matplotlib.pyplot as plt\n",
    "from sklearn.metrics import r2_score"
   ]
  },
  {
   "cell_type": "code",
   "execution_count": 2,
   "metadata": {
    "collapsed": true
   },
   "outputs": [],
   "source": [
    "# From here: https://www.kaggle.com/robertoruiz/sberbank-russian-housing-market/dealing-with-multicollinearity/notebook\n",
    "macro_cols = [\"balance_trade\", \"balance_trade_growth\", \"eurrub\", \"average_provision_of_build_contract\",\n",
    "\"micex_rgbi_tr\", \"micex_cbi_tr\", \"deposits_rate\", \"mortgage_value\", \"mortgage_rate\",\n",
    "\"income_per_cap\", \"rent_price_4+room_bus\", \"museum_visitis_per_100_cap\", \"apartment_build\"]\n"
   ]
  },
  {
   "cell_type": "code",
   "execution_count": 3,
   "metadata": {
    "collapsed": true
   },
   "outputs": [],
   "source": [
    "location=\"D:\\s_chernov\\AnacondaProjects\\SberHouse\\Data\\\\\"\n",
    "df_train = pd.read_csv(location+\"train.csv\", parse_dates=['timestamp'])\n",
    "df_test = pd.read_csv(location+\"test.csv\", parse_dates=['timestamp'])\n",
    "df_macro = pd.read_csv(location+\"macro.csv\", parse_dates=['timestamp'], usecols=['timestamp'] + macro_cols)\n",
    "price_area=pd.read_csv(location+\"sqprice.csv\",sep=';')"
   ]
  },
  {
   "cell_type": "code",
   "execution_count": 4,
   "metadata": {
    "collapsed": true
   },
   "outputs": [],
   "source": [
    "df_train=df_train.drop( df_train.loc[(df_train.full_sq>180) &(df_train.price_doc<10000000)].index)\n",
    "#df_train=df_train[df_train.timestamp.dt.year>2014]\n"
   ]
  },
  {
   "cell_type": "code",
   "execution_count": 5,
   "metadata": {},
   "outputs": [
    {
     "name": "stdout",
     "output_type": "stream",
     "text": [
      "(38118, 303)\n"
     ]
    }
   ],
   "source": [
    "# ylog will be log(1+y), as suggested by https://github.com/dmlc/xgboost/issues/446#issuecomment-135555130\n",
    "ylog_train_all = np.log1p(df_train['price_doc'].values)\n",
    "y_train_all = (df_train['price_doc'].values)\n",
    "ysqrt_train_all = np.sqrt(df_train['price_doc'].values)\n",
    "id_test = df_test['id']\n",
    "\n",
    "df_train.drop(['id', 'price_doc'], axis=1, inplace=True)\n",
    "df_test.drop(['id'], axis=1, inplace=True)\n",
    "\n",
    "# Build df_all = (df_train+df_test).join(df_macro)\n",
    "num_train = len(df_train)\n",
    "df_all = pd.concat([df_train, df_test])\n",
    "df_all = pd.merge_ordered(df_all, df_macro, on='timestamp', how='left')\n",
    "print(df_all.shape)\n",
    "\n",
    "# Add month-year\n",
    "month_year = (df_all.timestamp.dt.month + df_all.timestamp.dt.year * 100)\n",
    "month_year_cnt_map = month_year.value_counts().to_dict()\n",
    "df_all['month_year']=month_year-201108\n",
    "df_all['month_year_cnt'] = month_year.map(month_year_cnt_map)\n",
    "\n",
    "# Add week-year count\n",
    "week_year = (df_all.timestamp.dt.weekofyear + df_all.timestamp.dt.year * 100)\n",
    "week_year_cnt_map = week_year.value_counts().to_dict()\n",
    "df_all['week_year_cnt'] = week_year.map(week_year_cnt_map)\n",
    "\n",
    "# Add month and day-of-week\n",
    "df_all['month'] = df_all.timestamp.dt.month\n",
    "df_all['year'] = df_all.timestamp.dt.year\n",
    "df_all['dow'] = df_all.timestamp.dt.dayofweek\n",
    "\n",
    "\n",
    "#df_all=df_all[df_all.year>2013]"
   ]
  },
  {
   "cell_type": "code",
   "execution_count": 6,
   "metadata": {
    "collapsed": true
   },
   "outputs": [],
   "source": [
    "#____kitchen error\n",
    "correct=df_all.loc[(df_all.kitch_sq/df_all.full_sq>0.5)].index\n",
    "df_all.at[correct,'kitch_sq']=8\n",
    "\n",
    "# Other feature engineering\n",
    "df_all['rel_floor'] = df_all['floor'] / df_all['max_floor'].astype(float)\n",
    "df_all['rel_kitch_sq'] = df_all['kitch_sq'] / df_all['full_sq'].astype(float)\n"
   ]
  },
  {
   "cell_type": "code",
   "execution_count": 7,
   "metadata": {
    "collapsed": true
   },
   "outputs": [],
   "source": [
    "#not finished building\n",
    "a=df_all.build_year-df_all.year\n",
    "a[(a.isnull())|(a<0)]=0\n",
    "df_all['year']=a"
   ]
  },
  {
   "cell_type": "code",
   "execution_count": 8,
   "metadata": {
    "collapsed": true
   },
   "outputs": [],
   "source": [
    "area_mo='Poselenie'\n",
    "df_all.loc[:,'poselok']=df_all.sub_area.str.contains(area_mo).apply(int)\n",
    "\n",
    "# Remove timestamp column (may overfit the model in train)\n",
    "df_all.drop(['timestamp'], axis=1, inplace=True)"
   ]
  },
  {
   "cell_type": "code",
   "execution_count": 9,
   "metadata": {
    "collapsed": true
   },
   "outputs": [],
   "source": [
    "# Deal with categorical values\n",
    "df_numeric = df_all.select_dtypes(exclude=['object'])\n",
    "df_obj = df_all.select_dtypes(include=['object']).copy()\n",
    "\n",
    "for c in df_obj:\n",
    "    df_obj[c] = pd.factorize(df_obj[c])[0]\n",
    "\n",
    "df_values = pd.concat([df_numeric, df_obj], axis=1)"
   ]
  },
  {
   "cell_type": "code",
   "execution_count": null,
   "metadata": {
    "collapsed": true
   },
   "outputs": [],
   "source": []
  },
  {
   "cell_type": "code",
   "execution_count": 10,
   "metadata": {},
   "outputs": [
    {
     "name": "stdout",
     "output_type": "stream",
     "text": [
      "(38118L, 311L)\n",
      "('X_train_all shape is', (30456L, 311L))\n",
      "('X_train shape is', (24365L, 311L))\n",
      "('y_train shape is', (24365L,))\n",
      "('X_val shape is', (6091L, 311L))\n",
      "('y_val shape is', (6091L,))\n",
      "('X_test shape is', (7662L, 311L))\n"
     ]
    }
   ],
   "source": [
    "# Convert to numpy values\n",
    "X_all = df_values.values\n",
    "print(X_all.shape)\n",
    "\n",
    "# Create a validation set, with last 20% of data\n",
    "num_val = int(num_train * 0.2)\n",
    "\n",
    "X_train_all = X_all[:num_train]\n",
    "X_train = X_all[:num_train-num_val]\n",
    "X_val = X_all[num_train-num_val:num_train]\n",
    "ylog_train = ylog_train_all[:-num_val]\n",
    "y_train=y_train_all[:-num_val]\n",
    "ysqrt_train=ysqrt_train_all[:-num_val]\n",
    "\n",
    "ylog_val = ylog_train_all[-num_val:]\n",
    "y_val = y_train_all[-num_val:]\n",
    "ysqrt_val = ysqrt_train_all[-num_val:]\n",
    "\n",
    "\n",
    "X_test = X_all[num_train:]\n",
    "\n",
    "df_columns = df_values.columns\n",
    "\n",
    "print('X_train_all shape is', X_train_all.shape)\n",
    "print('X_train shape is', X_train.shape)\n",
    "print('y_train shape is', ylog_train.shape)\n",
    "print('X_val shape is', X_val.shape)\n",
    "print('y_val shape is', ylog_val.shape)\n",
    "print('X_test shape is', X_test.shape)"
   ]
  },
  {
   "cell_type": "code",
   "execution_count": 11,
   "metadata": {
    "collapsed": true
   },
   "outputs": [],
   "source": [
    "dtrain_all = xgb.DMatrix(X_train_all, ysqrt_train_all, feature_names=df_columns)\n",
    "dtrain = xgb.DMatrix(X_train, ysqrt_train, feature_names=df_columns)\n",
    "dval = xgb.DMatrix(X_val, ysqrt_val, feature_names=df_columns)\n",
    "dtest = xgb.DMatrix(X_test, feature_names=df_columns)"
   ]
  },
  {
   "cell_type": "code",
   "execution_count": 12,
   "metadata": {},
   "outputs": [
    {
     "name": "stdout",
     "output_type": "stream",
     "text": [
      "[0]\tval-rmse:2685.26\n",
      "Will train until val-rmse hasn't improved in 20 rounds.\n",
      "[20]\tval-rmse:1146.71\n",
      "[40]\tval-rmse:660.046\n",
      "[60]\tval-rmse:528.161\n",
      "[80]\tval-rmse:491.259\n",
      "[100]\tval-rmse:478.681\n",
      "[120]\tval-rmse:471.347\n",
      "[140]\tval-rmse:466.891\n",
      "[160]\tval-rmse:464.543\n",
      "[180]\tval-rmse:463.064\n",
      "[200]\tval-rmse:462.159\n",
      "[220]\tval-rmse:461.595\n",
      "[240]\tval-rmse:460.973\n",
      "[260]\tval-rmse:460.664\n",
      "[280]\tval-rmse:460.273\n",
      "[300]\tval-rmse:459.498\n",
      "[320]\tval-rmse:459.666\n",
      "Stopping. Best iteration:\n",
      "[304]\tval-rmse:459.447\n",
      "\n"
     ]
    }
   ],
   "source": [
    "xgb_params = {\n",
    "    'eta': 0.05,\n",
    "    'max_depth': 5,\n",
    "    'subsample': 1.0,\n",
    "    'colsample_bytree': 0.7,\n",
    "    'objective': 'reg:linear',\n",
    "    'eval_metric': 'rmse',\n",
    "    'silent': 1\n",
    "}\n",
    "\n",
    "# Uncomment to tune XGB `num_boost_rounds`\n",
    "partial_model = xgb.train(xgb_params, dtrain, num_boost_round=1000, evals=[(dval, 'val')],\n",
    "                       early_stopping_rounds=20, verbose_eval=20)\n",
    "\n",
    "num_boost_round = partial_model.best_iteration"
   ]
  },
  {
   "cell_type": "code",
   "execution_count": 13,
   "metadata": {},
   "outputs": [
    {
     "name": "stdout",
     "output_type": "stream",
     "text": [
      "________________\n",
      "0.734465939044\n"
     ]
    }
   ],
   "source": [
    "pred = partial_model.predict(dval)\n",
    "print '________________'\n",
    "#print r2_score (y_val,np.exp(pred) - 1)\n",
    "print r2_score (y_val,pred**2)\n",
    "#print len(pred),min(pred),max(pred)\n",
    "\n",
    "#0.724200068615\n",
    "#0.72641375446 - poselenie\n",
    "#0.728309306415 - kitchen korrect\n",
    "#0.732036813787 + month_year\n",
    "#0.734053608465 - drop false prices\n",
    "#0.734465939044 - not finished build"
   ]
  },
  {
   "cell_type": "code",
   "execution_count": 14,
   "metadata": {},
   "outputs": [
    {
     "name": "stdout",
     "output_type": "stream",
     "text": [
      "micex_cbi_tr 109\n",
      "office_sqm_1500 29\n",
      "ID_metro 28\n",
      "cafe_sum_1000_max_price_avg 17\n",
      "month 20\n",
      "radiation_km 40\n",
      "trc_sqm_2000 19\n",
      "cafe_count_5000_price_2500 34\n",
      "trc_sqm_3000 30\n",
      "office_sqm_500 19\n",
      "rel_kitch_sq 74\n",
      "cafe_sum_2000_max_price_avg 16\n",
      "build_count_brick 12\n",
      "big_church_count_2000 11\n",
      "build_count_block 23\n",
      "balance_trade 68\n",
      "max_floor 141\n",
      "week_year_cnt 67\n",
      "sport_count_5000 13\n",
      "trc_count_5000 14\n",
      "catering_km 55\n",
      "zd_vokzaly_avto_km 24\n",
      "trc_sqm_1500 26\n",
      "water_km 49\n",
      "green_part_1000 44\n",
      "ID_railroad_station_walk 14\n",
      "big_market_km 67\n",
      "museum_km 42\n",
      "material 38\n",
      "park_km 64\n",
      "railroad_station_walk_min 21\n",
      "hospice_morgue_km 55\n",
      "metro_km_avto 63\n",
      "preschool_quota 35\n",
      "railroad_station_avto_min 45\n",
      "micex_rgbi_tr 102\n",
      "public_transport_station_min_walk 18\n",
      "public_healthcare_km 65\n",
      "ice_rink_km 51\n",
      "balance_trade_growth 45\n",
      "basketball_km 30\n",
      "cafe_count_5000 26\n",
      "build_count_monolith 14\n",
      "market_shop_km 46\n",
      "school_education_centers_raion 18\n",
      "deposits_rate 47\n",
      "cafe_count_1500_price_1500 12\n",
      "big_church_km 48\n",
      "workplaces_km 55\n",
      "bus_terminal_avto_km 44\n",
      "exhibition_km 46\n",
      "area_m 57\n",
      "cafe_count_1500 30\n",
      "cafe_count_500 13\n",
      "cafe_avg_price_1000 11\n",
      "cafe_sum_5000_min_price_avg 23\n",
      "industrial_km 64\n",
      "office_count_1000 18\n",
      "green_part_5000 33\n",
      "cafe_sum_1000_min_price_avg 19\n",
      "shopping_centers_km 28\n",
      "cafe_sum_500_min_price_avg 40\n",
      "sport_count_3000 21\n",
      "cafe_count_3000_price_2500 11\n",
      "income_per_cap 46\n",
      "railroad_station_avto_km 39\n",
      "office_sqm_1000 14\n",
      "full_sq 722\n",
      "state 108\n",
      "cafe_count_1000_price_high 14\n",
      "mosque_km 91\n",
      "public_transport_station_km 78\n",
      "cafe_sum_1500_max_price_avg 13\n",
      "prom_part_500 18\n",
      "rent_price_4+room_bus 39\n",
      "sport_objects_raion 21\n",
      "detention_facility_km 42\n",
      "oil_chemistry_km 32\n",
      "power_transmission_line_km 64\n",
      "water_treatment_km 32\n",
      "university_km 54\n",
      "children_preschool 12\n",
      "raion_popul 33\n",
      "trc_count_2000 13\n",
      "mortgage_value 40\n",
      "green_zone_km 87\n",
      "indust_part 34\n",
      "green_part_500 29\n",
      "office_sqm_2000 19\n",
      "office_sqm_5000 16\n",
      "metro_min_avto 76\n",
      "sub_area 12\n",
      "prom_part_1000 42\n",
      "railroad_km 77\n",
      "full_all 14\n",
      "mortgage_rate 46\n",
      "cafe_count_2000 24\n",
      "incineration_km 32\n",
      "nuclear_reactor_km 57\n",
      "cafe_count_3000 30\n",
      "ID_railroad_station_avto 15\n",
      "sport_count_2000 11\n",
      "sadovoe_km 23\n",
      "cafe_sum_1500_min_price_avg 12\n",
      "cafe_sum_3000_min_price_avg 21\n",
      "green_part_2000 36\n",
      "trc_sqm_5000 38\n",
      "prom_part_5000 51\n",
      "prom_part_2000 26\n",
      "build_year 201\n",
      "hospital_beds_raion 50\n",
      "ekder_female 11\n",
      "life_sq 286\n",
      "stadium_km 33\n",
      "build_count_panel 16\n",
      "trc_count_1500 28\n",
      "bulvar_ring_km 24\n",
      "kindergarten_km 98\n",
      "month_year 52\n",
      "average_provision_of_build_contract 31\n",
      "cafe_count_2000_price_1500 11\n",
      "thermal_power_plant_km 48\n",
      "big_road1_km 43\n",
      "railroad_station_walk_km 48\n",
      "num_room 64\n",
      "cemetery_km 40\n",
      "green_zone_part 45\n",
      "trc_sqm_1000 13\n",
      "fitness_km 63\n",
      "big_road2_km 59\n",
      "theater_km 64\n",
      "raion_build_count_with_material_info 17\n",
      "metro_km_walk 13\n",
      "cafe_sum_3000_max_price_avg 15\n",
      "market_count_1000 22\n",
      "kitch_sq 74\n",
      "mkad_km 33\n",
      "swim_pool_km 36\n",
      "floor 240\n",
      "rel_floor 71\n",
      "school_km 69\n",
      "cafe_sum_500_max_price_avg 29\n",
      "cafe_count_3000_price_1500 18\n",
      "green_part_3000 32\n",
      "cafe_count_1000 21\n",
      "ts_km 58\n",
      "cafe_sum_2000_min_price_avg 24\n",
      "office_km 41\n",
      "cafe_avg_price_500 19\n",
      "prom_part_1500 25\n",
      "dow 27\n",
      "preschool_km 50\n",
      "market_count_5000 23\n",
      "eurrub 122\n",
      "church_synagogue_km 45\n",
      "office_sqm_3000 13\n",
      "ttk_km 50\n",
      "church_count_5000 11\n",
      "product_type 36\n",
      "green_part_1500 32\n",
      "prom_part_3000 45\n",
      "cafe_count_1000_price_2500 11\n",
      "leisure_count_3000 16\n",
      "month_year_cnt 35\n",
      "metro_min_walk 43\n",
      "cafe_count_5000_price_high 25\n",
      "additional_education_km 64\n",
      "sport_count_1000 11\n",
      "build_count_1971-1995 16\n"
     ]
    }
   ],
   "source": [
    "score=partial_model.get_score()\n",
    "#score['poselok']\n",
    "for i in score:\n",
    "    if score[i]>10: print i,score[i]\n",
    "\n"
   ]
  },
  {
   "cell_type": "code",
   "execution_count": 15,
   "metadata": {
    "collapsed": true
   },
   "outputs": [],
   "source": [
    "num_boost_round = partial_model.best_iteration\n"
   ]
  },
  {
   "cell_type": "code",
   "execution_count": 16,
   "metadata": {
    "collapsed": true
   },
   "outputs": [],
   "source": [
    "#model=partial_model\n",
    "model = xgb.train(dict(xgb_params, silent=0), dtrain_all, num_boost_round=num_boost_round)"
   ]
  },
  {
   "cell_type": "code",
   "execution_count": 17,
   "metadata": {
    "collapsed": true
   },
   "outputs": [],
   "source": [
    "#ylog_pred = model.predict(dtest)\n",
    "#y_pred = np.exp(ylog_pred) - 1\n",
    "ysqrt_pred = model.predict(dtest)\n",
    "y_pred = ysqrt_pred**2\n",
    "\n",
    "df_sub = pd.DataFrame({'id': id_test, 'price_doc': y_pred})\n",
    "\n",
    "df_sub.to_csv(location+'sub.csv', index=False)"
   ]
  },
  {
   "cell_type": "code",
   "execution_count": 18,
   "metadata": {},
   "outputs": [
    {
     "data": {
      "image/png": "[encoded data removed]",
      "text/plain": [
       "<matplotlib.figure.Figure at 0x1055a710>"
      ]
     },
     "metadata": {},
     "output_type": "display_data"
    }
   ],
   "source": [
    "plt.hist(np.sqrt(df_sub.price_doc),100)\n",
    "plt.show()"
   ]
  },
  {
   "cell_type": "code",
   "execution_count": null,
   "metadata": {
    "collapsed": true
   },
   "outputs": [],
   "source": []
  }
 ],
 "metadata": {
  "kernelspec": {
   "display_name": "Python 2",
   "language": "python",
   "name": "python2"
  },
  "language_info": {
   "codemirror_mode": {
    "name": "ipython",
    "version": 2
   },
   "file_extension": ".py",
   "mimetype": "text/x-python",
   "name": "python",
   "nbconvert_exporter": "python",
   "pygments_lexer": "ipython2",
   "version": "2.7.13"
  }
 },
 "nbformat": 4,
 "nbformat_minor": 2
}
