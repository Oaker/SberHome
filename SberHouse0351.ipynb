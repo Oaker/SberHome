{
 "cells": [
  {
   "cell_type": "code",
   "execution_count": 1,
   "metadata": {
    "collapsed": true
   },
   "outputs": [],
   "source": [
    "import pandas as pd\n",
    "import numpy as np\n",
    "import datetime as dt\n",
    "import matplotlib.pyplot as plt\n",
    "from sklearn.ensemble import RandomForestClassifier\n",
    "from sklearn.linear_model import Lasso\n",
    "from sklearn.metrics import r2_score\n",
    "\n",
    "from sklearn.linear_model import LinearRegression"
   ]
  },
  {
   "cell_type": "code",
   "execution_count": 2,
   "metadata": {},
   "outputs": [
    {
     "data": {
      "text/html": [
       "<div>\n",
       "<table border=\"1\" class=\"dataframe\">\n",
       "  <thead>\n",
       "    <tr style=\"text-align: right;\">\n",
       "      <th></th>\n",
       "      <th>year_month</th>\n",
       "      <th>mean_price</th>\n",
       "    </tr>\n",
       "  </thead>\n",
       "  <tbody>\n",
       "    <tr>\n",
       "      <th>0</th>\n",
       "      <td>2015_1</td>\n",
       "      <td>196000</td>\n",
       "    </tr>\n",
       "    <tr>\n",
       "      <th>1</th>\n",
       "      <td>2015_2</td>\n",
       "      <td>200000</td>\n",
       "    </tr>\n",
       "    <tr>\n",
       "      <th>2</th>\n",
       "      <td>2015_3</td>\n",
       "      <td>205000</td>\n",
       "    </tr>\n",
       "    <tr>\n",
       "      <th>3</th>\n",
       "      <td>2015_4</td>\n",
       "      <td>180000</td>\n",
       "    </tr>\n",
       "    <tr>\n",
       "      <th>4</th>\n",
       "      <td>2015_5</td>\n",
       "      <td>180000</td>\n",
       "    </tr>\n",
       "    <tr>\n",
       "      <th>5</th>\n",
       "      <td>2015_6</td>\n",
       "      <td>187000</td>\n",
       "    </tr>\n",
       "    <tr>\n",
       "      <th>6</th>\n",
       "      <td>2015_7</td>\n",
       "      <td>190000</td>\n",
       "    </tr>\n",
       "    <tr>\n",
       "      <th>7</th>\n",
       "      <td>2015_8</td>\n",
       "      <td>185000</td>\n",
       "    </tr>\n",
       "    <tr>\n",
       "      <th>8</th>\n",
       "      <td>2015_9</td>\n",
       "      <td>180000</td>\n",
       "    </tr>\n",
       "    <tr>\n",
       "      <th>9</th>\n",
       "      <td>2015_10</td>\n",
       "      <td>175000</td>\n",
       "    </tr>\n",
       "    <tr>\n",
       "      <th>10</th>\n",
       "      <td>2015_11</td>\n",
       "      <td>175000</td>\n",
       "    </tr>\n",
       "    <tr>\n",
       "      <th>11</th>\n",
       "      <td>2015_12</td>\n",
       "      <td>177000</td>\n",
       "    </tr>\n",
       "    <tr>\n",
       "      <th>12</th>\n",
       "      <td>2016_1</td>\n",
       "      <td>179000</td>\n",
       "    </tr>\n",
       "    <tr>\n",
       "      <th>13</th>\n",
       "      <td>2016_2</td>\n",
       "      <td>175000</td>\n",
       "    </tr>\n",
       "    <tr>\n",
       "      <th>14</th>\n",
       "      <td>2016_3</td>\n",
       "      <td>168000</td>\n",
       "    </tr>\n",
       "    <tr>\n",
       "      <th>15</th>\n",
       "      <td>2016_4</td>\n",
       "      <td>169000</td>\n",
       "    </tr>\n",
       "    <tr>\n",
       "      <th>16</th>\n",
       "      <td>2016_5</td>\n",
       "      <td>172000</td>\n",
       "    </tr>\n",
       "    <tr>\n",
       "      <th>17</th>\n",
       "      <td>2016_6</td>\n",
       "      <td>173000</td>\n",
       "    </tr>\n",
       "    <tr>\n",
       "      <th>18</th>\n",
       "      <td>2016_7</td>\n",
       "      <td>172000</td>\n",
       "    </tr>\n",
       "  </tbody>\n",
       "</table>\n",
       "</div>"
      ],
      "text/plain": [
       "   year_month  mean_price\n",
       "0      2015_1      196000\n",
       "1      2015_2      200000\n",
       "2      2015_3      205000\n",
       "3      2015_4      180000\n",
       "4      2015_5      180000\n",
       "5      2015_6      187000\n",
       "6      2015_7      190000\n",
       "7      2015_8      185000\n",
       "8      2015_9      180000\n",
       "9     2015_10      175000\n",
       "10    2015_11      175000\n",
       "11    2015_12      177000\n",
       "12     2016_1      179000\n",
       "13     2016_2      175000\n",
       "14     2016_3      168000\n",
       "15     2016_4      169000\n",
       "16     2016_5      172000\n",
       "17     2016_6      173000\n",
       "18     2016_7      172000"
      ]
     },
     "execution_count": 2,
     "metadata": {},
     "output_type": "execute_result"
    }
   ],
   "source": [
    "location=\"D:\\s_chernov\\AnacondaProjects\\SberHouse\\Data\\\\\"\n",
    "tr=pd.read_csv(location+\"train.csv\",sep=',')\n",
    "tst=pd.read_csv(location+\"test.csv\",sep=',')\n",
    "macro=pd.read_csv(location+\"sample_submission.csv\",sep=',')\n",
    "cheat=pd.read_csv(location+\"sqprice.csv\",sep=';')\n",
    "prices=pd.read_csv(location+\"dynamic_prices.csv\",sep=';')\n",
    "prices"
   ]
  },
  {
   "cell_type": "code",
   "execution_count": 3,
   "metadata": {
    "collapsed": true
   },
   "outputs": [],
   "source": [
    "from dateutil.parser import parse\n",
    "\n",
    "dfDateTime=tr[\"timestamp\"]\n",
    "b=map(parse,dfDateTime)\n",
    "year=map(lambda x:x.year,b)\n",
    "month=map(lambda x:x.month,b)\n",
    "day=map(lambda x:x.day,b)\n",
    "tr['year']=year\n",
    "tr['month']=month\n",
    "tr['day']=day\n",
    "\n",
    "dfDateTime=tst[\"timestamp\"]\n",
    "b=map(parse,dfDateTime)\n",
    "year=map(lambda x:x.year,b)\n",
    "month=map(lambda x:x.month,b)\n",
    "day=map(lambda x:x.day,b)\n",
    "tst['year']=year\n",
    "tst['month']=month\n",
    "tst['day']=day"
   ]
  },
  {
   "cell_type": "code",
   "execution_count": 4,
   "metadata": {
    "collapsed": true
   },
   "outputs": [],
   "source": [
    "tr['year_month']=map(lambda x,y:str(x)+\"_\"+str(y),tr.year,tr.month)\n",
    "tst['year_month']=map(lambda x,y:str(x)+\"_\"+str(y),tst.year,tst.month)\n",
    "\n",
    "tr=pd.merge(tr, prices, how='left', on=['year_month', 'year_month'])\n",
    "tst=pd.merge(tst, prices, how='left', on=['year_month', 'year_month'])"
   ]
  },
  {
   "cell_type": "code",
   "execution_count": 5,
   "metadata": {
    "collapsed": true
   },
   "outputs": [],
   "source": [
    "#tr=pd.concat([tr, cheat], axis=1, join='outer')\n",
    "#tst=pd.concat([tr, cheat], axis=1, join='outer')\n",
    "\n",
    "\n",
    "tr=pd.merge(tr, cheat, how='left', on=['sub_area', 'sub_area'])\n",
    "tst=pd.merge(tst, cheat, how='left', on=['sub_area', 'sub_area'])\n",
    "\n",
    "tr.loc[:,'cheat']=tr.full_sq*tr.feb16\n",
    "tst.loc[:,'cheat']=tst.full_sq*tst.feb16\n"
   ]
  },
  {
   "cell_type": "code",
   "execution_count": 6,
   "metadata": {
    "collapsed": true
   },
   "outputs": [],
   "source": [
    "tr=tr.drop('timestamp',axis=1)\n",
    "tst=tst.drop('timestamp',axis=1)"
   ]
  },
  {
   "cell_type": "code",
   "execution_count": 58,
   "metadata": {},
   "outputs": [
    {
     "ename": "ValueError",
     "evalue": "The truth value of a Series is ambiguous. Use a.empty, a.bool(), a.item(), a.any() or a.all().",
     "output_type": "error",
     "traceback": [
      "\u001b[0;31m---------------------------------------------------------------------------\u001b[0m",
      "\u001b[0;31mValueError\u001b[0m                                Traceback (most recent call last)",
      "\u001b[0;32m<ipython-input-58-18a524412a51>\u001b[0m in \u001b[0;36m<module>\u001b[0;34m()\u001b[0m\n\u001b[1;32m      7\u001b[0m \u001b[0mtr_type\u001b[0m\u001b[1;33m=\u001b[0m\u001b[1;33m(\u001b[0m\u001b[0mtr\u001b[0m\u001b[1;33m.\u001b[0m\u001b[0mdtypes\u001b[0m\u001b[1;33m==\u001b[0m\u001b[0mnp\u001b[0m\u001b[1;33m.\u001b[0m\u001b[0mobject\u001b[0m\u001b[1;33m)\u001b[0m\u001b[1;33m\u001b[0m\u001b[0m\n\u001b[1;32m      8\u001b[0m \u001b[0mobj_features\u001b[0m\u001b[1;33m=\u001b[0m\u001b[0mlist\u001b[0m\u001b[1;33m(\u001b[0m\u001b[0mtr\u001b[0m\u001b[1;33m.\u001b[0m\u001b[0mloc\u001b[0m\u001b[1;33m[\u001b[0m\u001b[1;33m:\u001b[0m\u001b[1;33m,\u001b[0m\u001b[0mtr_type\u001b[0m\u001b[1;33m]\u001b[0m\u001b[1;33m.\u001b[0m\u001b[0mcolumns\u001b[0m\u001b[1;33m)\u001b[0m\u001b[1;33m\u001b[0m\u001b[0m\n\u001b[0;32m----> 9\u001b[0;31m \u001b[0mtr2\u001b[0m\u001b[1;33m=\u001b[0m\u001b[0mtr\u001b[0m\u001b[1;33m.\u001b[0m\u001b[0mloc\u001b[0m\u001b[1;33m[\u001b[0m\u001b[0mtr\u001b[0m\u001b[1;33m.\u001b[0m\u001b[0myear\u001b[0m\u001b[1;33m==\u001b[0m\u001b[1;36m2015\u001b[0m\u001b[1;33m&\u001b[0m\u001b[0mtr\u001b[0m\u001b[1;33m.\u001b[0m\u001b[0myear\u001b[0m\u001b[1;33m==\u001b[0m\u001b[1;36m2014\u001b[0m\u001b[1;33m]\u001b[0m\u001b[1;33m\u001b[0m\u001b[0m\n\u001b[0m",
      "\u001b[0;32mC:\\Anaconda\\lib\\site-packages\\pandas\\core\\generic.pyc\u001b[0m in \u001b[0;36m__nonzero__\u001b[0;34m(self)\u001b[0m\n\u001b[1;32m    915\u001b[0m         raise ValueError(\"The truth value of a {0} is ambiguous. \"\n\u001b[1;32m    916\u001b[0m                          \u001b[1;34m\"Use a.empty, a.bool(), a.item(), a.any() or a.all().\"\u001b[0m\u001b[1;33m\u001b[0m\u001b[0m\n\u001b[0;32m--> 917\u001b[0;31m                          .format(self.__class__.__name__))\n\u001b[0m\u001b[1;32m    918\u001b[0m \u001b[1;33m\u001b[0m\u001b[0m\n\u001b[1;32m    919\u001b[0m     \u001b[0m__bool__\u001b[0m \u001b[1;33m=\u001b[0m \u001b[0m__nonzero__\u001b[0m\u001b[1;33m\u001b[0m\u001b[0m\n",
      "\u001b[0;31mValueError\u001b[0m: The truth value of a Series is ambiguous. Use a.empty, a.bool(), a.item(), a.any() or a.all()."
     ]
    }
   ],
   "source": [
    "#features by type\n",
    "response='price_doc'\n",
    "\n",
    "tr_type=(tr.dtypes==np.float64)|(tr.dtypes==np.int64)\n",
    "dig_features=list(tr.loc[:,tr_type].columns)\n",
    "dig_features.remove(response)\n",
    "tr_type=(tr.dtypes==np.object)\n",
    "obj_features=list(tr.loc[:,tr_type].columns)\n",
    "tr2=tr.loc[tr.year==2015]\n"
   ]
  },
  {
   "cell_type": "code",
   "execution_count": null,
   "metadata": {
    "collapsed": true
   },
   "outputs": [],
   "source": []
  },
  {
   "cell_type": "code",
   "execution_count": 8,
   "metadata": {
    "collapsed": true
   },
   "outputs": [],
   "source": [
    "#___price and floor error\n",
    "\n",
    "#print tst.loc[(tst.floor>tst.max_floor),['id','full_sq','floor','max_floor','sub_area']]\n",
    "\n",
    "#_____price error\n",
    "#print tr2.loc[(tr2.full_sq>180) &(tr2.price_doc<10000000),['id','full_sq','price_doc','sub_area']].index\n",
    "tr2=tr2.drop( tr2.loc[(tr2.full_sq>180) &(tr2.price_doc<10000000)].index)\n",
    "\n",
    "#___max_floor error\n",
    "tr2=tr2.drop(tr2.loc[(tr2.floor>tr2.max_floor)].index)\n",
    "correct=tst.loc[(tst.floor>tst.max_floor)].index\n",
    "tst.loc[correct,'max_floor']=tst.floor[correct]+1\n",
    "tr2=tr2.drop(tr2.loc[(tr2.num_room==0)].index)\n"
   ]
  },
  {
   "cell_type": "code",
   "execution_count": 9,
   "metadata": {},
   "outputs": [
    {
     "name": "stdout",
     "output_type": "stream",
     "text": [
      "         id  full_sq  num_room            sub_area\n",
      "2804  33278     14.8         1  Chertanovo Juzhnoe\n"
     ]
    }
   ],
   "source": [
    "#___square and num_room error\n",
    "#print tr2.loc[(tr2.full_sq==64),['id','full_sq','num_room','price_doc','sub_area']]\n",
    "\n",
    "tr2.loc[28867,'num_room']=1\n",
    "tr2.loc[29172,'num_room']=2\n",
    "\n",
    "tst.loc[464,'full_sq']=42\n",
    "tst.loc[3500,'full_sq']=50\n",
    "tst.loc[6350,'full_sq']=50\n",
    "tst.loc[5383,'full_sq']=64\n",
    "tst.loc[3174,'num_room']=1\n",
    "tst.loc[6003,'num_room']=1\n",
    "tst.loc[6181,'num_room']=2\n",
    "tst.loc[7213,'num_room']=1\n",
    "tst.loc[7313,'num_room']=1\n",
    "tst.loc[1417,'num_room']=1\n",
    "tst.loc[1429,'num_room']=1\n",
    "\n",
    "#print tr2.loc[(tr2.full_sq/tr2.num_room<15),['id','full_sq','num_room','price_doc','sub_area']]\n",
    "print tst.loc[(tst.full_sq/tst.num_room<15),['id','full_sq','num_room','sub_area']]\n"
   ]
  },
  {
   "cell_type": "code",
   "execution_count": 10,
   "metadata": {
    "collapsed": true
   },
   "outputs": [],
   "source": [
    "#_________kitchen error\n",
    "\n",
    "correct=tst.loc[(tst.kitch_sq/tst.full_sq>0.5)].index\n",
    "tst.at[correct,'kitch_sq']=8\n",
    "\n",
    "correct=tr2.loc[(tr.kitch_sq/tr.full_sq>0.5)].index\n",
    "tr2.at[correct,'kitch_sq']=8\n",
    "\n",
    "#print tst.loc[(tst.kitch_sq/tst.full_sq>0.5),['id','full_sq','kitch_sq','sub_area']]\n",
    "#print tr2.loc[(tr2.kitch_sq/tr2.full_sq>0.5),['id','full_sq','kitch_sq','sub_area']]\n",
    "\n",
    "#state error\n",
    "\n",
    "tr2.at[tr2.state.isnull(),'state']=2\n",
    "tst.at[tst.state.isnull(),'state']=2\n"
   ]
  },
  {
   "cell_type": "code",
   "execution_count": 11,
   "metadata": {
    "collapsed": true
   },
   "outputs": [],
   "source": [
    "#______last and first floor\n",
    "\n",
    "tr2.loc[:,'first']=(tr2.floor==1).apply(int)\n",
    "tr2.loc[:,'last']=(tr2.floor==tr2.max_floor).apply(int)\n",
    "tst.loc[:,'first']=(tst.floor==1).apply(int)\n",
    "tst.loc[:,'last']=(tst.floor==tst.max_floor).apply(int)\n",
    "\n",
    "\n",
    "tr2.loc[:,'floor_low']=(tr2.floor<5).apply(int)\n",
    "tst.loc[:,'floor_low']=(tst.floor<5).apply(int)\n",
    "\n",
    "tr2.loc[:,'floor_5']=(tr2.floor==5).apply(int)\n",
    "tst.loc[:,'floor_5']=(tst.floor==5).apply(int)\n",
    "\n",
    "tr2.loc[:,'floor_9']=(tr2.floor==9).apply(int)\n",
    "tst.loc[:,'floor_9']=(tst.floor==9).apply(int)\n",
    "\n",
    "tr2.loc[:,'floor_12']=(tr2.floor==12).apply(int)\n",
    "tst.loc[:,'floor_12']=(tst.floor==12).apply(int)\n",
    "\n",
    "tr2.loc[:,'floor_13_18']=((tr2.max_floor>12) & (tr2.max_floor<=18)).apply(int)\n",
    "tst.loc[:,'floor_13_18']=((tst.max_floor>12) & (tst.max_floor<=18)).apply(int)\n",
    "\n",
    "tr2.loc[:,'floor_high']=(tr2.floor>18).apply(int)\n",
    "tst.loc[:,'floor_high']=(tst.floor>15).apply(int)\n"
   ]
  },
  {
   "cell_type": "code",
   "execution_count": 12,
   "metadata": {},
   "outputs": [
    {
     "data": {
      "image/png": "[encoded data removed]",
      "text/plain": [
       "<matplotlib.figure.Figure at 0x12724400>"
      ]
     },
     "metadata": {},
     "output_type": "display_data"
    }
   ],
   "source": [
    "tr2.loc[:,'kremlin_near']=(tr2.kremlin_km<3).apply(int)\n",
    "tst.loc[:,'kremlin_near']=(tst.kremlin_km<3).apply(int)\n",
    "\n",
    "tr2.loc[:,'kremlin_1_5']=((tr2.kremlin_km>=1) & (tr2.kremlin_km<=5)).apply(int)\n",
    "tst.loc[:,'kremlin_1_5']=((tst.kremlin_km>=1) & (tst.kremlin_km<=5)).apply(int)\n",
    "\n",
    "tr2.loc[:,'kremlin_5_10']=((tr2.kremlin_km>5) & (tr2.kremlin_km<10)).apply(int)\n",
    "tst.loc[:,'kremlin_5_10']=((tst.kremlin_km>5) & (tst.kremlin_km<10)).apply(int)\n",
    "\n",
    "\n",
    "plt.hist(tr2.kremlin_km,20)\n",
    "plt.show()"
   ]
  },
  {
   "cell_type": "code",
   "execution_count": 13,
   "metadata": {},
   "outputs": [
    {
     "data": {
      "image/png": "[encoded data removed]",
      "text/plain": [
       "<matplotlib.figure.Figure at 0x136a91d0>"
      ]
     },
     "metadata": {},
     "output_type": "display_data"
    }
   ],
   "source": [
    "plt.hist(tr2.floor_high)\n",
    "plt.show()"
   ]
  },
  {
   "cell_type": "code",
   "execution_count": 14,
   "metadata": {
    "collapsed": true
   },
   "outputs": [],
   "source": [
    "#ownership\n",
    "\n",
    "tr2.loc[:,'own']=(tr2.product_type=='OwnerOccupier').apply(int)\n",
    "tst.loc[:,'own']=(tst.product_type=='OwnerOccupier').apply(int)\n",
    "\n",
    "#poselenie\n",
    "#area_mo='Poselenie|Silino|Troickij okrug|Matushkino|Savelki|Severnoe|Vnukovo'\n",
    "area_mo='Poselenie'\n",
    "\n",
    "\n",
    "tr2.loc[:,'poselok']=tr2.sub_area.str.contains(area_mo).apply(int)\n",
    "tst.loc[:,'poselok']=tst.sub_area.str.contains(area_mo).apply(int)\n",
    "\n",
    "#radiation\n",
    "\n",
    "tr2.loc[:,'radiate']=(tr2.radiation_raion=='yes').apply(int)\n",
    "tst.loc[:,'radiate']=(tst.radiation_raion=='yes').apply(int)\n",
    "\n"
   ]
  },
  {
   "cell_type": "code",
   "execution_count": null,
   "metadata": {
    "collapsed": true
   },
   "outputs": [],
   "source": []
  },
  {
   "cell_type": "code",
   "execution_count": 16,
   "metadata": {},
   "outputs": [
    {
     "data": {
      "image/png": "[encoded data removed]",
      "text/plain": [
       "<matplotlib.figure.Figure at 0x10d6e128>"
      ]
     },
     "metadata": {},
     "output_type": "display_data"
    }
   ],
   "source": [
    "plt.hist((tr2.metro_min_avto),20)\n",
    "plt.show()\n",
    "\n",
    "#___metro features\n",
    "tr2.loc[:,'metro_near']=(tr2.metro_min_avto<=3.4).apply(int)\n",
    "tst.loc[:,'metro_near']=(tst.metro_min_avto<=3.4).apply(int)\n",
    "tr2.loc[:,'metro_far']=(tr2.metro_min_avto>=20).apply(int)\n",
    "tst.loc[:,'metro_far']=(tst.metro_min_avto>=20).apply(int)\n"
   ]
  },
  {
   "cell_type": "code",
   "execution_count": 17,
   "metadata": {
    "collapsed": true
   },
   "outputs": [],
   "source": [
    "from sklearn.model_selection import train_test_split\n",
    "\n",
    "\n",
    "features=['num_room','full_sq','kitch_sq','floor','first','last',\n",
    "          'floor_low','floor_5','floor_9','floor_12','floor_13_18','floor_high',\n",
    "          'state','kremlin_near','kremlin_1_5','kremlin_5_10','mean_price',\n",
    "          'own','metro_near','metro_far','poselok','radiate','indust_part']\n",
    "\n",
    "\n",
    "\n",
    "features_mos=['num_room','full_sq','kitch_sq','floor','first','last',\n",
    "          'floor_low','floor_5','floor_9','floor_12','floor_13_18','floor_high',\n",
    "          'state','sadovoe_km','kremlin_1_5','indust_part','feb16','cheat',\n",
    "          'own','metro_min_avto','mean_price','material']\n",
    "\n",
    "\n",
    "\n",
    "features_pos=['num_room','full_sq','first','last',\n",
    "          'floor_12','mkad_km','metro_min_avto','indust_part','mean_price']\n",
    "\n",
    "np.random.seed(123)\n",
    "\n",
    "\n",
    "tr_pos=tr2[tr2.poselok==1]\n",
    "tr_mos=tr2[tr2.poselok==0]\n",
    "tst_pos=tst[tst.poselok==1]\n",
    "tst_mos=tst[tst.poselok==0]\n",
    "\n",
    "X_train, X_test, y_train, y_test = train_test_split(tr2.loc[:,features], tr2.price_doc, test_size=0.33, random_state=42)\n",
    "X_train_pos, X_test_pos, y_train_pos, y_test_pos = train_test_split(tr_pos.loc[:,features_pos], tr_pos.price_doc, test_size=0.33, random_state=42)\n",
    "X_train_mos, X_test_mos, y_train_mos, y_test_mos = train_test_split(tr_mos.loc[:,features_mos], tr_mos.price_doc, test_size=0.33, random_state=42)\n"
   ]
  },
  {
   "cell_type": "code",
   "execution_count": null,
   "metadata": {
    "collapsed": true
   },
   "outputs": [],
   "source": []
  },
  {
   "cell_type": "code",
   "execution_count": 34,
   "metadata": {},
   "outputs": [
    {
     "name": "stdout",
     "output_type": "stream",
     "text": [
      "[('num_room', -178597.30235694791), ('full_sq', 162387.07020639555), ('kitch_sq', 58178.799312658062), ('floor', 25126.667701352151), ('first', -1185213.8027422931), ('last', -499762.51904943644), ('floor_low', -302531.83171598177), ('floor_5', -286744.36851588491), ('floor_9', -179408.51678782917), ('floor_12', 622722.0562141767), ('floor_13_18', -189520.23476776091), ('floor_high', 717690.82869930263), ('state', 830141.8295003043), ('kremlin_near', -1052479.5203146259), ('kremlin_1_5', 6064597.160015828), ('kremlin_5_10', 1836689.9572893505), ('mean_price', 7.0506412580365492), ('own', 687649.51917438244), ('metro_near', 871048.81335859653), ('metro_far', -1090538.2785541762), ('poselok', -1832527.6515936814), ('radiate', 167366.56776669089), ('indust_part', -3873155.5654301443)]\n"
     ]
    },
    {
     "data": {
      "text/plain": [
       "0.59752681247283645"
      ]
     },
     "execution_count": 34,
     "metadata": {},
     "output_type": "execute_result"
    }
   ],
   "source": [
    "#----all linear\n",
    "#fit1 = LinearRegression()\n",
    "\n",
    "fit1 = Lasso(alpha=0.7,fit_intercept=True,positive=False)\n",
    "fit1 = fit1.fit(X_train, y_train)\n",
    "print(zip(features,fit1.coef_))\n",
    "#pred = fit2.predict(X_test)\n",
    "fit1.score(X_test,y_test)"
   ]
  },
  {
   "cell_type": "code",
   "execution_count": 50,
   "metadata": {},
   "outputs": [
    {
     "name": "stdout",
     "output_type": "stream",
     "text": [
      "[('num_room', 94.067568024197982), ('full_sq', 10.937465927038989), ('first', -33.071735361977943), ('last', -2.7998383268681177), ('floor_12', 11.30012473911937), ('mkad_km', -8.9489819686784013), ('metro_min_avto', -17.804355811810069), ('indust_part', -1583.6339636971688), ('mean_price', 0.0035903548747688802)]\n",
      "0.825067037321\n",
      "260 900000.0 15123923.0483\n",
      "260 990000 15043290\n"
     ]
    }
   ],
   "source": [
    "#poselok linear\n",
    "#fit2= LinearRegression()\n",
    "fit2 = Lasso(alpha=0.1,fit_intercept=True,positive=False)\n",
    "fit2= fit2.fit(X_train_pos, np.sqrt(y_train_pos))\n",
    "print(zip(features_pos,fit2.coef_))\n",
    "pred = fit2.predict(X_test_pos)\n",
    "pred=pred**2\n",
    "#print fit2.score(X_test_pos,y_test_pos)\n",
    "\n",
    "pred[pred<900000]=900000\n",
    "\n",
    "print r2_score (y_test_pos,pred)\n",
    "print len(pred),min(pred),max(pred)\n",
    "print len(y_test_pos),min(y_test_pos),max(y_test_pos)\n",
    "\n"
   ]
  },
  {
   "cell_type": "code",
   "execution_count": 49,
   "metadata": {},
   "outputs": [
    {
     "name": "stdout",
     "output_type": "stream",
     "text": [
      "[('num_room', 19.663973047211446), ('full_sq', 22.548575409826544), ('kitch_sq', 12.208066041381548), ('floor', 12.823816079345326), ('first', -206.4857100478888), ('last', -110.28577966879382), ('floor_low', 39.821439244656382), ('floor_5', -80.896777140726655), ('floor_9', 28.500723520133207), ('floor_12', 91.142612500391309), ('floor_13_18', 5.3400578516353949), ('floor_high', 194.19969479832355), ('state', 95.438038861793316), ('sadovoe_km', -33.256348920672266), ('kremlin_1_5', 363.8117358323766), ('indust_part', -498.39713713095176), ('feb16', -0.0023975007786131474), ('cheat', 1.149729876320179e-05), ('own', 39.098683991286599), ('metro_min_avto', 7.4095387240120543), ('mean_price', 0.00086440035556453331), ('material', 1.3055945627647578)]\n",
      "________________\n",
      "0.618578497963\n",
      "724 2452464.19154 54998329.9785\n",
      "724 976000 70000000\n"
     ]
    }
   ],
   "source": [
    "#moscow linear\n",
    "#fit2= LinearRegression()\n",
    "fit2 = Lasso(alpha=0.1,fit_intercept=True,positive=False)\n",
    "\n",
    "fit2= fit2.fit(X_train_mos, np.sqrt(y_train_mos))\n",
    "print(zip(features_mos,fit2.coef_))\n",
    "pred = fit2.predict(X_test_mos)\n",
    "pred=pred**2\n",
    "\n",
    "#print fit2.score(X_test_mos,y_test_mos)\n",
    "pred[pred<950000]=950000\n",
    "\n",
    "print '________________'\n",
    "print r2_score (y_test_mos,pred)\n",
    "print len(pred),min(pred),max(pred)\n",
    "print len(y_test_mos),min(y_test_mos),max(y_test_mos)\n",
    "\n"
   ]
  },
  {
   "cell_type": "markdown",
   "metadata": {},
   "source": [
    "np.random.seed(123)\n",
    "tr_mos=tr2[tr2.poselok==0]\n",
    "tst_mos=tst[tst.poselok==0]\n",
    "\n",
    "tr_type=(tr_mos.dtypes==np.float64)|(tr_mos.dtypes==np.int64)\n",
    "dig_features_mos=list(tr_mos.loc[:,tr_type].columns)\n",
    "X_train_mos, X_test_mos, y_train_mos, y_test_mos = train_test_split(tr_mos.loc[:,dig_features_mos], tr_mos.price_doc, test_size=0.33, random_state=42)\n",
    "\n",
    "X_train_mos[X_train_mos.isnull()]=99999\n",
    "X_test_mos[X_test_mos.isnull()]=99999\n"
   ]
  },
  {
   "cell_type": "markdown",
   "metadata": {},
   "source": [
    "np.random.seed(123)\n",
    "fit_rf = RandomForestClassifier(n_jobs=2,n_estimators=150)\n",
    "fit_rf= fit_rf.fit(X_train_mos, y_train_mos)\n",
    "pred = fit_rf.predict(X_test_mos)\n",
    "\n",
    "#pred[pred<950000]=950000\n",
    "\n",
    "print '________________'\n",
    "print r2_score (y_test_mos,pred)\n",
    "print len(pred),min(pred),max(pred)\n",
    "print len(y_test_mos),min(y_test_mos),max(y_test_mos)\n"
   ]
  },
  {
   "cell_type": "code",
   "execution_count": 51,
   "metadata": {},
   "outputs": [
    {
     "name": "stdout",
     "output_type": "stream",
     "text": [
      "1575 1272402.00797 15499510.7491\n",
      "785 990000 15043290\n"
     ]
    }
   ],
   "source": [
    "#3 linear model for pos \n",
    "#fit = LinearRegression()\n",
    "fit = Lasso(alpha=0.1,fit_intercept=True,positive=False)\n",
    "X=tr2.loc[tr2.poselok==1,features_pos]\n",
    "Y=tr2.loc[tr2.poselok==1,'price_doc']\n",
    "fit = fit.fit(X, np.sqrt(Y))\n",
    "\n",
    "pred_pos = fit.predict(tst.loc[tst.poselok==1,features_pos])\n",
    "pred_pos=pred_pos**2\n",
    "pred_pos[pred_pos<900000]=900000\n",
    "\n",
    "print len(pred_pos),min(pred_pos),max(pred_pos)\n",
    "print len(Y),min(Y),max(Y)\n"
   ]
  },
  {
   "cell_type": "code",
   "execution_count": 52,
   "metadata": {},
   "outputs": [
    {
     "name": "stdout",
     "output_type": "stream",
     "text": [
      "6087 2231984.19552 154420033.192\n"
     ]
    }
   ],
   "source": [
    "#3 linear model for pos and mos\n",
    "#fit = LinearRegression()\n",
    "fit = Lasso(alpha=0.1,fit_intercept=True,positive=False)\n",
    "\n",
    "X=tr2.loc[tr2.poselok==0,features_mos]\n",
    "Y=tr2.loc[tr2.poselok==0,'price_doc']\n",
    "fit = fit.fit(X, np.sqrt(Y))\n",
    "\n",
    "pred_mos = fit.predict(tst.loc[tst.poselok==0,features_mos])\n",
    "pred_mos=pred_mos**2\n",
    "pred_mos[pred_mos<900000]=900000\n",
    "print len(pred_mos),min(pred_mos),max(pred_mos)\n",
    "\n"
   ]
  },
  {
   "cell_type": "code",
   "execution_count": 53,
   "metadata": {
    "collapsed": true
   },
   "outputs": [],
   "source": [
    "res1=pd.DataFrame({'id':tst.loc[tst.poselok==1,'id'],'price_doc':(pred_pos)})\n",
    "#print res1.describe()\n",
    "\n",
    "res2=pd.DataFrame({'id':tst.loc[tst.poselok==0,'id'],'price_doc':(pred_mos)})\n",
    "#print res2.describe()\n",
    "res=pd.concat([res1,res2])\n",
    "del res1,res2"
   ]
  },
  {
   "cell_type": "code",
   "execution_count": 54,
   "metadata": {
    "collapsed": true
   },
   "outputs": [],
   "source": [
    "#pd.DataFrame({'id':tst.id,'price_doc':(pred)}).to_csv(location+'submission.csv',sep=',',index=False)\n",
    "res.to_csv(location+'submission2.csv',sep=',',index=False)\n"
   ]
  },
  {
   "cell_type": "code",
   "execution_count": 55,
   "metadata": {
    "collapsed": true
   },
   "outputs": [],
   "source": [
    "np.random.seed(123)\n"
   ]
  },
  {
   "cell_type": "code",
   "execution_count": 57,
   "metadata": {},
   "outputs": [
    {
     "data": {
      "image/png": "[encoded data removed]",
      "text/plain": [
       "<matplotlib.figure.Figure at 0x11812588>"
      ]
     },
     "metadata": {},
     "output_type": "display_data"
    }
   ],
   "source": [
    "plt.hist(np.log(res.price_doc),100)\n",
    "plt.show()"
   ]
  },
  {
   "cell_type": "code",
   "execution_count": null,
   "metadata": {
    "collapsed": true
   },
   "outputs": [],
   "source": []
  }
 ],
 "metadata": {
  "kernelspec": {
   "display_name": "Python 2",
   "language": "python",
   "name": "python2"
  },
  "language_info": {
   "codemirror_mode": {
    "name": "ipython",
    "version": 2
   },
   "file_extension": ".py",
   "mimetype": "text/x-python",
   "name": "python",
   "nbconvert_exporter": "python",
   "pygments_lexer": "ipython2",
   "version": "2.7.13"
  }
 },
 "nbformat": 4,
 "nbformat_minor": 2
}
