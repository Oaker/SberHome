{
 "cells": [
  {
   "cell_type": "code",
   "execution_count": 1,
   "metadata": {
    "collapsed": true
   },
   "outputs": [],
   "source": [
    "import pandas as pd\n",
    "import numpy as np\n",
    "import datetime as dt\n",
    "import matplotlib.pyplot as plt\n",
    "#from sklearn.ensemble import RandomForestClassifier\n",
    "\n",
    "from sklearn.metrics import r2_score\n",
    "\n",
    "from sklearn.linear_model import LinearRegression"
   ]
  },
  {
   "cell_type": "code",
   "execution_count": 2,
   "metadata": {
    "collapsed": true
   },
   "outputs": [],
   "source": [
    "location=\"D:\\s_chernov\\AnacondaProjects\\SberHouse\\Data\\\\\"\n",
    "tr=pd.read_csv(location+\"train.csv\",sep=',')\n",
    "tst=pd.read_csv(location+\"test.csv\",sep=',')\n",
    "macro=pd.read_csv(location+\"sample_submission.csv\",sep=',')\n",
    "cheat=pd.read_csv(location+\"sqprice.csv\",sep=';')\n",
    "\n"
   ]
  },
  {
   "cell_type": "code",
   "execution_count": 3,
   "metadata": {
    "collapsed": true
   },
   "outputs": [],
   "source": [
    "from dateutil.parser import parse\n",
    "\n",
    "dfDateTime=tr[\"timestamp\"]\n",
    "b=map(parse,dfDateTime)\n",
    "year=map(lambda x:x.year,b)\n",
    "month=map(lambda x:x.month,b)\n",
    "day=map(lambda x:x.day,b)\n",
    "tr['year']=year\n",
    "tr['month']=month\n",
    "tr['day']=day\n",
    "\n",
    "dfDateTime=tst[\"timestamp\"]\n",
    "b=map(parse,dfDateTime)\n",
    "year=map(lambda x:x.year,b)\n",
    "month=map(lambda x:x.month,b)\n",
    "day=map(lambda x:x.day,b)\n",
    "tst['year']=year\n",
    "tst['month']=month\n",
    "tst['day']=day"
   ]
  },
  {
   "cell_type": "code",
   "execution_count": 4,
   "metadata": {
    "collapsed": true
   },
   "outputs": [],
   "source": [
    "#tr=pd.concat([tr, cheat], axis=1, join='outer')\n",
    "#tst=pd.concat([tr, cheat], axis=1, join='outer')\n",
    "\n",
    "\n",
    "tr=pd.merge(tr, cheat, how='left', on=['sub_area', 'sub_area'])\n",
    "tst=pd.merge(tst, cheat, how='left', on=['sub_area', 'sub_area'])\n",
    "\n",
    "tr.loc[:,'cheat']=tr.full_sq*tr.feb16\n",
    "tst.loc[:,'cheat']=tst.full_sq*tst.feb16\n"
   ]
  },
  {
   "cell_type": "code",
   "execution_count": 5,
   "metadata": {
    "collapsed": true
   },
   "outputs": [],
   "source": [
    "tr=tr.drop('timestamp',axis=1)\n",
    "tst=tst.drop('timestamp',axis=1)"
   ]
  },
  {
   "cell_type": "code",
   "execution_count": 6,
   "metadata": {
    "collapsed": true
   },
   "outputs": [],
   "source": [
    "#features by type\n",
    "response='price_doc'\n",
    "\n",
    "tr_type=(tr.dtypes==np.float64)|(tr.dtypes==np.int64)\n",
    "dig_features=list(tr.loc[:,tr_type].columns)\n",
    "dig_features.remove(response)\n",
    "tr_type=(tr.dtypes==np.object)\n",
    "obj_features=list(tr.loc[:,tr_type].columns)\n",
    "tr2=tr.loc[tr.year==2015]\n"
   ]
  },
  {
   "cell_type": "code",
   "execution_count": null,
   "metadata": {
    "collapsed": true
   },
   "outputs": [],
   "source": []
  },
  {
   "cell_type": "code",
   "execution_count": 7,
   "metadata": {
    "collapsed": true
   },
   "outputs": [],
   "source": [
    "#___price and floor error\n",
    "\n",
    "#print tst.loc[(tst.floor>tst.max_floor),['id','full_sq','floor','max_floor','sub_area']]\n",
    "\n",
    "#_____price error\n",
    "#print tr2.loc[(tr2.full_sq>180) &(tr2.price_doc<10000000),['id','full_sq','price_doc','sub_area']].index\n",
    "tr2=tr2.drop( tr2.loc[(tr2.full_sq>180) &(tr2.price_doc<10000000)].index)\n",
    "\n",
    "#___max_floor error\n",
    "tr2=tr2.drop(tr2.loc[(tr2.floor>tr2.max_floor)].index)\n",
    "correct=tst.loc[(tst.floor>tst.max_floor)].index\n",
    "tst.loc[correct,'max_floor']=tst.floor[correct]+1\n",
    "tr2=tr2.drop(tr2.loc[(tr2.num_room==0)].index)\n"
   ]
  },
  {
   "cell_type": "code",
   "execution_count": 8,
   "metadata": {},
   "outputs": [
    {
     "name": "stdout",
     "output_type": "stream",
     "text": [
      "         id  full_sq  num_room            sub_area\n",
      "2804  33278     14.8         1  Chertanovo Juzhnoe\n"
     ]
    }
   ],
   "source": [
    "#___square and num_room error\n",
    "#print tr2.loc[(tr2.full_sq==64),['id','full_sq','num_room','price_doc','sub_area']]\n",
    "\n",
    "tr2.loc[28867,'num_room']=1\n",
    "tr2.loc[29172,'num_room']=2\n",
    "\n",
    "tst.loc[464,'full_sq']=42\n",
    "tst.loc[3500,'full_sq']=50\n",
    "tst.loc[6350,'full_sq']=50\n",
    "tst.loc[5383,'full_sq']=64\n",
    "tst.loc[3174,'num_room']=1\n",
    "tst.loc[6003,'num_room']=1\n",
    "tst.loc[6181,'num_room']=2\n",
    "tst.loc[7213,'num_room']=1\n",
    "tst.loc[7313,'num_room']=1\n",
    "tst.loc[1417,'num_room']=1\n",
    "tst.loc[1429,'num_room']=1\n",
    "\n",
    "#print tr2.loc[(tr2.full_sq/tr2.num_room<15),['id','full_sq','num_room','price_doc','sub_area']]\n",
    "print tst.loc[(tst.full_sq/tst.num_room<15),['id','full_sq','num_room','sub_area']]\n"
   ]
  },
  {
   "cell_type": "code",
   "execution_count": 9,
   "metadata": {
    "collapsed": true
   },
   "outputs": [],
   "source": [
    "#_________kitchen error\n",
    "\n",
    "correct=tst.loc[(tst.kitch_sq/tst.full_sq>0.5)].index\n",
    "tst.at[correct,'kitch_sq']=8\n",
    "\n",
    "correct=tr2.loc[(tr.kitch_sq/tr.full_sq>0.5)].index\n",
    "tr2.at[correct,'kitch_sq']=8\n",
    "\n",
    "#print tst.loc[(tst.kitch_sq/tst.full_sq>0.5),['id','full_sq','kitch_sq','sub_area']]\n",
    "#print tr2.loc[(tr2.kitch_sq/tr2.full_sq>0.5),['id','full_sq','kitch_sq','sub_area']]\n",
    "\n",
    "#state error\n",
    "\n",
    "tr2.at[tr2.state.isnull(),'state']=2\n",
    "tst.at[tst.state.isnull(),'state']=2\n"
   ]
  },
  {
   "cell_type": "code",
   "execution_count": 10,
   "metadata": {
    "collapsed": true
   },
   "outputs": [],
   "source": [
    "#______last and first floor\n",
    "\n",
    "tr2.loc[:,'first']=(tr2.floor==1).apply(int)\n",
    "tr2.loc[:,'last']=(tr2.floor==tr2.max_floor).apply(int)\n",
    "tst.loc[:,'first']=(tst.floor==1).apply(int)\n",
    "tst.loc[:,'last']=(tst.floor==tst.max_floor).apply(int)\n",
    "\n",
    "\n",
    "tr2.loc[:,'floor_low']=(tr2.floor<5).apply(int)\n",
    "tst.loc[:,'floor_low']=(tst.floor<5).apply(int)\n",
    "\n",
    "tr2.loc[:,'floor_5']=(tr2.floor==5).apply(int)\n",
    "tst.loc[:,'floor_5']=(tst.floor==5).apply(int)\n",
    "\n",
    "tr2.loc[:,'floor_9']=(tr2.floor==9).apply(int)\n",
    "tst.loc[:,'floor_9']=(tst.floor==9).apply(int)\n",
    "\n",
    "tr2.loc[:,'floor_12']=(tr2.floor==12).apply(int)\n",
    "tst.loc[:,'floor_12']=(tst.floor==12).apply(int)\n",
    "\n",
    "tr2.loc[:,'floor_13_18']=((tr2.max_floor>12) & (tr2.max_floor<=18)).apply(int)\n",
    "tst.loc[:,'floor_13_18']=((tst.max_floor>12) & (tst.max_floor<=18)).apply(int)\n",
    "\n",
    "tr2.loc[:,'floor_high']=(tr2.floor>18).apply(int)\n",
    "tst.loc[:,'floor_high']=(tst.floor>15).apply(int)\n"
   ]
  },
  {
   "cell_type": "code",
   "execution_count": 30,
   "metadata": {},
   "outputs": [
    {
     "data": {
      "image/png": "[encoded data removed]",
      "text/plain": [
       "<matplotlib.figure.Figure at 0x122ca2e8>"
      ]
     },
     "metadata": {},
     "output_type": "display_data"
    }
   ],
   "source": [
    "\n",
    "\n",
    "tr2.loc[:,'kremlin_near']=(tr2.kremlin_km<3).apply(int)\n",
    "tst.loc[:,'kremlin_near']=(tst.kremlin_km<3).apply(int)\n",
    "\n",
    "tr2.loc[:,'kremlin_1_5']=((tr2.kremlin_km>=1) & (tr2.kremlin_km<=5)).apply(int)\n",
    "tst.loc[:,'kremlin_1_5']=((tst.kremlin_km>=1) & (tst.kremlin_km<=5)).apply(int)\n",
    "\n",
    "tr2.loc[:,'kremlin_5_10']=((tr2.kremlin_km>5) & (tr2.kremlin_km<10)).apply(int)\n",
    "tst.loc[:,'kremlin_5_10']=((tst.kremlin_km>5) & (tst.kremlin_km<10)).apply(int)\n",
    "\n",
    "\n",
    "plt.hist(tr2.kremlin_km,20)\n",
    "plt.show()"
   ]
  },
  {
   "cell_type": "code",
   "execution_count": 31,
   "metadata": {},
   "outputs": [
    {
     "data": {
      "image/png": "[encoded data removed]",
      "text/plain": [
       "<matplotlib.figure.Figure at 0x106c2898>"
      ]
     },
     "metadata": {},
     "output_type": "display_data"
    }
   ],
   "source": [
    "plt.hist(tr2.floor_high)\n",
    "plt.show()"
   ]
  },
  {
   "cell_type": "code",
   "execution_count": 32,
   "metadata": {
    "collapsed": true
   },
   "outputs": [],
   "source": [
    "#ownership\n",
    "\n",
    "tr2.loc[:,'own']=(tr2.product_type=='OwnerOccupier').apply(int)\n",
    "tst.loc[:,'own']=(tst.product_type=='OwnerOccupier').apply(int)\n",
    "\n",
    "#poselenie\n",
    "#area_mo='Poselenie|Silino|Troickij okrug|Matushkino|Savelki|Severnoe|Vnukovo'\n",
    "area_mo='Poselenie'\n",
    "\n",
    "\n",
    "tr2.loc[:,'poselok']=tr2.sub_area.str.contains(area_mo).apply(int)\n",
    "tst.loc[:,'poselok']=tst.sub_area.str.contains(area_mo).apply(int)\n",
    "\n",
    "#radiation\n",
    "\n",
    "tr2.loc[:,'radiate']=(tr2.radiation_raion=='yes').apply(int)\n",
    "tst.loc[:,'radiate']=(tst.radiation_raion=='yes').apply(int)\n",
    "\n"
   ]
  },
  {
   "cell_type": "code",
   "execution_count": null,
   "metadata": {
    "collapsed": true
   },
   "outputs": [],
   "source": []
  },
  {
   "cell_type": "code",
   "execution_count": 33,
   "metadata": {},
   "outputs": [
    {
     "data": {
      "image/png": "[encoded data removed]",
      "text/plain": [
       "<matplotlib.figure.Figure at 0x11eda668>"
      ]
     },
     "metadata": {},
     "output_type": "display_data"
    }
   ],
   "source": [
    "plt.hist((tr2.metro_min_avto),20)\n",
    "plt.show()\n",
    "\n",
    "#___metro features\n",
    "tr2.loc[:,'metro_near']=(tr2.metro_min_avto<=3.4).apply(int)\n",
    "tst.loc[:,'metro_near']=(tst.metro_min_avto<=3.4).apply(int)\n",
    "tr2.loc[:,'metro_far']=(tr2.metro_min_avto>=20).apply(int)\n",
    "tst.loc[:,'metro_far']=(tst.metro_min_avto>=20).apply(int)\n"
   ]
  },
  {
   "cell_type": "code",
   "execution_count": 38,
   "metadata": {
    "collapsed": true
   },
   "outputs": [],
   "source": [
    "from sklearn.model_selection import train_test_split\n",
    "\n",
    "#features=['num_room','full_sq','kitch_sq','floor','floor_5','floor_high','state',\n",
    "#          'kremlin_near','kremlin_3_5','kremlin_5_15','first','last',\n",
    "#          'own','metro_near']\n",
    "\n",
    "features=['num_room','full_sq','kitch_sq','floor','first','last',\n",
    "          'floor_low','floor_5','floor_9','floor_12','floor_13_18','floor_high',\n",
    "          'state','kremlin_near','kremlin_1_5','kremlin_5_10',\n",
    "          'own','metro_near','metro_far','poselok','radiate','indust_part']\n",
    "\n",
    "\n",
    "\n",
    "#features_mos=['num_room','full_sq','kitch_sq','floor','first','last',\n",
    "#          'floor_low','floor_5','floor_9','floor_12','floor_13_18','floor_high',\n",
    "#          'state','kremlin_near','kremlin_3_5','kremlin_5_15','indust_part',\n",
    "#          'own','metro_near','metro_far','feb16','cheat']\n",
    "\n",
    "features_mos=['num_room','full_sq','kitch_sq','floor','first','last',\n",
    "          'floor_low','floor_5','floor_9','floor_12','floor_13_18','floor_high',\n",
    "          'state','sadovoe_km','kremlin_1_5','indust_part',\n",
    "          'own','metro_min_avto','feb16','cheat']\n",
    "\n",
    "\n",
    "\n",
    "features_pos=['num_room','full_sq','first','last',\n",
    "          'floor_12','mkad_km','metro_min_avto','indust_part']\n",
    "\n",
    "np.random.seed(123)\n",
    "\n",
    "\n",
    "tr_pos=tr2[tr2.poselok==1]\n",
    "tr_mos=tr2[tr2.poselok==0]\n",
    "tst_pos=tst[tst.poselok==1]\n",
    "tst_mos=tst[tst.poselok==0]\n",
    "\n",
    "\n",
    "X_train, X_test, y_train, y_test = train_test_split(tr2.loc[:,features], tr2.price_doc, test_size=0.33, random_state=42)\n",
    "X_train_pos, X_test_pos, y_train_pos, y_test_pos = train_test_split(tr_pos.loc[:,features_pos], tr_pos.price_doc, test_size=0.33, random_state=42)\n",
    "X_train_mos, X_test_mos, y_train_mos, y_test_mos = train_test_split(tr_mos.loc[:,features_mos], tr_mos.price_doc, test_size=0.33, random_state=42)\n"
   ]
  },
  {
   "cell_type": "code",
   "execution_count": null,
   "metadata": {
    "collapsed": true
   },
   "outputs": [],
   "source": []
  },
  {
   "cell_type": "code",
   "execution_count": 39,
   "metadata": {},
   "outputs": [
    {
     "name": "stdout",
     "output_type": "stream",
     "text": [
      "[('num_room', -126995.68398889345), ('full_sq', 159367.4064365424), ('kitch_sq', 71914.513644346065), ('floor', 27750.689235124737), ('first', -1252895.1751890976), ('last', -519630.87869510357), ('floor_low', -255265.51240518398), ('floor_5', -222975.65563606372), ('floor_9', -122142.86457745195), ('floor_12', 586744.73006148171), ('floor_13_18', -385295.32855105738), ('floor_high', 721182.2652428057), ('state', 824194.62436382566), ('kremlin_near', -1472539.3075717157), ('kremlin_1_5', 5741409.5557017513), ('kremlin_5_10', 1406775.4290156181), ('own', 880938.07661591202), ('metro_near', 1002830.4848786194), ('metro_far', -1232209.3720508623), ('poselok', -2204482.6486156993), ('radiate', 233075.55095686915), ('indust_part', -4003055.6870031548)]\n"
     ]
    },
    {
     "data": {
      "text/plain": [
       "0.58882669533957266"
      ]
     },
     "execution_count": 39,
     "metadata": {},
     "output_type": "execute_result"
    }
   ],
   "source": [
    "#----all linear\n",
    "fit1 = LinearRegression()\n",
    "fit1 = fit1.fit(X_train, y_train)\n",
    "print(zip(features,fit1.coef_))\n",
    "#pred = fit2.predict(X_test)\n",
    "fit1.score(X_test,y_test)"
   ]
  },
  {
   "cell_type": "code",
   "execution_count": 40,
   "metadata": {},
   "outputs": [
    {
     "name": "stdout",
     "output_type": "stream",
     "text": [
      "[('num_room', 500781.51125017449), ('full_sq', 51928.150550338672), ('first', -142460.67546356164), ('last', -1463.1586222002525), ('floor_12', 32357.241971061183), ('mkad_km', -30712.731433985318), ('metro_min_avto', -84923.297251411102), ('indust_part', -7416456.031421761)]\n",
      "0.814879259\n",
      "260 900000.0 13518712.308\n",
      "260 990000 15043290\n"
     ]
    }
   ],
   "source": [
    "#poselok linear\n",
    "fit2= LinearRegression()\n",
    "fit2= fit2.fit(X_train_pos, y_train_pos)\n",
    "print(zip(features_pos,fit2.coef_))\n",
    "pred = fit2.predict(X_test_pos)\n",
    "#print fit2.score(X_test_pos,y_test_pos)\n",
    "\n",
    "pred[pred<900000]=900000\n",
    "\n",
    "print r2_score (y_test_pos,pred)\n",
    "print len(pred),min(pred),max(pred)\n",
    "print len(y_test_pos),min(y_test_pos),max(y_test_pos)\n",
    "\n"
   ]
  },
  {
   "cell_type": "code",
   "execution_count": 41,
   "metadata": {},
   "outputs": [
    {
     "name": "stdout",
     "output_type": "stream",
     "text": [
      "[('num_room', -441339.68918436917), ('full_sq', 148987.54403792907), ('kitch_sq', 40070.324268967284), ('floor', 68154.705883712013), ('first', -1459878.773360003), ('last', -771960.71569261537), ('floor_low', 254169.78116893099), ('floor_5', -335134.92994374922), ('floor_9', 162377.21441213845), ('floor_12', 655277.52588319837), ('floor_13_18', -66859.499787577821), ('floor_high', 1076679.7930764027), ('state', 774933.29641806148), ('sadovoe_km', -237318.99647236703), ('kremlin_1_5', 2929612.2115305783), ('indust_part', -3169568.8791118651), ('own', -216967.88988977094), ('metro_min_avto', 78253.770295169525), ('feb16', -29.30756119301077), ('cheat', 0.31868598307482898)]\n",
      "________________\n",
      "0.602455206229\n",
      "724 950000.0 46386926.4503\n",
      "724 976000 70000000\n"
     ]
    }
   ],
   "source": [
    "#moscow linear\n",
    "fit2= LinearRegression()\n",
    "fit2= fit2.fit(X_train_mos, y_train_mos)\n",
    "print(zip(features_mos,fit2.coef_))\n",
    "pred = fit2.predict(X_test_mos)\n",
    "\n",
    "#print fit2.score(X_test_mos,y_test_mos)\n",
    "pred[pred<950000]=950000\n",
    "\n",
    "print '________________'\n",
    "print r2_score (y_test_mos,pred)\n",
    "print len(pred),min(pred),max(pred)\n",
    "print len(y_test_mos),min(y_test_mos),max(y_test_mos)\n",
    "\n"
   ]
  },
  {
   "cell_type": "code",
   "execution_count": 42,
   "metadata": {
    "collapsed": true
   },
   "outputs": [],
   "source": [
    "#one linear model\n",
    "\n",
    "fit = LinearRegression()\n",
    "X=tr2.loc[:,features]\n",
    "Y=tr2.price_doc\n",
    "fit = fit.fit(X, Y)\n",
    "\n",
    "pred = fit.predict(tst.loc[:,features])\n",
    "pred[pred<500000]=500000"
   ]
  },
  {
   "cell_type": "code",
   "execution_count": 43,
   "metadata": {},
   "outputs": [
    {
     "name": "stdout",
     "output_type": "stream",
     "text": [
      "1575 900000.0 13823013.2043\n",
      "785 990000 15043290\n"
     ]
    }
   ],
   "source": [
    "#3 linear model for pos \n",
    "fit = LinearRegression()\n",
    "X=tr2.loc[tr2.poselok==1,features_pos]\n",
    "Y=tr2.loc[tr2.poselok==1,'price_doc']\n",
    "fit = fit.fit(X, Y)\n",
    "\n",
    "pred_pos = fit.predict(tst.loc[tst.poselok==1,features_pos])\n",
    "pred_pos[pred_pos<900000]=900000\n",
    "\n",
    "print len(pred_pos),min(pred_pos),max(pred_pos)\n",
    "print len(Y),min(Y),max(Y)\n"
   ]
  },
  {
   "cell_type": "code",
   "execution_count": 44,
   "metadata": {
    "collapsed": true
   },
   "outputs": [],
   "source": [
    "\n",
    "#features_mos=['num_room','full_sq','kitch_sq','floor','first','last',\n",
    "#          'floor_low','floor_5','floor_9','floor_12','floor_13_18','floor_high',\n",
    "#          'state','kremlin_near','kremlin_3_5','kremlin_5_15',\n",
    "#          'own','metro_near','metro_far','radiate','indust_part','feb16','cheat','sub_area']\n",
    "\n",
    "#a=tst.loc[tst.poselok==0,:]\n",
    "\n",
    "\n",
    "#a.loc[a.feb16.isnull(),'sub_area']"
   ]
  },
  {
   "cell_type": "code",
   "execution_count": 45,
   "metadata": {},
   "outputs": [
    {
     "name": "stdout",
     "output_type": "stream",
     "text": [
      "6087 900000.0 90529294.1698\n"
     ]
    }
   ],
   "source": [
    "#3 linear model for pos and mos\n",
    "fit = LinearRegression()\n",
    "X=tr2.loc[tr2.poselok==0,features_mos]\n",
    "Y=tr2.loc[tr2.poselok==0,'price_doc']\n",
    "fit = fit.fit(X, Y)\n",
    "\n",
    "pred_mos = fit.predict(tst.loc[tst.poselok==0,features_mos])\n",
    "pred_mos[pred_mos<900000]=900000\n",
    "print len(pred_mos),min(pred_mos),max(pred_mos)\n",
    "\n"
   ]
  },
  {
   "cell_type": "code",
   "execution_count": 46,
   "metadata": {
    "collapsed": true
   },
   "outputs": [],
   "source": [
    "res1=pd.DataFrame({'id':tst.loc[tst.poselok==1,'id'],'price_doc':(pred_pos)})\n",
    "#print res1.describe()\n",
    "\n",
    "res2=pd.DataFrame({'id':tst.loc[tst.poselok==0,'id'],'price_doc':(pred_mos)})\n",
    "#print res2.describe()\n",
    "res=pd.concat([res1,res2])\n",
    "del res1,res2"
   ]
  },
  {
   "cell_type": "code",
   "execution_count": 47,
   "metadata": {
    "collapsed": true
   },
   "outputs": [],
   "source": [
    "#pd.DataFrame({'id':tst.id,'price_doc':(pred)}).to_csv(location+'submission.csv',sep=',',index=False)\n",
    "res.to_csv(location+'submission2.csv',sep=',',index=False)\n"
   ]
  },
  {
   "cell_type": "code",
   "execution_count": 48,
   "metadata": {
    "collapsed": true
   },
   "outputs": [],
   "source": [
    "np.random.seed(123)\n"
   ]
  },
  {
   "cell_type": "code",
   "execution_count": null,
   "metadata": {
    "collapsed": true
   },
   "outputs": [],
   "source": []
  }
 ],
 "metadata": {
  "kernelspec": {
   "display_name": "Python 2",
   "language": "python",
   "name": "python2"
  },
  "language_info": {
   "codemirror_mode": {
    "name": "ipython",
    "version": 2
   },
   "file_extension": ".py",
   "mimetype": "text/x-python",
   "name": "python",
   "nbconvert_exporter": "python",
   "pygments_lexer": "ipython2",
   "version": "2.7.13"
  }
 },
 "nbformat": 4,
 "nbformat_minor": 2
}
