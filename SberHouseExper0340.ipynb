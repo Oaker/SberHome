{
 "cells": [
  {
   "cell_type": "code",
   "execution_count": 1,
   "metadata": {},
   "outputs": [
    {
     "name": "stderr",
     "output_type": "stream",
     "text": [
      "C:\\Anaconda\\lib\\site-packages\\sklearn\\cross_validation.py:44: DeprecationWarning: This module was deprecated in version 0.18 in favor of the model_selection module into which all the refactored classes and functions are moved. Also note that the interface of the new CV iterators are different from that of this module. This module will be removed in 0.20.\n",
      "  \"This module will be removed in 0.20.\", DeprecationWarning)\n"
     ]
    }
   ],
   "source": [
    "import pandas as pd\n",
    "import numpy as np\n",
    "import datetime as dt\n",
    "import matplotlib.pyplot as plt\n",
    "from sklearn.ensemble import RandomForestClassifier\n",
    "from sklearn.linear_model import Lasso\n",
    "from sklearn.metrics import r2_score\n",
    "import xgboost as xgb\n",
    "from sklearn.linear_model import LinearRegression"
   ]
  },
  {
   "cell_type": "code",
   "execution_count": 2,
   "metadata": {},
   "outputs": [
    {
     "data": {
      "text/html": [
       "<div>\n",
       "<table border=\"1\" class=\"dataframe\">\n",
       "  <thead>\n",
       "    <tr style=\"text-align: right;\">\n",
       "      <th></th>\n",
       "      <th>year_month</th>\n",
       "      <th>mean_price</th>\n",
       "    </tr>\n",
       "  </thead>\n",
       "  <tbody>\n",
       "    <tr>\n",
       "      <th>0</th>\n",
       "      <td>2015_1</td>\n",
       "      <td>196000</td>\n",
       "    </tr>\n",
       "    <tr>\n",
       "      <th>1</th>\n",
       "      <td>2015_2</td>\n",
       "      <td>200000</td>\n",
       "    </tr>\n",
       "    <tr>\n",
       "      <th>2</th>\n",
       "      <td>2015_3</td>\n",
       "      <td>205000</td>\n",
       "    </tr>\n",
       "    <tr>\n",
       "      <th>3</th>\n",
       "      <td>2015_4</td>\n",
       "      <td>180000</td>\n",
       "    </tr>\n",
       "    <tr>\n",
       "      <th>4</th>\n",
       "      <td>2015_5</td>\n",
       "      <td>180000</td>\n",
       "    </tr>\n",
       "  </tbody>\n",
       "</table>\n",
       "</div>"
      ],
      "text/plain": [
       "  year_month  mean_price\n",
       "0     2015_1      196000\n",
       "1     2015_2      200000\n",
       "2     2015_3      205000\n",
       "3     2015_4      180000\n",
       "4     2015_5      180000"
      ]
     },
     "execution_count": 2,
     "metadata": {},
     "output_type": "execute_result"
    }
   ],
   "source": [
    "location=\"D:\\s_chernov\\AnacondaProjects\\SberHouse\\Data\\\\\"\n",
    "tr=pd.read_csv(location+\"train.csv\",sep=',')\n",
    "tst=pd.read_csv(location+\"test.csv\",sep=',')\n",
    "macro=pd.read_csv(location+\"sample_submission.csv\",sep=',')\n",
    "cheat=pd.read_csv(location+\"sqprice.csv\",sep=';')\n",
    "prices=pd.read_csv(location+\"dynamic_prices.csv\",sep=';')\n",
    "prices.head()"
   ]
  },
  {
   "cell_type": "code",
   "execution_count": 3,
   "metadata": {
    "collapsed": true
   },
   "outputs": [],
   "source": [
    "from dateutil.parser import parse\n",
    "\n",
    "dfDateTime=tr[\"timestamp\"]\n",
    "b=map(parse,dfDateTime)\n",
    "year=map(lambda x:x.year,b)\n",
    "month=map(lambda x:x.month,b)\n",
    "day=map(lambda x:x.day,b)\n",
    "tr['year']=year\n",
    "tr['month']=month\n",
    "tr['day']=day\n",
    "\n",
    "dfDateTime=tst[\"timestamp\"]\n",
    "b=map(parse,dfDateTime)\n",
    "year=map(lambda x:x.year,b)\n",
    "month=map(lambda x:x.month,b)\n",
    "day=map(lambda x:x.day,b)\n",
    "tst['year']=year\n",
    "tst['month']=month\n",
    "tst['day']=day"
   ]
  },
  {
   "cell_type": "code",
   "execution_count": 4,
   "metadata": {
    "collapsed": true
   },
   "outputs": [],
   "source": [
    "tr['year_month']=map(lambda x,y:str(x)+\"_\"+str(y),tr.year,tr.month)\n",
    "tst['year_month']=map(lambda x,y:str(x)+\"_\"+str(y),tst.year,tst.month)\n",
    "\n",
    "tr=pd.merge(tr, prices, how='left', on=['year_month', 'year_month'])\n",
    "tst=pd.merge(tst, prices, how='left', on=['year_month', 'year_month'])"
   ]
  },
  {
   "cell_type": "code",
   "execution_count": 5,
   "metadata": {
    "collapsed": true
   },
   "outputs": [],
   "source": [
    "#tr=pd.concat([tr, cheat], axis=1, join='outer')\n",
    "#tst=pd.concat([tr, cheat], axis=1, join='outer')\n",
    "\n",
    "\n",
    "tr=pd.merge(tr, cheat, how='left', on=['sub_area', 'sub_area'])\n",
    "tst=pd.merge(tst, cheat, how='left', on=['sub_area', 'sub_area'])\n",
    "\n",
    "tr.loc[:,'cheat']=np.sqrt(tr.full_sq*tr.feb16+1)\n",
    "tst.loc[:,'cheat']=np.sqrt(tst.full_sq*tst.feb16+1)\n",
    "\n",
    "\n",
    "\n"
   ]
  },
  {
   "cell_type": "code",
   "execution_count": 6,
   "metadata": {
    "collapsed": true
   },
   "outputs": [],
   "source": [
    "tr=tr.drop('timestamp',axis=1)\n",
    "tst=tst.drop('timestamp',axis=1)"
   ]
  },
  {
   "cell_type": "code",
   "execution_count": 7,
   "metadata": {
    "collapsed": true
   },
   "outputs": [],
   "source": [
    "tr.material=np.int64(tr.material)\n",
    "tst.material=np.int64(tst.material)"
   ]
  },
  {
   "cell_type": "code",
   "execution_count": 8,
   "metadata": {
    "collapsed": true
   },
   "outputs": [],
   "source": [
    "#features by type\n",
    "response='price_doc'\n",
    "\n",
    "tr_type=(tr.dtypes==np.float64)|(tr.dtypes==np.int64)\n",
    "dig_features=list(tr.loc[:,tr_type].columns)\n",
    "dig_features.remove(response)\n",
    "tr_type=(tr.dtypes==np.object)\n",
    "obj_features=list(tr.loc[:,tr_type].columns)\n",
    "\n",
    "tr2=tr.loc[tr.year==2015]\n"
   ]
  },
  {
   "cell_type": "code",
   "execution_count": 12,
   "metadata": {},
   "outputs": [
    {
     "name": "stderr",
     "output_type": "stream",
     "text": [
      "C:\\Anaconda\\lib\\site-packages\\ipykernel\\__main__.py:4: SettingWithCopyWarning: \n",
      "A value is trying to be set on a copy of a slice from a DataFrame.\n",
      "Try using .loc[row_indexer,col_indexer] = value instead\n",
      "\n",
      "See the caveats in the documentation: http://pandas.pydata.org/pandas-docs/stable/indexing.html#indexing-view-versus-copy\n"
     ]
    }
   ],
   "source": [
    "# not finished building\n",
    "a=tr2.build_year-tr2.year\n",
    "a[(a.isnull())|(a<0)]=0\n",
    "tr2['y_build']=a\n",
    "\n",
    "a=tst.build_year-tst.year\n",
    "a[(a.isnull())|(a<0)]=0\n",
    "tst['y_build']=a"
   ]
  },
  {
   "cell_type": "code",
   "execution_count": 13,
   "metadata": {},
   "outputs": [
    {
     "name": "stderr",
     "output_type": "stream",
     "text": [
      "C:\\Anaconda\\lib\\site-packages\\ipykernel\\__main__.py:2: SettingWithCopyWarning: \n",
      "A value is trying to be set on a copy of a slice from a DataFrame.\n",
      "Try using .loc[row_indexer,col_indexer] = value instead\n",
      "\n",
      "See the caveats in the documentation: http://pandas.pydata.org/pandas-docs/stable/indexing.html#indexing-view-versus-copy\n",
      "  from ipykernel import kernelapp as app\n"
     ]
    }
   ],
   "source": [
    "a=(tr2.y_build>0).apply(int)\n",
    "tr2['flag_build']=a\n",
    "a=(tst.y_build>0).apply(int)\n",
    "tst['flag_build']=a"
   ]
  },
  {
   "cell_type": "code",
   "execution_count": 15,
   "metadata": {},
   "outputs": [
    {
     "data": {
      "text/plain": [
       "27232    0\n",
       "27233    0\n",
       "27234    0\n",
       "27235    0\n",
       "27236    0\n",
       "27237    0\n",
       "27238    0\n",
       "27239    0\n",
       "27240    0\n",
       "27241    0\n",
       "27242    1\n",
       "27243    0\n",
       "27244    0\n",
       "27245    1\n",
       "27246    0\n",
       "27247    0\n",
       "27248    0\n",
       "27249    0\n",
       "27250    0\n",
       "27251    0\n",
       "27252    0\n",
       "27253    0\n",
       "27254    0\n",
       "27255    0\n",
       "27256    0\n",
       "27257    0\n",
       "27258    0\n",
       "27259    0\n",
       "27260    0\n",
       "27261    0\n",
       "        ..\n",
       "30441    0\n",
       "30442    0\n",
       "30443    0\n",
       "30444    1\n",
       "30445    1\n",
       "30446    1\n",
       "30447    0\n",
       "30448    0\n",
       "30449    0\n",
       "30450    0\n",
       "30451    0\n",
       "30452    0\n",
       "30453    0\n",
       "30454    0\n",
       "30455    0\n",
       "30456    0\n",
       "30457    0\n",
       "30458    0\n",
       "30459    0\n",
       "30460    0\n",
       "30461    0\n",
       "30462    1\n",
       "30463    0\n",
       "30464    1\n",
       "30465    0\n",
       "30466    0\n",
       "30467    0\n",
       "30468    0\n",
       "30469    0\n",
       "30470    0\n",
       "Name: flag_build, dtype: int64"
      ]
     },
     "execution_count": 15,
     "metadata": {},
     "output_type": "execute_result"
    }
   ],
   "source": [
    "tr2.loc[:,'flag_build']"
   ]
  },
  {
   "cell_type": "code",
   "execution_count": 16,
   "metadata": {
    "collapsed": true
   },
   "outputs": [],
   "source": [
    "#___price and floor error\n",
    "\n",
    "#print tst.loc[(tst.floor>tst.max_floor),['id','full_sq','floor','max_floor','sub_area']]\n",
    "\n",
    "#_____price error\n",
    "#print tr2.loc[(tr2.full_sq>180) &(tr2.price_doc<10000000),['id','full_sq','price_doc','sub_area']].index\n",
    "tr2=tr2.drop( tr2.loc[(tr2.full_sq>180) &(tr2.price_doc<10000000)].index)\n",
    "\n",
    "#___max_floor error\n",
    "tr2=tr2.drop(tr2.loc[(tr2.floor>tr2.max_floor)].index)\n",
    "correct=tst.loc[(tst.floor>tst.max_floor)].index\n",
    "tst.loc[correct,'max_floor']=tst.floor[correct]+1\n",
    "tr2=tr2.drop(tr2.loc[(tr2.num_room==0)].index)\n"
   ]
  },
  {
   "cell_type": "code",
   "execution_count": 17,
   "metadata": {},
   "outputs": [
    {
     "name": "stdout",
     "output_type": "stream",
     "text": [
      "         id  full_sq  num_room            sub_area\n",
      "2804  33278     14.8         1  Chertanovo Juzhnoe\n"
     ]
    }
   ],
   "source": [
    "#___square and num_room error\n",
    "#print tr2.loc[(tr2.full_sq==64),['id','full_sq','num_room','price_doc','sub_area']]\n",
    "\n",
    "tr2.loc[28867,'num_room']=1\n",
    "tr2.loc[29172,'num_room']=2\n",
    "\n",
    "tst.loc[464,'full_sq']=42\n",
    "tst.loc[3500,'full_sq']=50\n",
    "tst.loc[6350,'full_sq']=50\n",
    "tst.loc[5383,'full_sq']=64\n",
    "tst.loc[3174,'num_room']=1\n",
    "tst.loc[6003,'num_room']=1\n",
    "tst.loc[6181,'num_room']=2\n",
    "tst.loc[7213,'num_room']=1\n",
    "tst.loc[7313,'num_room']=1\n",
    "tst.loc[1417,'num_room']=1\n",
    "tst.loc[1429,'num_room']=1\n",
    "\n",
    "#print tr2.loc[(tr2.full_sq/tr2.num_room<15),['id','full_sq','num_room','price_doc','sub_area']]\n",
    "print tst.loc[(tst.full_sq/tst.num_room<15),['id','full_sq','num_room','sub_area']]\n"
   ]
  },
  {
   "cell_type": "code",
   "execution_count": 18,
   "metadata": {
    "collapsed": true
   },
   "outputs": [],
   "source": [
    "#_________kitchen error\n",
    "\n",
    "correct=tst.loc[(tst.kitch_sq/tst.full_sq>0.5)].index\n",
    "tst.at[correct,'kitch_sq']=8\n",
    "\n",
    "correct=tr2.loc[(tr.kitch_sq/tr.full_sq>0.5)].index\n",
    "tr2.at[correct,'kitch_sq']=8\n",
    "\n",
    "#print tst.loc[(tst.kitch_sq/tst.full_sq>0.5),['id','full_sq','kitch_sq','sub_area']]\n",
    "#print tr2.loc[(tr2.kitch_sq/tr2.full_sq>0.5),['id','full_sq','kitch_sq','sub_area']]\n",
    "\n",
    "#state error\n",
    "\n",
    "tr2.at[tr2.state.isnull(),'state']=2\n",
    "tst.at[tst.state.isnull(),'state']=2\n"
   ]
  },
  {
   "cell_type": "code",
   "execution_count": 19,
   "metadata": {
    "collapsed": true
   },
   "outputs": [],
   "source": [
    "#______last and first floor\n",
    "\n",
    "tr2.loc[:,'first']=(tr2.floor==1).apply(int)\n",
    "tr2.loc[:,'last']=(tr2.floor==tr2.max_floor).apply(int)\n",
    "tst.loc[:,'first']=(tst.floor==1).apply(int)\n",
    "tst.loc[:,'last']=(tst.floor==tst.max_floor).apply(int)\n",
    "\n",
    "\n",
    "tr2.loc[:,'floor_low']=(tr2.floor<5).apply(int)\n",
    "tst.loc[:,'floor_low']=(tst.floor<5).apply(int)\n",
    "\n",
    "tr2.loc[:,'floor_5']=(tr2.floor==5).apply(int)\n",
    "tst.loc[:,'floor_5']=(tst.floor==5).apply(int)\n",
    "\n",
    "tr2.loc[:,'floor_9']=(tr2.floor==9).apply(int)\n",
    "tst.loc[:,'floor_9']=(tst.floor==9).apply(int)\n",
    "\n",
    "tr2.loc[:,'floor_12']=(tr2.floor==12).apply(int)\n",
    "tst.loc[:,'floor_12']=(tst.floor==12).apply(int)\n",
    "\n",
    "tr2.loc[:,'floor_13_18']=((tr2.max_floor>12) & (tr2.max_floor<=18)).apply(int)\n",
    "tst.loc[:,'floor_13_18']=((tst.max_floor>12) & (tst.max_floor<=18)).apply(int)\n",
    "\n",
    "tr2.loc[:,'floor_high']=(tr2.floor>18).apply(int)\n",
    "tst.loc[:,'floor_high']=(tst.floor>15).apply(int)\n"
   ]
  },
  {
   "cell_type": "code",
   "execution_count": 20,
   "metadata": {},
   "outputs": [
    {
     "data": {
      "image/png": "[encoded data removed]",
      "text/plain": [
       "<matplotlib.figure.Figure at 0x113be9b0>"
      ]
     },
     "metadata": {},
     "output_type": "display_data"
    }
   ],
   "source": [
    "tr2.loc[:,'kremlin_near']=(tr2.kremlin_km<3).apply(int)\n",
    "tst.loc[:,'kremlin_near']=(tst.kremlin_km<3).apply(int)\n",
    "\n",
    "tr2.loc[:,'kremlin_1_5']=((tr2.kremlin_km>=1) & (tr2.kremlin_km<=5)).apply(int)\n",
    "tst.loc[:,'kremlin_1_5']=((tst.kremlin_km>=1) & (tst.kremlin_km<=5)).apply(int)\n",
    "\n",
    "tr2.loc[:,'kremlin_5_10']=((tr2.kremlin_km>5) & (tr2.kremlin_km<10)).apply(int)\n",
    "tst.loc[:,'kremlin_5_10']=((tst.kremlin_km>5) & (tst.kremlin_km<10)).apply(int)\n",
    "\n",
    "\n",
    "plt.hist(tr2.kremlin_km,20)\n",
    "plt.show()"
   ]
  },
  {
   "cell_type": "code",
   "execution_count": 21,
   "metadata": {
    "collapsed": true
   },
   "outputs": [],
   "source": [
    "# month bool?\n",
    "def make_dummies(pref,source,var_name):\n",
    "    for i in var_name:\n",
    "        dummies = pd.get_dummies(source[i],prefix=pref)\n",
    "        source=pd.concat([source,dummies],axis=1)\n",
    "    return source.drop(var_name,axis=1)\n",
    "\n",
    "tr_back_up=tr2\n",
    "tst_back_up=tst\n",
    "\n",
    "tr2=make_dummies('mat',tr_back_up,['material'])\n",
    "tst=make_dummies('mat',tst_back_up,['material'])\n",
    "\n"
   ]
  },
  {
   "cell_type": "code",
   "execution_count": null,
   "metadata": {
    "collapsed": true
   },
   "outputs": [],
   "source": []
  },
  {
   "cell_type": "code",
   "execution_count": 22,
   "metadata": {
    "collapsed": true
   },
   "outputs": [],
   "source": [
    "#ownership\n",
    "\n",
    "tr2.loc[:,'own']=(tr2.product_type=='OwnerOccupier').apply(int)\n",
    "tst.loc[:,'own']=(tst.product_type=='OwnerOccupier').apply(int)\n",
    "\n",
    "#poselenie\n",
    "#area_mo='Poselenie|Silino|Troickij okrug|Matushkino|Savelki|Severnoe|Vnukovo'\n",
    "area_mo='Poselenie'\n",
    "\n",
    "\n",
    "tr2.loc[:,'poselok']=tr2.sub_area.str.contains(area_mo).apply(int)\n",
    "tst.loc[:,'poselok']=tst.sub_area.str.contains(area_mo).apply(int)\n",
    "\n",
    "#radiation\n",
    "\n",
    "tr2.loc[:,'radiate']=(tr2.radiation_raion=='yes').apply(int)\n",
    "tst.loc[:,'radiate']=(tst.radiation_raion=='yes').apply(int)\n",
    "\n"
   ]
  },
  {
   "cell_type": "code",
   "execution_count": 23,
   "metadata": {},
   "outputs": [
    {
     "data": {
      "text/plain": [
       "Index([u'id', u'full_sq', u'life_sq', u'floor', u'max_floor', u'build_year',\n",
       "       u'num_room', u'kitch_sq', u'state', u'product_type',\n",
       "       ...\n",
       "       u'kremlin_5_10', u'mat_1', u'mat_2', u'mat_3', u'mat_4', u'mat_5',\n",
       "       u'mat_6', u'own', u'poselok', u'radiate'],\n",
       "      dtype='object', length=318)"
      ]
     },
     "execution_count": 23,
     "metadata": {},
     "output_type": "execute_result"
    }
   ],
   "source": [
    "tst.columns"
   ]
  },
  {
   "cell_type": "code",
   "execution_count": 24,
   "metadata": {},
   "outputs": [
    {
     "data": {
      "image/png": "[encoded data removed]",
      "text/plain": [
       "<matplotlib.figure.Figure at 0x12dc3860>"
      ]
     },
     "metadata": {},
     "output_type": "display_data"
    }
   ],
   "source": [
    "plt.hist((tr2.metro_min_avto),20)\n",
    "plt.show()\n",
    "\n",
    "#___metro features\n",
    "tr2.loc[:,'metro_near']=(tr2.metro_min_avto<=3.4).apply(int)\n",
    "tst.loc[:,'metro_near']=(tst.metro_min_avto<=3.4).apply(int)\n",
    "tr2.loc[:,'metro_far']=(tr2.metro_min_avto>=20).apply(int)\n",
    "tst.loc[:,'metro_far']=(tst.metro_min_avto>=20).apply(int)\n"
   ]
  },
  {
   "cell_type": "code",
   "execution_count": 39,
   "metadata": {},
   "outputs": [],
   "source": [
    "from sklearn.model_selection import train_test_split\n",
    "\n",
    "\n",
    "features=['num_room','full_sq','kitch_sq','floor','first','last',\n",
    "          'floor_low','floor_5','floor_9','floor_12','floor_13_18','floor_high',\n",
    "          'state','kremlin_near','kremlin_1_5','kremlin_5_10','mean_price',\n",
    "          'own','metro_near','metro_far','poselok','radiate','indust_part','kindergarten_km',\n",
    "          'mat_1','mat_2','mat_4','mat_5','mat_6']\n",
    "\n",
    "features_mos=['num_room','full_sq','kitch_sq','floor','first','last',\n",
    "          'floor_low','floor_5','floor_9','floor_12','floor_13_18','floor_high',\n",
    "          'state','ttk_km','kremlin_1_5','indust_part','feb16','cheat',\n",
    "          'own','metro_near','mean_price',\n",
    "              'mat_1','mat_2','mat_4','mat_5',\n",
    "             'green_zone_km','kindergarten_km','flag_build']\n",
    "\n",
    "features_pos=['num_room','full_sq','first','last',\n",
    "          'floor_12','mkad_km','metro_min_avto','indust_part','mean_price','kindergarten_km','railroad_km',\n",
    "             'mat_1','mat_2','mat_4','mat_5','y_build']\n",
    "\n",
    "np.random.seed(123)\n",
    "\n",
    "\n",
    "tr_pos=tr2[tr2.poselok==1]\n",
    "tr_mos=tr2[(tr2.poselok==0)]\n",
    "\n",
    "tr_mos=tr2[(tr2.poselok==0)&(tr2.month>4)]\n",
    "#tr_mos=tr2[(tr2.poselok==0)]\n",
    "\n",
    "tst_pos=tst[tst.poselok==1]\n",
    "tst_mos=tst[tst.poselok==0]\n",
    "\n",
    "X_train, X_test, y_train, y_test = train_test_split(tr2.loc[:,features], tr2.price_doc, test_size=0.33, random_state=42)\n",
    "X_train_pos, X_test_pos, y_train_pos, y_test_pos = train_test_split(tr_pos.loc[:,features_pos], tr_pos.price_doc, test_size=0.33, random_state=42)\n",
    "X_train_mos, X_test_mos, y_train_mos, y_test_mos = train_test_split(tr_mos.loc[:,features_mos], tr_mos.price_doc, test_size=0.33, random_state=42)\n",
    "\n",
    "y_train_pos=np.sqrt(y_train_pos)\n",
    "y_test_pos=np.sqrt(y_test_pos)\n",
    "\n",
    "#y_train_mos=np.sqrt(y_train_mos)\n",
    "#y_test_mos=np.sqrt(y_test_mos)"
   ]
  },
  {
   "cell_type": "code",
   "execution_count": 40,
   "metadata": {
    "collapsed": true
   },
   "outputs": [],
   "source": [
    "alph_regr=1\n",
    "xgb_params = {\n",
    "    'eta': 0.05,\n",
    "    'max_depth': 5,\n",
    "    'subsample': 1.0,\n",
    "    'colsample_bytree': 0.7,\n",
    "    'objective': 'reg:linear',\n",
    "    'eval_metric': 'rmse',\n",
    "    'silent': 1\n",
    "}\n",
    "#poselok linear\n",
    "#fit2= LinearRegression()\n"
   ]
  },
  {
   "cell_type": "code",
   "execution_count": 41,
   "metadata": {},
   "outputs": [],
   "source": [
    "dtrain = xgb.DMatrix(X_train_pos, y_train_pos, feature_names=features_pos)\n",
    "dval = xgb.DMatrix(X_test_pos, y_test_pos, feature_names=features_pos)"
   ]
  },
  {
   "cell_type": "code",
   "execution_count": 42,
   "metadata": {},
   "outputs": [
    {
     "name": "stdout",
     "output_type": "stream",
     "text": [
      "[0]\tval-rmse:2316.18\n",
      "Will train until val-rmse hasn't improved in 20 rounds.\n",
      "[20]\tval-rmse:872.431\n",
      "[40]\tval-rmse:376.013\n",
      "[60]\tval-rmse:224.665\n",
      "[80]\tval-rmse:188.062\n",
      "[100]\tval-rmse:178.69\n",
      "[120]\tval-rmse:174.079\n",
      "[140]\tval-rmse:172.229\n",
      "[160]\tval-rmse:172.112\n",
      "Stopping. Best iteration:\n",
      "[145]\tval-rmse:172.048\n",
      "\n",
      "________________\n",
      "0.860230124165\n",
      "260 1368.28 3181.31\n",
      "260 994.987437107 3878.56803473\n"
     ]
    },
    {
     "data": {
      "text/plain": [
       "{'first': 82,\n",
       " 'floor_12': 50,\n",
       " 'full_sq': 675,\n",
       " 'indust_part': 128,\n",
       " 'kindergarten_km': 374,\n",
       " 'last': 49,\n",
       " 'mat_1': 46,\n",
       " 'mat_2': 15,\n",
       " 'mat_4': 47,\n",
       " 'mat_5': 21,\n",
       " 'mean_price': 211,\n",
       " 'metro_min_avto': 354,\n",
       " 'mkad_km': 444,\n",
       " 'num_room': 155,\n",
       " 'railroad_km': 420,\n",
       " 'y_build': 56}"
      ]
     },
     "execution_count": 42,
     "metadata": {},
     "output_type": "execute_result"
    }
   ],
   "source": [
    "partial_model = xgb.train(xgb_params, dtrain, num_boost_round=1000, evals=[(dval, 'val')],\n",
    "                       early_stopping_rounds=20, verbose_eval=20)\n",
    "\n",
    "#partial_model = xgb.train(xgb_params, dtrain, num_boost_round=1000)\n",
    "\n",
    "pred = partial_model.predict(dval)\n",
    "print '________________'\n",
    "print r2_score (y_test_pos,list(pred))\n",
    "print len(pred),min(pred),max(pred)\n",
    "print len(y_test_pos),min(y_test_pos),max(y_test_pos)\n",
    "\n",
    "best_pos = partial_model.best_iteration\n",
    "partial_model.get_score()"
   ]
  },
  {
   "cell_type": "code",
   "execution_count": null,
   "metadata": {},
   "outputs": [],
   "source": []
  },
  {
   "cell_type": "code",
   "execution_count": 43,
   "metadata": {},
   "outputs": [
    {
     "data": {
      "text/html": [
       "<div>\n",
       "<table border=\"1\" class=\"dataframe\">\n",
       "  <thead>\n",
       "    <tr style=\"text-align: right;\">\n",
       "      <th></th>\n",
       "      <th>num_room</th>\n",
       "      <th>full_sq</th>\n",
       "      <th>kitch_sq</th>\n",
       "      <th>floor</th>\n",
       "      <th>first</th>\n",
       "      <th>last</th>\n",
       "      <th>floor_low</th>\n",
       "      <th>floor_5</th>\n",
       "      <th>floor_9</th>\n",
       "      <th>floor_12</th>\n",
       "      <th>...</th>\n",
       "      <th>own</th>\n",
       "      <th>metro_near</th>\n",
       "      <th>mean_price</th>\n",
       "      <th>mat_1</th>\n",
       "      <th>mat_2</th>\n",
       "      <th>mat_4</th>\n",
       "      <th>mat_5</th>\n",
       "      <th>green_zone_km</th>\n",
       "      <th>kindergarten_km</th>\n",
       "      <th>flag_build</th>\n",
       "    </tr>\n",
       "  </thead>\n",
       "  <tbody>\n",
       "    <tr>\n",
       "      <th>29939</th>\n",
       "      <td>3.0</td>\n",
       "      <td>68</td>\n",
       "      <td>7.0</td>\n",
       "      <td>5.0</td>\n",
       "      <td>0</td>\n",
       "      <td>0</td>\n",
       "      <td>0</td>\n",
       "      <td>1</td>\n",
       "      <td>0</td>\n",
       "      <td>0</td>\n",
       "      <td>...</td>\n",
       "      <td>0</td>\n",
       "      <td>1</td>\n",
       "      <td>180000.0</td>\n",
       "      <td>0</td>\n",
       "      <td>1</td>\n",
       "      <td>0</td>\n",
       "      <td>0</td>\n",
       "      <td>0.349370</td>\n",
       "      <td>0.195262</td>\n",
       "      <td>0</td>\n",
       "    </tr>\n",
       "    <tr>\n",
       "      <th>30059</th>\n",
       "      <td>2.0</td>\n",
       "      <td>56</td>\n",
       "      <td>10.0</td>\n",
       "      <td>16.0</td>\n",
       "      <td>0</td>\n",
       "      <td>0</td>\n",
       "      <td>0</td>\n",
       "      <td>0</td>\n",
       "      <td>0</td>\n",
       "      <td>0</td>\n",
       "      <td>...</td>\n",
       "      <td>1</td>\n",
       "      <td>1</td>\n",
       "      <td>187000.0</td>\n",
       "      <td>0</td>\n",
       "      <td>0</td>\n",
       "      <td>1</td>\n",
       "      <td>0</td>\n",
       "      <td>0.291501</td>\n",
       "      <td>0.241238</td>\n",
       "      <td>1</td>\n",
       "    </tr>\n",
       "    <tr>\n",
       "      <th>30281</th>\n",
       "      <td>2.0</td>\n",
       "      <td>62</td>\n",
       "      <td>1.0</td>\n",
       "      <td>14.0</td>\n",
       "      <td>0</td>\n",
       "      <td>0</td>\n",
       "      <td>0</td>\n",
       "      <td>0</td>\n",
       "      <td>0</td>\n",
       "      <td>0</td>\n",
       "      <td>...</td>\n",
       "      <td>1</td>\n",
       "      <td>1</td>\n",
       "      <td>187000.0</td>\n",
       "      <td>1</td>\n",
       "      <td>0</td>\n",
       "      <td>0</td>\n",
       "      <td>0</td>\n",
       "      <td>0.038323</td>\n",
       "      <td>0.958374</td>\n",
       "      <td>0</td>\n",
       "    </tr>\n",
       "    <tr>\n",
       "      <th>29621</th>\n",
       "      <td>1.0</td>\n",
       "      <td>38</td>\n",
       "      <td>10.0</td>\n",
       "      <td>14.0</td>\n",
       "      <td>0</td>\n",
       "      <td>0</td>\n",
       "      <td>0</td>\n",
       "      <td>0</td>\n",
       "      <td>0</td>\n",
       "      <td>0</td>\n",
       "      <td>...</td>\n",
       "      <td>1</td>\n",
       "      <td>1</td>\n",
       "      <td>180000.0</td>\n",
       "      <td>1</td>\n",
       "      <td>0</td>\n",
       "      <td>0</td>\n",
       "      <td>0</td>\n",
       "      <td>0.001503</td>\n",
       "      <td>0.428517</td>\n",
       "      <td>1</td>\n",
       "    </tr>\n",
       "    <tr>\n",
       "      <th>29904</th>\n",
       "      <td>1.0</td>\n",
       "      <td>96</td>\n",
       "      <td>22.0</td>\n",
       "      <td>18.0</td>\n",
       "      <td>0</td>\n",
       "      <td>0</td>\n",
       "      <td>0</td>\n",
       "      <td>0</td>\n",
       "      <td>0</td>\n",
       "      <td>0</td>\n",
       "      <td>...</td>\n",
       "      <td>1</td>\n",
       "      <td>1</td>\n",
       "      <td>180000.0</td>\n",
       "      <td>0</td>\n",
       "      <td>0</td>\n",
       "      <td>1</td>\n",
       "      <td>0</td>\n",
       "      <td>0.184107</td>\n",
       "      <td>0.499789</td>\n",
       "      <td>1</td>\n",
       "    </tr>\n",
       "  </tbody>\n",
       "</table>\n",
       "<p>5 rows × 28 columns</p>\n",
       "</div>"
      ],
      "text/plain": [
       "       num_room  full_sq  kitch_sq  floor  first  last  floor_low  floor_5  \\\n",
       "29939       3.0       68       7.0    5.0      0     0          0        1   \n",
       "30059       2.0       56      10.0   16.0      0     0          0        0   \n",
       "30281       2.0       62       1.0   14.0      0     0          0        0   \n",
       "29621       1.0       38      10.0   14.0      0     0          0        0   \n",
       "29904       1.0       96      22.0   18.0      0     0          0        0   \n",
       "\n",
       "       floor_9  floor_12     ...      own  metro_near  mean_price  mat_1  \\\n",
       "29939        0         0     ...        0           1    180000.0      0   \n",
       "30059        0         0     ...        1           1    187000.0      0   \n",
       "30281        0         0     ...        1           1    187000.0      1   \n",
       "29621        0         0     ...        1           1    180000.0      1   \n",
       "29904        0         0     ...        1           1    180000.0      0   \n",
       "\n",
       "       mat_2  mat_4  mat_5  green_zone_km  kindergarten_km  flag_build  \n",
       "29939      1      0      0       0.349370         0.195262           0  \n",
       "30059      0      1      0       0.291501         0.241238           1  \n",
       "30281      0      0      0       0.038323         0.958374           0  \n",
       "29621      0      0      0       0.001503         0.428517           1  \n",
       "29904      0      1      0       0.184107         0.499789           1  \n",
       "\n",
       "[5 rows x 28 columns]"
      ]
     },
     "execution_count": 43,
     "metadata": {},
     "output_type": "execute_result"
    }
   ],
   "source": [
    "X_train_mos.head()"
   ]
  },
  {
   "cell_type": "code",
   "execution_count": 45,
   "metadata": {},
   "outputs": [
    {
     "name": "stdout",
     "output_type": "stream",
     "text": [
      "[('num_room', -87.608527793352323), ('full_sq', 10.609756008639458), ('kitch_sq', -10.216864020464085), ('floor', 3.1200092787603873), ('first', -991.66804644997796), ('last', -122.85585730553511), ('floor_low', -33.780440883612897), ('floor_5', -0.0), ('floor_9', -54.601420127438345), ('floor_12', 61.064047719746476), ('floor_13_18', 71.863136421687983), ('floor_high', 308.19467220915902), ('state', 50.800162917855872), ('ttk_km', -23.584523213568396), ('kremlin_1_5', 444.99475671973988), ('indust_part', -763.1927882849792), ('feb16', -0.0064796952228945975), ('cheat', 0.72523729116451618), ('own', -0.0), ('metro_near', -1.9664344512314849), ('mean_price', -0.00035554642358405638), ('mat_1', 97.089653067328058), ('mat_2', 207.30158176734756), ('mat_4', 130.68391164498075), ('mat_5', 222.69728389151149), ('green_zone_km', -35.61508410690854), ('kindergarten_km', -7.7789834058839871), ('flag_build', 112.37878580349958)]\n",
      "________________\n",
      "0.711912373161\n",
      "203 1025355.85159 51344032.4593\n",
      "203 1000000 70000000\n"
     ]
    }
   ],
   "source": [
    "#moscow linear\n",
    "#fit2= LinearRegression()\n",
    "fit2 = Lasso(alpha=alph_regr,fit_intercept=True,positive=False)\n",
    "fit2= fit2.fit(X_train_mos, np.sqrt(y_train_mos))\n",
    "print(zip(features_mos,fit2.coef_))\n",
    "pred = fit2.predict(X_test_mos)\n",
    "pred=pred**2\n",
    "\n",
    "print '________________'\n",
    "print r2_score (y_test_mos,pred)\n",
    "print len(pred),min(pred),max(pred)\n",
    "print len(y_test_mos),min(y_test_mos),max(y_test_mos)\n"
   ]
  },
  {
   "cell_type": "code",
   "execution_count": 59,
   "metadata": {},
   "outputs": [
    {
     "name": "stdout",
     "output_type": "stream",
     "text": [
      "1575 1.9277e+06 1.07668e+07\n",
      "785 994.987437107 3878.56803473\n"
     ]
    }
   ],
   "source": [
    "#3BOOST for pos \n",
    "#fit = LinearRegression()\n",
    "X=tr2.loc[tr2.poselok==1,features_pos]\n",
    "Y=np.sqrt(tr2.loc[tr2.poselok==1,'price_doc'])\n",
    "dtrain_all = xgb.DMatrix(X, Y, feature_names=features_pos)\n",
    "dtest_all = xgb.DMatrix(tst.loc[tst.poselok==1,features_pos])\n",
    "\n",
    "\n",
    "fit = xgb.train(dict(xgb_params, silent=0), dtrain_all, num_boost_round=best_pos)\n",
    "\n",
    "pred_pos = fit.predict(dtest_all)\n",
    "pred_pos=pred_pos**2\n",
    "#pred_pos[pred_pos<900000]=900000\n",
    "\n",
    "print len(pred_pos),min(pred_pos),max(pred_pos)\n",
    "print len(Y),min(Y),max(Y)\n"
   ]
  },
  {
   "cell_type": "code",
   "execution_count": 60,
   "metadata": {},
   "outputs": [
    {
     "name": "stdout",
     "output_type": "stream",
     "text": [
      "6087 900000.0 117686619.954\n"
     ]
    }
   ],
   "source": [
    "#3 linear model for pos and mos\n",
    "#fit = LinearRegression()\n",
    "fit = Lasso(alpha=alph_regr,fit_intercept=True,positive=False)\n",
    "\n",
    "X=tr2.loc[(tr2.poselok==0)&(tr2.month>2),features_mos]\n",
    "Y=tr2.loc[(tr2.poselok==0)&(tr2.month>2),'price_doc']\n",
    "fit = fit.fit(X, np.sqrt(Y))\n",
    "\n",
    "pred_mos = fit.predict(tst.loc[tst.poselok==0,features_mos])\n",
    "pred_mos=pred_mos**2\n",
    "pred_mos[pred_mos<900000]=900000\n",
    "print len(pred_mos),min(pred_mos),max(pred_mos)\n",
    "\n"
   ]
  },
  {
   "cell_type": "code",
   "execution_count": 61,
   "metadata": {
    "collapsed": true
   },
   "outputs": [],
   "source": [
    "res1=pd.DataFrame({'id':tst.loc[tst.poselok==1,'id'],'price_doc':(pred_pos)})\n",
    "#print res1.describe()\n",
    "\n",
    "res2=pd.DataFrame({'id':tst.loc[tst.poselok==0,'id'],'price_doc':(pred_mos)})\n",
    "#print res2.describe()\n",
    "res=pd.concat([res1,res2])\n",
    "del res1,res2"
   ]
  },
  {
   "cell_type": "code",
   "execution_count": 62,
   "metadata": {
    "collapsed": true
   },
   "outputs": [],
   "source": [
    "#pd.DataFrame({'id':tst.id,'price_doc':(pred)}).to_csv(location+'submission.csv',sep=',',index=False)\n",
    "res.to_csv(location+'submission2.csv',sep=',',index=False)\n"
   ]
  },
  {
   "cell_type": "code",
   "execution_count": 63,
   "metadata": {
    "collapsed": true
   },
   "outputs": [],
   "source": [
    "np.random.seed(123)\n"
   ]
  },
  {
   "cell_type": "code",
   "execution_count": 66,
   "metadata": {},
   "outputs": [
    {
     "data": {
      "image/png": "[encoded data removed]",
      "text/plain": [
       "<matplotlib.figure.Figure at 0x10d7c3c8>"
      ]
     },
     "metadata": {},
     "output_type": "display_data"
    },
    {
     "data": {
      "text/plain": [
       "1       8.457482e+06\n",
       "3       4.439652e+06\n",
       "4       5.193691e+06\n",
       "7       4.609672e+06\n",
       "9       5.532588e+06\n",
       "11      5.187942e+06\n",
       "12      3.792879e+06\n",
       "14      6.686282e+06\n",
       "15      5.614052e+06\n",
       "20      7.822154e+06\n",
       "28      3.396250e+06\n",
       "32      2.927910e+06\n",
       "33      5.198270e+06\n",
       "40      3.328967e+06\n",
       "42      6.455005e+06\n",
       "48      7.543750e+06\n",
       "52      5.280364e+06\n",
       "53      5.018955e+06\n",
       "58      4.700524e+06\n",
       "60      7.448348e+06\n",
       "62      5.583606e+06\n",
       "68      2.099730e+06\n",
       "72      4.107883e+06\n",
       "74      4.396918e+06\n",
       "75      5.890726e+06\n",
       "77      5.970298e+06\n",
       "78      2.067856e+06\n",
       "92      7.508506e+06\n",
       "93      2.129412e+06\n",
       "98      5.280364e+06\n",
       "            ...     \n",
       "7618    1.979559e+07\n",
       "7619    6.335845e+06\n",
       "7620    6.808390e+06\n",
       "7621    1.174679e+07\n",
       "7623    1.521016e+07\n",
       "7625    1.430404e+07\n",
       "7627    8.137262e+06\n",
       "7628    1.137536e+07\n",
       "7629    1.645915e+07\n",
       "7630    1.186067e+07\n",
       "7631    7.153299e+06\n",
       "7632    5.811111e+06\n",
       "7634    1.031000e+07\n",
       "7635    5.924218e+06\n",
       "7639    7.427855e+06\n",
       "7640    1.000883e+07\n",
       "7642    5.993179e+06\n",
       "7643    8.665019e+06\n",
       "7644    1.019210e+07\n",
       "7646    7.965817e+06\n",
       "7647    8.090079e+06\n",
       "7648    8.272055e+06\n",
       "7649    7.230405e+06\n",
       "7651    8.988318e+06\n",
       "7652    9.495068e+06\n",
       "7653    6.163227e+06\n",
       "7657    7.801755e+06\n",
       "7659    4.608575e+06\n",
       "7660    5.051106e+06\n",
       "7661    8.846458e+06\n",
       "Name: price_doc, dtype: float64"
      ]
     },
     "execution_count": 66,
     "metadata": {},
     "output_type": "execute_result"
    }
   ],
   "source": [
    "plt.hist(np.sqrt(res.price_doc),100)\n",
    "plt.show()\n",
    "res.price_doc"
   ]
  },
  {
   "cell_type": "code",
   "execution_count": null,
   "metadata": {
    "collapsed": true
   },
   "outputs": [],
   "source": [
    "\n"
   ]
  },
  {
   "cell_type": "code",
   "execution_count": null,
   "metadata": {
    "collapsed": true
   },
   "outputs": [],
   "source": []
  }
 ],
 "metadata": {
  "kernelspec": {
   "display_name": "Python 2",
   "language": "python",
   "name": "python2"
  },
  "language_info": {
   "codemirror_mode": {
    "name": "ipython",
    "version": 2
   },
   "file_extension": ".py",
   "mimetype": "text/x-python",
   "name": "python",
   "nbconvert_exporter": "python",
   "pygments_lexer": "ipython2",
   "version": "2.7.13"
  }
 },
 "nbformat": 4,
 "nbformat_minor": 2
}
